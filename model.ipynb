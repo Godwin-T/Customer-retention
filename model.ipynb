{
 "cells": [
  {
   "cell_type": "code",
   "execution_count": 1,
   "metadata": {},
   "outputs": [],
   "source": [
    "import pandas as pd\n",
    "import numpy as np\n",
    "\n",
    "import mlflow\n",
    "from hyperopt import hp, STATUS_OK, fmin, Trials, tpe\n",
    "from hyperopt.pyll import scope\n",
    "\n",
    "from matplotlib import pyplot as plt\n",
    "from sklearn.feature_extraction import DictVectorizer\n",
    "from sklearn.model_selection import train_test_split\n",
    "from sklearn.linear_model import LogisticRegression\n",
    "from sklearn.tree import DecisionTreeClassifier\n",
    "from sklearn.ensemble import RandomForestClassifier\n",
    "from sklearn.pipeline import make_pipeline\n",
    "from sklearn.neighbors import KNeighborsClassifier\n",
    "import xgboost as xgb\n",
    "\n",
    "from sklearn.metrics import precision_score, recall_score, f1_score, accuracy_score\n",
    "\n",
    "import warnings\n",
    "warnings.filterwarnings('ignore')"
   ]
  },
  {
   "cell_type": "code",
   "execution_count": 3,
   "metadata": {},
   "outputs": [],
   "source": [
    "mlflow.set_tracking_uri('sqlite:///mlflow.db')\n",
    "mlflow.set_experiment('Telcom Churn')\n",
    "mlflow.sklearn.autolog(True)"
   ]
  },
  {
   "cell_type": "code",
   "execution_count": 4,
   "metadata": {},
   "outputs": [],
   "source": [
    "def load_data(path):\n",
    "    data = pd.read_csv(path)\n",
    "    data.columns = data.columns.str.replace(' ', '_').str.lower()\n",
    "\n",
    "    categorical_col = data.dtypes[data.dtypes == 'object'].index.tolist()\n",
    "    for col in categorical_col:\n",
    "        data[col] = data[col].str.replace(' ', '_').str.lower()\n",
    "\n",
    "    data = data[data['totalcharges'] != '_']\n",
    "    data['totalcharges'] = data['totalcharges'].astype('float32')\n",
    "    return data"
   ]
  },
  {
   "cell_type": "code",
   "execution_count": 5,
   "metadata": {},
   "outputs": [],
   "source": [
    "def prepare_data(data):\n",
    "\n",
    "    data['churn'] = (data.churn=='yes').astype(int)\n",
    "    categorical_col = data.dtypes[data.dtypes == 'object'].index.tolist()\n",
    "    numerical_col = ['tenure', 'totalcharges', 'monthlycharges']\n",
    "\n",
    "    categorical_col.remove('customerid')\n",
    "    feature_cols = categorical_col + numerical_col\n",
    "\n",
    "    train_data, test_data = train_test_split(data, test_size=0.25,\n",
    "                                            random_state=0)\n",
    "\n",
    "    train_x = train_data.drop(['churn'], axis = 1)\n",
    "    test_x = test_data.drop(['churn'], axis = 1)\n",
    "\n",
    "    train_x = train_x[feature_cols].to_dict(orient = 'records')\n",
    "    test_x = test_x[feature_cols].to_dict(orient = 'records')\n",
    "\n",
    "    train_y = train_data.pop('churn')\n",
    "    test_y = test_data.pop('churn')\n",
    "\n",
    "    out = (train_x, train_y, test_x, test_y)\n",
    "    return out"
   ]
  },
  {
   "cell_type": "code",
   "execution_count": 6,
   "metadata": {},
   "outputs": [],
   "source": [
    "def log_evaluation(y_true, y_pred):\n",
    "\n",
    "    accuracy_ = accuracy_score(y_true, y_pred)\n",
    "    precision_ = precision_score(y_true, y_pred)\n",
    "    recall_ = recall_score(y_true, y_pred)\n",
    "    f1score_ = f1_score(y_true, y_pred)\n",
    "\n",
    "    out = {\"test_accuracy_score\" : accuracy_, \n",
    "    \"test_precision_score\" :precision_, \n",
    "    \"test_recall_score\" : recall_, \n",
    "    \"test_f1_score\" : f1score_}\n",
    "    return out"
   ]
  },
  {
   "cell_type": "code",
   "execution_count": 7,
   "metadata": {},
   "outputs": [
    {
     "name": "stderr",
     "output_type": "stream",
     "text": [
      "2023/08/15 07:53:04 WARNING mlflow.sklearn: Unrecognized dataset type <class 'list'>. Dataset logging skipped.\n",
      "2023/08/15 07:53:06 WARNING mlflow.sklearn: Failed to infer model signature: ('Expected one of the following types:\\n- pandas.DataFrame\\n- pandas.Series\\n- numpy.ndarray\\n- dictionary of (name -> numpy.ndarray)\\n- pyspark.sql.DataFrame\\n', \"- scipy.sparse.csr_matrix\\n- scipy.sparse.csc_matrix\\n- str\\n- List[str]\\n- List[Dict[str, Union[str, List[str]]]]\\n- Dict[str, Union[str, List[str]]]\\n- bytes\\nbut got '<class 'list'>'\")\n",
      "2023/08/15 07:53:09 WARNING mlflow.sklearn: Unrecognized dataset type <class 'list'>. Dataset logging skipped.\n",
      "2023/08/15 07:53:09 WARNING mlflow.sklearn: Unrecognized dataset type <class 'list'>. Dataset logging skipped.\n",
      "2023/08/15 07:53:11 WARNING mlflow.sklearn: Failed to infer model signature: ('Expected one of the following types:\\n- pandas.DataFrame\\n- pandas.Series\\n- numpy.ndarray\\n- dictionary of (name -> numpy.ndarray)\\n- pyspark.sql.DataFrame\\n', \"- scipy.sparse.csr_matrix\\n- scipy.sparse.csc_matrix\\n- str\\n- List[str]\\n- List[Dict[str, Union[str, List[str]]]]\\n- Dict[str, Union[str, List[str]]]\\n- bytes\\nbut got '<class 'list'>'\")\n",
      "2023/08/15 07:53:14 WARNING mlflow.sklearn: Unrecognized dataset type <class 'list'>. Dataset logging skipped.\n",
      "2023/08/15 07:53:14 WARNING mlflow.sklearn: Unrecognized dataset type <class 'list'>. Dataset logging skipped.\n",
      "2023/08/15 07:53:18 WARNING mlflow.sklearn: Failed to infer model signature: ('Expected one of the following types:\\n- pandas.DataFrame\\n- pandas.Series\\n- numpy.ndarray\\n- dictionary of (name -> numpy.ndarray)\\n- pyspark.sql.DataFrame\\n', \"- scipy.sparse.csr_matrix\\n- scipy.sparse.csc_matrix\\n- str\\n- List[str]\\n- List[Dict[str, Union[str, List[str]]]]\\n- Dict[str, Union[str, List[str]]]\\n- bytes\\nbut got '<class 'list'>'\")\n",
      "2023/08/15 07:53:21 WARNING mlflow.sklearn: Unrecognized dataset type <class 'list'>. Dataset logging skipped.\n",
      "2023/08/15 07:53:21 WARNING mlflow.sklearn: Unrecognized dataset type <class 'list'>. Dataset logging skipped.\n",
      "2023/08/15 07:53:24 WARNING mlflow.sklearn: Failed to infer model signature: ('Expected one of the following types:\\n- pandas.DataFrame\\n- pandas.Series\\n- numpy.ndarray\\n- dictionary of (name -> numpy.ndarray)\\n- pyspark.sql.DataFrame\\n', \"- scipy.sparse.csr_matrix\\n- scipy.sparse.csc_matrix\\n- str\\n- List[str]\\n- List[Dict[str, Union[str, List[str]]]]\\n- Dict[str, Union[str, List[str]]]\\n- bytes\\nbut got '<class 'list'>'\")\n",
      "2023/08/15 07:53:28 WARNING mlflow.sklearn: Unrecognized dataset type <class 'list'>. Dataset logging skipped.\n",
      "2023/08/15 07:53:28 WARNING mlflow.sklearn: Unrecognized dataset type <class 'list'>. Dataset logging skipped.\n",
      "2023/08/15 07:53:30 WARNING mlflow.sklearn: Failed to infer model signature: ('Expected one of the following types:\\n- pandas.DataFrame\\n- pandas.Series\\n- numpy.ndarray\\n- dictionary of (name -> numpy.ndarray)\\n- pyspark.sql.DataFrame\\n', \"- scipy.sparse.csr_matrix\\n- scipy.sparse.csc_matrix\\n- str\\n- List[str]\\n- List[Dict[str, Union[str, List[str]]]]\\n- Dict[str, Union[str, List[str]]]\\n- bytes\\nbut got '<class 'list'>'\")\n",
      "2023/08/15 07:53:32 WARNING mlflow.sklearn: Unrecognized dataset type <class 'list'>. Dataset logging skipped.\n",
      "2023/08/15 07:53:33 WARNING mlflow.sklearn: Unrecognized dataset type <class 'list'>. Dataset logging skipped.\n",
      "2023/08/15 07:53:35 WARNING mlflow.sklearn: Failed to infer model signature: ('Expected one of the following types:\\n- pandas.DataFrame\\n- pandas.Series\\n- numpy.ndarray\\n- dictionary of (name -> numpy.ndarray)\\n- pyspark.sql.DataFrame\\n', \"- scipy.sparse.csr_matrix\\n- scipy.sparse.csc_matrix\\n- str\\n- List[str]\\n- List[Dict[str, Union[str, List[str]]]]\\n- Dict[str, Union[str, List[str]]]\\n- bytes\\nbut got '<class 'list'>'\")\n",
      "2023/08/15 07:53:37 WARNING mlflow.sklearn: Unrecognized dataset type <class 'list'>. Dataset logging skipped.\n",
      "2023/08/15 07:53:37 WARNING mlflow.sklearn: Unrecognized dataset type <class 'list'>. Dataset logging skipped.\n",
      "2023/08/15 07:53:40 WARNING mlflow.sklearn: Failed to infer model signature: ('Expected one of the following types:\\n- pandas.DataFrame\\n- pandas.Series\\n- numpy.ndarray\\n- dictionary of (name -> numpy.ndarray)\\n- pyspark.sql.DataFrame\\n', \"- scipy.sparse.csr_matrix\\n- scipy.sparse.csc_matrix\\n- str\\n- List[str]\\n- List[Dict[str, Union[str, List[str]]]]\\n- Dict[str, Union[str, List[str]]]\\n- bytes\\nbut got '<class 'list'>'\")\n",
      "2023/08/15 07:53:42 WARNING mlflow.sklearn: Unrecognized dataset type <class 'list'>. Dataset logging skipped.\n",
      "2023/08/15 07:53:43 WARNING mlflow.sklearn: Unrecognized dataset type <class 'list'>. Dataset logging skipped.\n",
      "2023/08/15 07:53:45 WARNING mlflow.sklearn: Failed to infer model signature: ('Expected one of the following types:\\n- pandas.DataFrame\\n- pandas.Series\\n- numpy.ndarray\\n- dictionary of (name -> numpy.ndarray)\\n- pyspark.sql.DataFrame\\n', \"- scipy.sparse.csr_matrix\\n- scipy.sparse.csc_matrix\\n- str\\n- List[str]\\n- List[Dict[str, Union[str, List[str]]]]\\n- Dict[str, Union[str, List[str]]]\\n- bytes\\nbut got '<class 'list'>'\")\n",
      "2023/08/15 07:53:47 WARNING mlflow.sklearn: Unrecognized dataset type <class 'list'>. Dataset logging skipped.\n",
      "2023/08/15 07:53:47 WARNING mlflow.sklearn: Unrecognized dataset type <class 'list'>. Dataset logging skipped.\n",
      "2023/08/15 07:53:50 WARNING mlflow.sklearn: Failed to infer model signature: ('Expected one of the following types:\\n- pandas.DataFrame\\n- pandas.Series\\n- numpy.ndarray\\n- dictionary of (name -> numpy.ndarray)\\n- pyspark.sql.DataFrame\\n', \"- scipy.sparse.csr_matrix\\n- scipy.sparse.csc_matrix\\n- str\\n- List[str]\\n- List[Dict[str, Union[str, List[str]]]]\\n- Dict[str, Union[str, List[str]]]\\n- bytes\\nbut got '<class 'list'>'\")\n",
      "2023/08/15 07:53:52 WARNING mlflow.sklearn: Unrecognized dataset type <class 'list'>. Dataset logging skipped.\n",
      "2023/08/15 07:53:52 WARNING mlflow.sklearn: Unrecognized dataset type <class 'list'>. Dataset logging skipped.\n",
      "2023/08/15 07:53:55 WARNING mlflow.sklearn: Failed to infer model signature: ('Expected one of the following types:\\n- pandas.DataFrame\\n- pandas.Series\\n- numpy.ndarray\\n- dictionary of (name -> numpy.ndarray)\\n- pyspark.sql.DataFrame\\n', \"- scipy.sparse.csr_matrix\\n- scipy.sparse.csc_matrix\\n- str\\n- List[str]\\n- List[Dict[str, Union[str, List[str]]]]\\n- Dict[str, Union[str, List[str]]]\\n- bytes\\nbut got '<class 'list'>'\")\n",
      "2023/08/15 07:53:57 WARNING mlflow.sklearn: Unrecognized dataset type <class 'list'>. Dataset logging skipped.\n"
     ]
    }
   ],
   "source": [
    "path = './data/Telco-Customer-Churn.csv'\n",
    "data = load_data(path)\n",
    "train_x, train_y, test_x, \\\n",
    "        test_y = prepare_data(data)\n",
    "\n",
    "# Linear Model\n",
    "c_values = range(1, 100, 10)\n",
    "for val in c_values:\n",
    "\n",
    "    with mlflow.start_run():\n",
    "    \n",
    "        mlflow.set_tag('Developer', 'Godwin')\n",
    "\n",
    "        lr_pipeline = make_pipeline(DictVectorizer(sparse= False),\n",
    "                            LogisticRegression(C =val))\n",
    "\n",
    "        lr_pipeline.fit(train_x, train_y)\n",
    "\n",
    "        test_pred = lr_pipeline.predict(test_x)\n",
    "        test_output_eval = log_evaluation(test_y, test_pred)\n",
    "        mlflow.log_metrics(test_output_eval)"
   ]
  },
  {
   "cell_type": "code",
   "execution_count": 8,
   "metadata": {},
   "outputs": [
    {
     "name": "stdout",
     "output_type": "stream",
     "text": [
      "  0%|          | 0/50 [00:00<?, ?trial/s, best loss=?]"
     ]
    },
    {
     "name": "stderr",
     "output_type": "stream",
     "text": [
      "2023/08/15 07:53:58 WARNING mlflow.sklearn: Unrecognized dataset type <class 'list'>. Dataset logging skipped.\n",
      "\n",
      "2023/08/15 07:53:59 WARNING mlflow.sklearn: Failed to infer model signature: ('Expected one of the following types:\\n- pandas.DataFrame\\n- pandas.Series\\n- numpy.ndarray\\n- dictionary of (name -> numpy.ndarray)\\n- pyspark.sql.DataFrame\\n', \"- scipy.sparse.csr_matrix\\n- scipy.sparse.csc_matrix\\n- str\\n- List[str]\\n- List[Dict[str, Union[str, List[str]]]]\\n- Dict[str, Union[str, List[str]]]\\n- bytes\\nbut got '<class 'list'>'\")\n",
      "\n",
      "2023/08/15 07:54:01 WARNING mlflow.sklearn: Unrecognized dataset type <class 'list'>. Dataset logging skipped.\n",
      "\n"
     ]
    },
    {
     "name": "stdout",
     "output_type": "stream",
     "text": [
      "  2%|▏         | 1/50 [00:03<03:08,  3.85s/trial, best loss: -0.5591647331786543]"
     ]
    },
    {
     "name": "stderr",
     "output_type": "stream",
     "text": [
      "2023/08/15 07:54:02 WARNING mlflow.sklearn: Unrecognized dataset type <class 'list'>. Dataset logging skipped.\n",
      "\n",
      "2023/08/15 07:54:03 WARNING mlflow.sklearn: Failed to infer model signature: ('Expected one of the following types:\\n- pandas.DataFrame\\n- pandas.Series\\n- numpy.ndarray\\n- dictionary of (name -> numpy.ndarray)\\n- pyspark.sql.DataFrame\\n', \"- scipy.sparse.csr_matrix\\n- scipy.sparse.csc_matrix\\n- str\\n- List[str]\\n- List[Dict[str, Union[str, List[str]]]]\\n- Dict[str, Union[str, List[str]]]\\n- bytes\\nbut got '<class 'list'>'\")\n",
      "\n",
      "2023/08/15 07:54:05 WARNING mlflow.sklearn: Unrecognized dataset type <class 'list'>. Dataset logging skipped.\n",
      "\n"
     ]
    },
    {
     "name": "stdout",
     "output_type": "stream",
     "text": [
      "  4%|▍         | 2/50 [00:07<03:09,  3.96s/trial, best loss: -0.5591647331786543]"
     ]
    },
    {
     "name": "stderr",
     "output_type": "stream",
     "text": [
      "2023/08/15 07:54:06 WARNING mlflow.sklearn: Unrecognized dataset type <class 'list'>. Dataset logging skipped.\n",
      "\n",
      "2023/08/15 07:54:07 WARNING mlflow.sklearn: Failed to infer model signature: ('Expected one of the following types:\\n- pandas.DataFrame\\n- pandas.Series\\n- numpy.ndarray\\n- dictionary of (name -> numpy.ndarray)\\n- pyspark.sql.DataFrame\\n', \"- scipy.sparse.csr_matrix\\n- scipy.sparse.csc_matrix\\n- str\\n- List[str]\\n- List[Dict[str, Union[str, List[str]]]]\\n- Dict[str, Union[str, List[str]]]\\n- bytes\\nbut got '<class 'list'>'\")\n",
      "\n",
      "2023/08/15 07:54:09 WARNING mlflow.sklearn: Unrecognized dataset type <class 'list'>. Dataset logging skipped.\n",
      "\n"
     ]
    },
    {
     "name": "stdout",
     "output_type": "stream",
     "text": [
      "  6%|▌         | 3/50 [00:11<03:06,  3.97s/trial, best loss: -0.5591647331786543]"
     ]
    },
    {
     "name": "stderr",
     "output_type": "stream",
     "text": [
      "2023/08/15 07:54:10 WARNING mlflow.sklearn: Unrecognized dataset type <class 'list'>. Dataset logging skipped.\n",
      "\n",
      "2023/08/15 07:54:11 WARNING mlflow.sklearn: Failed to infer model signature: ('Expected one of the following types:\\n- pandas.DataFrame\\n- pandas.Series\\n- numpy.ndarray\\n- dictionary of (name -> numpy.ndarray)\\n- pyspark.sql.DataFrame\\n', \"- scipy.sparse.csr_matrix\\n- scipy.sparse.csc_matrix\\n- str\\n- List[str]\\n- List[Dict[str, Union[str, List[str]]]]\\n- Dict[str, Union[str, List[str]]]\\n- bytes\\nbut got '<class 'list'>'\")\n",
      "\n",
      "2023/08/15 07:54:14 WARNING mlflow.sklearn: Unrecognized dataset type <class 'list'>. Dataset logging skipped.\n",
      "\n"
     ]
    },
    {
     "name": "stdout",
     "output_type": "stream",
     "text": [
      "  8%|▊         | 4/50 [00:15<03:04,  4.02s/trial, best loss: -0.5591647331786543]"
     ]
    },
    {
     "name": "stderr",
     "output_type": "stream",
     "text": [
      "2023/08/15 07:54:14 WARNING mlflow.sklearn: Unrecognized dataset type <class 'list'>. Dataset logging skipped.\n",
      "\n",
      "2023/08/15 07:54:16 WARNING mlflow.sklearn: Failed to infer model signature: ('Expected one of the following types:\\n- pandas.DataFrame\\n- pandas.Series\\n- numpy.ndarray\\n- dictionary of (name -> numpy.ndarray)\\n- pyspark.sql.DataFrame\\n', \"- scipy.sparse.csr_matrix\\n- scipy.sparse.csc_matrix\\n- str\\n- List[str]\\n- List[Dict[str, Union[str, List[str]]]]\\n- Dict[str, Union[str, List[str]]]\\n- bytes\\nbut got '<class 'list'>'\")\n",
      "\n",
      "2023/08/15 07:54:18 WARNING mlflow.sklearn: Unrecognized dataset type <class 'list'>. Dataset logging skipped.\n",
      "\n"
     ]
    },
    {
     "name": "stdout",
     "output_type": "stream",
     "text": [
      " 10%|█         | 5/50 [00:20<03:03,  4.08s/trial, best loss: -0.5591647331786543]"
     ]
    },
    {
     "name": "stderr",
     "output_type": "stream",
     "text": [
      "2023/08/15 07:54:18 WARNING mlflow.sklearn: Unrecognized dataset type <class 'list'>. Dataset logging skipped.\n",
      "\n",
      "2023/08/15 07:54:20 WARNING mlflow.sklearn: Failed to infer model signature: ('Expected one of the following types:\\n- pandas.DataFrame\\n- pandas.Series\\n- numpy.ndarray\\n- dictionary of (name -> numpy.ndarray)\\n- pyspark.sql.DataFrame\\n', \"- scipy.sparse.csr_matrix\\n- scipy.sparse.csc_matrix\\n- str\\n- List[str]\\n- List[Dict[str, Union[str, List[str]]]]\\n- Dict[str, Union[str, List[str]]]\\n- bytes\\nbut got '<class 'list'>'\")\n",
      "\n",
      "2023/08/15 07:54:22 WARNING mlflow.sklearn: Unrecognized dataset type <class 'list'>. Dataset logging skipped.\n",
      "\n"
     ]
    },
    {
     "name": "stdout",
     "output_type": "stream",
     "text": [
      " 12%|█▏        | 6/50 [00:24<02:58,  4.06s/trial, best loss: -0.5591647331786543]"
     ]
    },
    {
     "name": "stderr",
     "output_type": "stream",
     "text": [
      "2023/08/15 07:54:22 WARNING mlflow.sklearn: Unrecognized dataset type <class 'list'>. Dataset logging skipped.\n",
      "\n",
      "2023/08/15 07:54:23 WARNING mlflow.sklearn: Failed to infer model signature: ('Expected one of the following types:\\n- pandas.DataFrame\\n- pandas.Series\\n- numpy.ndarray\\n- dictionary of (name -> numpy.ndarray)\\n- pyspark.sql.DataFrame\\n', \"- scipy.sparse.csr_matrix\\n- scipy.sparse.csc_matrix\\n- str\\n- List[str]\\n- List[Dict[str, Union[str, List[str]]]]\\n- Dict[str, Union[str, List[str]]]\\n- bytes\\nbut got '<class 'list'>'\")\n",
      "\n",
      "2023/08/15 07:54:26 WARNING mlflow.sklearn: Unrecognized dataset type <class 'list'>. Dataset logging skipped.\n",
      "\n"
     ]
    },
    {
     "name": "stdout",
     "output_type": "stream",
     "text": [
      " 14%|█▍        | 7/50 [00:28<02:52,  4.01s/trial, best loss: -0.5591647331786543]"
     ]
    },
    {
     "name": "stderr",
     "output_type": "stream",
     "text": [
      "2023/08/15 07:54:26 WARNING mlflow.sklearn: Unrecognized dataset type <class 'list'>. Dataset logging skipped.\n",
      "\n",
      "2023/08/15 07:54:28 WARNING mlflow.sklearn: Failed to infer model signature: ('Expected one of the following types:\\n- pandas.DataFrame\\n- pandas.Series\\n- numpy.ndarray\\n- dictionary of (name -> numpy.ndarray)\\n- pyspark.sql.DataFrame\\n', \"- scipy.sparse.csr_matrix\\n- scipy.sparse.csc_matrix\\n- str\\n- List[str]\\n- List[Dict[str, Union[str, List[str]]]]\\n- Dict[str, Union[str, List[str]]]\\n- bytes\\nbut got '<class 'list'>'\")\n",
      "\n",
      "2023/08/15 07:54:30 WARNING mlflow.sklearn: Unrecognized dataset type <class 'list'>. Dataset logging skipped.\n",
      "\n"
     ]
    },
    {
     "name": "stdout",
     "output_type": "stream",
     "text": [
      " 16%|█▌        | 8/50 [00:32<02:48,  4.01s/trial, best loss: -0.5591647331786543]"
     ]
    },
    {
     "name": "stderr",
     "output_type": "stream",
     "text": [
      "2023/08/15 07:54:30 WARNING mlflow.sklearn: Unrecognized dataset type <class 'list'>. Dataset logging skipped.\n",
      "\n",
      "2023/08/15 07:54:32 WARNING mlflow.sklearn: Failed to infer model signature: ('Expected one of the following types:\\n- pandas.DataFrame\\n- pandas.Series\\n- numpy.ndarray\\n- dictionary of (name -> numpy.ndarray)\\n- pyspark.sql.DataFrame\\n', \"- scipy.sparse.csr_matrix\\n- scipy.sparse.csc_matrix\\n- str\\n- List[str]\\n- List[Dict[str, Union[str, List[str]]]]\\n- Dict[str, Union[str, List[str]]]\\n- bytes\\nbut got '<class 'list'>'\")\n",
      "\n",
      "2023/08/15 07:54:34 WARNING mlflow.sklearn: Unrecognized dataset type <class 'list'>. Dataset logging skipped.\n",
      "\n"
     ]
    },
    {
     "name": "stdout",
     "output_type": "stream",
     "text": [
      " 18%|█▊        | 9/50 [00:36<02:44,  4.02s/trial, best loss: -0.5591647331786543]"
     ]
    },
    {
     "name": "stderr",
     "output_type": "stream",
     "text": [
      "2023/08/15 07:54:34 WARNING mlflow.sklearn: Unrecognized dataset type <class 'list'>. Dataset logging skipped.\n",
      "\n",
      "2023/08/15 07:54:36 WARNING mlflow.sklearn: Failed to infer model signature: ('Expected one of the following types:\\n- pandas.DataFrame\\n- pandas.Series\\n- numpy.ndarray\\n- dictionary of (name -> numpy.ndarray)\\n- pyspark.sql.DataFrame\\n', \"- scipy.sparse.csr_matrix\\n- scipy.sparse.csc_matrix\\n- str\\n- List[str]\\n- List[Dict[str, Union[str, List[str]]]]\\n- Dict[str, Union[str, List[str]]]\\n- bytes\\nbut got '<class 'list'>'\")\n",
      "\n",
      "2023/08/15 07:54:38 WARNING mlflow.sklearn: Unrecognized dataset type <class 'list'>. Dataset logging skipped.\n",
      "\n"
     ]
    },
    {
     "name": "stdout",
     "output_type": "stream",
     "text": [
      " 20%|██        | 10/50 [00:40<02:40,  4.00s/trial, best loss: -0.5591647331786543]"
     ]
    },
    {
     "name": "stderr",
     "output_type": "stream",
     "text": [
      "2023/08/15 07:54:38 WARNING mlflow.sklearn: Unrecognized dataset type <class 'list'>. Dataset logging skipped.\n",
      "\n",
      "2023/08/15 07:54:39 WARNING mlflow.sklearn: Failed to infer model signature: ('Expected one of the following types:\\n- pandas.DataFrame\\n- pandas.Series\\n- numpy.ndarray\\n- dictionary of (name -> numpy.ndarray)\\n- pyspark.sql.DataFrame\\n', \"- scipy.sparse.csr_matrix\\n- scipy.sparse.csc_matrix\\n- str\\n- List[str]\\n- List[Dict[str, Union[str, List[str]]]]\\n- Dict[str, Union[str, List[str]]]\\n- bytes\\nbut got '<class 'list'>'\")\n",
      "\n",
      "2023/08/15 07:54:42 WARNING mlflow.sklearn: Unrecognized dataset type <class 'list'>. Dataset logging skipped.\n",
      "\n"
     ]
    },
    {
     "name": "stdout",
     "output_type": "stream",
     "text": [
      " 22%|██▏       | 11/50 [00:43<02:34,  3.96s/trial, best loss: -0.5851428571428572]"
     ]
    },
    {
     "name": "stderr",
     "output_type": "stream",
     "text": [
      "2023/08/15 07:54:42 WARNING mlflow.sklearn: Unrecognized dataset type <class 'list'>. Dataset logging skipped.\n",
      "\n",
      "2023/08/15 07:54:43 WARNING mlflow.sklearn: Failed to infer model signature: ('Expected one of the following types:\\n- pandas.DataFrame\\n- pandas.Series\\n- numpy.ndarray\\n- dictionary of (name -> numpy.ndarray)\\n- pyspark.sql.DataFrame\\n', \"- scipy.sparse.csr_matrix\\n- scipy.sparse.csc_matrix\\n- str\\n- List[str]\\n- List[Dict[str, Union[str, List[str]]]]\\n- Dict[str, Union[str, List[str]]]\\n- bytes\\nbut got '<class 'list'>'\")\n",
      "\n",
      "2023/08/15 07:54:46 WARNING mlflow.sklearn: Unrecognized dataset type <class 'list'>. Dataset logging skipped.\n",
      "\n"
     ]
    },
    {
     "name": "stdout",
     "output_type": "stream",
     "text": [
      " 24%|██▍       | 12/50 [00:48<02:32,  4.02s/trial, best loss: -0.5851428571428572]"
     ]
    },
    {
     "name": "stderr",
     "output_type": "stream",
     "text": [
      "2023/08/15 07:54:46 WARNING mlflow.sklearn: Unrecognized dataset type <class 'list'>. Dataset logging skipped.\n",
      "\n",
      "2023/08/15 07:54:48 WARNING mlflow.sklearn: Failed to infer model signature: ('Expected one of the following types:\\n- pandas.DataFrame\\n- pandas.Series\\n- numpy.ndarray\\n- dictionary of (name -> numpy.ndarray)\\n- pyspark.sql.DataFrame\\n', \"- scipy.sparse.csr_matrix\\n- scipy.sparse.csc_matrix\\n- str\\n- List[str]\\n- List[Dict[str, Union[str, List[str]]]]\\n- Dict[str, Union[str, List[str]]]\\n- bytes\\nbut got '<class 'list'>'\")\n",
      "\n",
      "2023/08/15 07:54:50 WARNING mlflow.sklearn: Unrecognized dataset type <class 'list'>. Dataset logging skipped.\n",
      "\n"
     ]
    },
    {
     "name": "stdout",
     "output_type": "stream",
     "text": [
      " 26%|██▌       | 13/50 [00:52<02:27,  3.99s/trial, best loss: -0.5851428571428572]"
     ]
    },
    {
     "name": "stderr",
     "output_type": "stream",
     "text": [
      "2023/08/15 07:54:50 WARNING mlflow.sklearn: Unrecognized dataset type <class 'list'>. Dataset logging skipped.\n",
      "\n",
      "2023/08/15 07:54:52 WARNING mlflow.sklearn: Failed to infer model signature: ('Expected one of the following types:\\n- pandas.DataFrame\\n- pandas.Series\\n- numpy.ndarray\\n- dictionary of (name -> numpy.ndarray)\\n- pyspark.sql.DataFrame\\n', \"- scipy.sparse.csr_matrix\\n- scipy.sparse.csc_matrix\\n- str\\n- List[str]\\n- List[Dict[str, Union[str, List[str]]]]\\n- Dict[str, Union[str, List[str]]]\\n- bytes\\nbut got '<class 'list'>'\")\n",
      "\n",
      "2023/08/15 07:54:54 WARNING mlflow.sklearn: Unrecognized dataset type <class 'list'>. Dataset logging skipped.\n",
      "\n"
     ]
    },
    {
     "name": "stdout",
     "output_type": "stream",
     "text": [
      " 28%|██▊       | 14/50 [00:56<02:26,  4.08s/trial, best loss: -0.5851428571428572]"
     ]
    },
    {
     "name": "stderr",
     "output_type": "stream",
     "text": [
      "2023/08/15 07:54:54 WARNING mlflow.sklearn: Unrecognized dataset type <class 'list'>. Dataset logging skipped.\n",
      "\n",
      "2023/08/15 07:54:56 WARNING mlflow.sklearn: Failed to infer model signature: ('Expected one of the following types:\\n- pandas.DataFrame\\n- pandas.Series\\n- numpy.ndarray\\n- dictionary of (name -> numpy.ndarray)\\n- pyspark.sql.DataFrame\\n', \"- scipy.sparse.csr_matrix\\n- scipy.sparse.csc_matrix\\n- str\\n- List[str]\\n- List[Dict[str, Union[str, List[str]]]]\\n- Dict[str, Union[str, List[str]]]\\n- bytes\\nbut got '<class 'list'>'\")\n",
      "\n",
      "2023/08/15 07:54:58 WARNING mlflow.sklearn: Unrecognized dataset type <class 'list'>. Dataset logging skipped.\n",
      "\n"
     ]
    },
    {
     "name": "stdout",
     "output_type": "stream",
     "text": [
      " 30%|███       | 15/50 [01:00<02:22,  4.06s/trial, best loss: -0.5851428571428572]"
     ]
    },
    {
     "name": "stderr",
     "output_type": "stream",
     "text": [
      "2023/08/15 07:54:58 WARNING mlflow.sklearn: Unrecognized dataset type <class 'list'>. Dataset logging skipped.\n",
      "\n",
      "2023/08/15 07:55:00 WARNING mlflow.sklearn: Failed to infer model signature: ('Expected one of the following types:\\n- pandas.DataFrame\\n- pandas.Series\\n- numpy.ndarray\\n- dictionary of (name -> numpy.ndarray)\\n- pyspark.sql.DataFrame\\n', \"- scipy.sparse.csr_matrix\\n- scipy.sparse.csc_matrix\\n- str\\n- List[str]\\n- List[Dict[str, Union[str, List[str]]]]\\n- Dict[str, Union[str, List[str]]]\\n- bytes\\nbut got '<class 'list'>'\")\n",
      "\n",
      "2023/08/15 07:55:02 WARNING mlflow.sklearn: Unrecognized dataset type <class 'list'>. Dataset logging skipped.\n",
      "\n"
     ]
    },
    {
     "name": "stdout",
     "output_type": "stream",
     "text": [
      " 32%|███▏      | 16/50 [01:04<02:16,  4.01s/trial, best loss: -0.5851428571428572]"
     ]
    },
    {
     "name": "stderr",
     "output_type": "stream",
     "text": [
      "2023/08/15 07:55:02 WARNING mlflow.sklearn: Unrecognized dataset type <class 'list'>. Dataset logging skipped.\n",
      "\n",
      "2023/08/15 07:55:04 WARNING mlflow.sklearn: Failed to infer model signature: ('Expected one of the following types:\\n- pandas.DataFrame\\n- pandas.Series\\n- numpy.ndarray\\n- dictionary of (name -> numpy.ndarray)\\n- pyspark.sql.DataFrame\\n', \"- scipy.sparse.csr_matrix\\n- scipy.sparse.csc_matrix\\n- str\\n- List[str]\\n- List[Dict[str, Union[str, List[str]]]]\\n- Dict[str, Union[str, List[str]]]\\n- bytes\\nbut got '<class 'list'>'\")\n",
      "\n",
      "2023/08/15 07:55:06 WARNING mlflow.sklearn: Unrecognized dataset type <class 'list'>. Dataset logging skipped.\n",
      "\n"
     ]
    },
    {
     "name": "stdout",
     "output_type": "stream",
     "text": [
      " 34%|███▍      | 17/50 [01:08<02:11,  3.98s/trial, best loss: -0.5851428571428572]"
     ]
    },
    {
     "name": "stderr",
     "output_type": "stream",
     "text": [
      "2023/08/15 07:55:06 WARNING mlflow.sklearn: Unrecognized dataset type <class 'list'>. Dataset logging skipped.\n",
      "\n",
      "2023/08/15 07:55:08 WARNING mlflow.sklearn: Failed to infer model signature: ('Expected one of the following types:\\n- pandas.DataFrame\\n- pandas.Series\\n- numpy.ndarray\\n- dictionary of (name -> numpy.ndarray)\\n- pyspark.sql.DataFrame\\n', \"- scipy.sparse.csr_matrix\\n- scipy.sparse.csc_matrix\\n- str\\n- List[str]\\n- List[Dict[str, Union[str, List[str]]]]\\n- Dict[str, Union[str, List[str]]]\\n- bytes\\nbut got '<class 'list'>'\")\n",
      "\n",
      "2023/08/15 07:55:10 WARNING mlflow.sklearn: Unrecognized dataset type <class 'list'>. Dataset logging skipped.\n",
      "\n"
     ]
    },
    {
     "name": "stdout",
     "output_type": "stream",
     "text": [
      " 36%|███▌      | 18/50 [01:12<02:06,  3.95s/trial, best loss: -0.5851428571428572]"
     ]
    },
    {
     "name": "stderr",
     "output_type": "stream",
     "text": [
      "2023/08/15 07:55:10 WARNING mlflow.sklearn: Unrecognized dataset type <class 'list'>. Dataset logging skipped.\n",
      "\n",
      "2023/08/15 07:55:11 WARNING mlflow.sklearn: Failed to infer model signature: ('Expected one of the following types:\\n- pandas.DataFrame\\n- pandas.Series\\n- numpy.ndarray\\n- dictionary of (name -> numpy.ndarray)\\n- pyspark.sql.DataFrame\\n', \"- scipy.sparse.csr_matrix\\n- scipy.sparse.csc_matrix\\n- str\\n- List[str]\\n- List[Dict[str, Union[str, List[str]]]]\\n- Dict[str, Union[str, List[str]]]\\n- bytes\\nbut got '<class 'list'>'\")\n",
      "\n",
      "2023/08/15 07:55:14 WARNING mlflow.sklearn: Unrecognized dataset type <class 'list'>. Dataset logging skipped.\n",
      "\n"
     ]
    },
    {
     "name": "stdout",
     "output_type": "stream",
     "text": [
      " 38%|███▊      | 19/50 [01:16<02:02,  3.97s/trial, best loss: -0.5851428571428572]"
     ]
    },
    {
     "name": "stderr",
     "output_type": "stream",
     "text": [
      "2023/08/15 07:55:14 WARNING mlflow.sklearn: Unrecognized dataset type <class 'list'>. Dataset logging skipped.\n",
      "\n",
      "2023/08/15 07:55:15 WARNING mlflow.sklearn: Failed to infer model signature: ('Expected one of the following types:\\n- pandas.DataFrame\\n- pandas.Series\\n- numpy.ndarray\\n- dictionary of (name -> numpy.ndarray)\\n- pyspark.sql.DataFrame\\n', \"- scipy.sparse.csr_matrix\\n- scipy.sparse.csc_matrix\\n- str\\n- List[str]\\n- List[Dict[str, Union[str, List[str]]]]\\n- Dict[str, Union[str, List[str]]]\\n- bytes\\nbut got '<class 'list'>'\")\n",
      "\n",
      "2023/08/15 07:55:17 WARNING mlflow.sklearn: Unrecognized dataset type <class 'list'>. Dataset logging skipped.\n",
      "\n"
     ]
    },
    {
     "name": "stdout",
     "output_type": "stream",
     "text": [
      " 40%|████      | 20/50 [01:19<01:58,  3.94s/trial, best loss: -0.5851428571428572]"
     ]
    },
    {
     "name": "stderr",
     "output_type": "stream",
     "text": [
      "2023/08/15 07:55:18 WARNING mlflow.sklearn: Unrecognized dataset type <class 'list'>. Dataset logging skipped.\n",
      "\n",
      "2023/08/15 07:55:19 WARNING mlflow.sklearn: Failed to infer model signature: ('Expected one of the following types:\\n- pandas.DataFrame\\n- pandas.Series\\n- numpy.ndarray\\n- dictionary of (name -> numpy.ndarray)\\n- pyspark.sql.DataFrame\\n', \"- scipy.sparse.csr_matrix\\n- scipy.sparse.csc_matrix\\n- str\\n- List[str]\\n- List[Dict[str, Union[str, List[str]]]]\\n- Dict[str, Union[str, List[str]]]\\n- bytes\\nbut got '<class 'list'>'\")\n",
      "\n",
      "2023/08/15 07:55:21 WARNING mlflow.sklearn: Unrecognized dataset type <class 'list'>. Dataset logging skipped.\n",
      "\n"
     ]
    },
    {
     "name": "stdout",
     "output_type": "stream",
     "text": [
      " 42%|████▏     | 21/50 [01:23<01:54,  3.96s/trial, best loss: -0.5851428571428572]"
     ]
    },
    {
     "name": "stderr",
     "output_type": "stream",
     "text": [
      "2023/08/15 07:55:22 WARNING mlflow.sklearn: Unrecognized dataset type <class 'list'>. Dataset logging skipped.\n",
      "\n",
      "2023/08/15 07:55:23 WARNING mlflow.sklearn: Failed to infer model signature: ('Expected one of the following types:\\n- pandas.DataFrame\\n- pandas.Series\\n- numpy.ndarray\\n- dictionary of (name -> numpy.ndarray)\\n- pyspark.sql.DataFrame\\n', \"- scipy.sparse.csr_matrix\\n- scipy.sparse.csc_matrix\\n- str\\n- List[str]\\n- List[Dict[str, Union[str, List[str]]]]\\n- Dict[str, Union[str, List[str]]]\\n- bytes\\nbut got '<class 'list'>'\")\n",
      "\n",
      "2023/08/15 07:55:25 WARNING mlflow.sklearn: Unrecognized dataset type <class 'list'>. Dataset logging skipped.\n",
      "\n"
     ]
    },
    {
     "name": "stdout",
     "output_type": "stream",
     "text": [
      " 44%|████▍     | 22/50 [01:27<01:50,  3.96s/trial, best loss: -0.5851428571428572]"
     ]
    },
    {
     "name": "stderr",
     "output_type": "stream",
     "text": [
      "2023/08/15 07:55:26 WARNING mlflow.sklearn: Unrecognized dataset type <class 'list'>. Dataset logging skipped.\n",
      "\n",
      "2023/08/15 07:55:28 WARNING mlflow.sklearn: Failed to infer model signature: ('Expected one of the following types:\\n- pandas.DataFrame\\n- pandas.Series\\n- numpy.ndarray\\n- dictionary of (name -> numpy.ndarray)\\n- pyspark.sql.DataFrame\\n', \"- scipy.sparse.csr_matrix\\n- scipy.sparse.csc_matrix\\n- str\\n- List[str]\\n- List[Dict[str, Union[str, List[str]]]]\\n- Dict[str, Union[str, List[str]]]\\n- bytes\\nbut got '<class 'list'>'\")\n",
      "\n",
      "2023/08/15 07:55:30 WARNING mlflow.sklearn: Unrecognized dataset type <class 'list'>. Dataset logging skipped.\n",
      "\n"
     ]
    },
    {
     "name": "stdout",
     "output_type": "stream",
     "text": [
      " 46%|████▌     | 23/50 [01:32<01:50,  4.08s/trial, best loss: -0.5851428571428572]"
     ]
    },
    {
     "name": "stderr",
     "output_type": "stream",
     "text": [
      "2023/08/15 07:55:30 WARNING mlflow.sklearn: Unrecognized dataset type <class 'list'>. Dataset logging skipped.\n",
      "\n",
      "2023/08/15 07:55:32 WARNING mlflow.sklearn: Failed to infer model signature: ('Expected one of the following types:\\n- pandas.DataFrame\\n- pandas.Series\\n- numpy.ndarray\\n- dictionary of (name -> numpy.ndarray)\\n- pyspark.sql.DataFrame\\n', \"- scipy.sparse.csr_matrix\\n- scipy.sparse.csc_matrix\\n- str\\n- List[str]\\n- List[Dict[str, Union[str, List[str]]]]\\n- Dict[str, Union[str, List[str]]]\\n- bytes\\nbut got '<class 'list'>'\")\n",
      "\n",
      "2023/08/15 07:55:34 WARNING mlflow.sklearn: Unrecognized dataset type <class 'list'>. Dataset logging skipped.\n",
      "\n"
     ]
    },
    {
     "name": "stdout",
     "output_type": "stream",
     "text": [
      " 48%|████▊     | 24/50 [01:36<01:45,  4.04s/trial, best loss: -0.5851428571428572]"
     ]
    },
    {
     "name": "stderr",
     "output_type": "stream",
     "text": [
      "2023/08/15 07:55:34 WARNING mlflow.sklearn: Unrecognized dataset type <class 'list'>. Dataset logging skipped.\n",
      "\n",
      "2023/08/15 07:55:36 WARNING mlflow.sklearn: Failed to infer model signature: ('Expected one of the following types:\\n- pandas.DataFrame\\n- pandas.Series\\n- numpy.ndarray\\n- dictionary of (name -> numpy.ndarray)\\n- pyspark.sql.DataFrame\\n', \"- scipy.sparse.csr_matrix\\n- scipy.sparse.csc_matrix\\n- str\\n- List[str]\\n- List[Dict[str, Union[str, List[str]]]]\\n- Dict[str, Union[str, List[str]]]\\n- bytes\\nbut got '<class 'list'>'\")\n",
      "\n",
      "2023/08/15 07:55:38 WARNING mlflow.sklearn: Unrecognized dataset type <class 'list'>. Dataset logging skipped.\n",
      "\n"
     ]
    },
    {
     "name": "stdout",
     "output_type": "stream",
     "text": [
      " 50%|█████     | 25/50 [01:40<01:41,  4.04s/trial, best loss: -0.5851428571428572]"
     ]
    },
    {
     "name": "stderr",
     "output_type": "stream",
     "text": [
      "2023/08/15 07:55:38 WARNING mlflow.sklearn: Unrecognized dataset type <class 'list'>. Dataset logging skipped.\n",
      "\n",
      "2023/08/15 07:55:40 WARNING mlflow.sklearn: Failed to infer model signature: ('Expected one of the following types:\\n- pandas.DataFrame\\n- pandas.Series\\n- numpy.ndarray\\n- dictionary of (name -> numpy.ndarray)\\n- pyspark.sql.DataFrame\\n', \"- scipy.sparse.csr_matrix\\n- scipy.sparse.csc_matrix\\n- str\\n- List[str]\\n- List[Dict[str, Union[str, List[str]]]]\\n- Dict[str, Union[str, List[str]]]\\n- bytes\\nbut got '<class 'list'>'\")\n",
      "\n",
      "2023/08/15 07:55:42 WARNING mlflow.sklearn: Unrecognized dataset type <class 'list'>. Dataset logging skipped.\n",
      "\n"
     ]
    },
    {
     "name": "stdout",
     "output_type": "stream",
     "text": [
      " 52%|█████▏    | 26/50 [01:44<01:36,  4.02s/trial, best loss: -0.58675799086758]  "
     ]
    },
    {
     "name": "stderr",
     "output_type": "stream",
     "text": [
      "2023/08/15 07:55:42 WARNING mlflow.sklearn: Unrecognized dataset type <class 'list'>. Dataset logging skipped.\n",
      "\n",
      "2023/08/15 07:55:44 WARNING mlflow.sklearn: Failed to infer model signature: ('Expected one of the following types:\\n- pandas.DataFrame\\n- pandas.Series\\n- numpy.ndarray\\n- dictionary of (name -> numpy.ndarray)\\n- pyspark.sql.DataFrame\\n', \"- scipy.sparse.csr_matrix\\n- scipy.sparse.csc_matrix\\n- str\\n- List[str]\\n- List[Dict[str, Union[str, List[str]]]]\\n- Dict[str, Union[str, List[str]]]\\n- bytes\\nbut got '<class 'list'>'\")\n",
      "\n",
      "2023/08/15 07:55:46 WARNING mlflow.sklearn: Unrecognized dataset type <class 'list'>. Dataset logging skipped.\n",
      "\n"
     ]
    },
    {
     "name": "stdout",
     "output_type": "stream",
     "text": [
      " 54%|█████▍    | 27/50 [01:48<01:31,  3.98s/trial, best loss: -0.58675799086758]"
     ]
    },
    {
     "name": "stderr",
     "output_type": "stream",
     "text": [
      "2023/08/15 07:55:46 WARNING mlflow.sklearn: Unrecognized dataset type <class 'list'>. Dataset logging skipped.\n",
      "\n",
      "2023/08/15 07:55:48 WARNING mlflow.sklearn: Failed to infer model signature: ('Expected one of the following types:\\n- pandas.DataFrame\\n- pandas.Series\\n- numpy.ndarray\\n- dictionary of (name -> numpy.ndarray)\\n- pyspark.sql.DataFrame\\n', \"- scipy.sparse.csr_matrix\\n- scipy.sparse.csc_matrix\\n- str\\n- List[str]\\n- List[Dict[str, Union[str, List[str]]]]\\n- Dict[str, Union[str, List[str]]]\\n- bytes\\nbut got '<class 'list'>'\")\n",
      "\n",
      "2023/08/15 07:55:50 WARNING mlflow.sklearn: Unrecognized dataset type <class 'list'>. Dataset logging skipped.\n",
      "\n"
     ]
    },
    {
     "name": "stdout",
     "output_type": "stream",
     "text": [
      " 56%|█████▌    | 28/50 [01:52<01:27,  3.98s/trial, best loss: -0.58675799086758]"
     ]
    },
    {
     "name": "stderr",
     "output_type": "stream",
     "text": [
      "2023/08/15 07:55:50 WARNING mlflow.sklearn: Unrecognized dataset type <class 'list'>. Dataset logging skipped.\n",
      "\n",
      "2023/08/15 07:55:51 WARNING mlflow.sklearn: Failed to infer model signature: ('Expected one of the following types:\\n- pandas.DataFrame\\n- pandas.Series\\n- numpy.ndarray\\n- dictionary of (name -> numpy.ndarray)\\n- pyspark.sql.DataFrame\\n', \"- scipy.sparse.csr_matrix\\n- scipy.sparse.csc_matrix\\n- str\\n- List[str]\\n- List[Dict[str, Union[str, List[str]]]]\\n- Dict[str, Union[str, List[str]]]\\n- bytes\\nbut got '<class 'list'>'\")\n",
      "\n",
      "2023/08/15 07:55:54 WARNING mlflow.sklearn: Unrecognized dataset type <class 'list'>. Dataset logging skipped.\n",
      "\n"
     ]
    },
    {
     "name": "stdout",
     "output_type": "stream",
     "text": [
      " 58%|█████▊    | 29/50 [01:56<01:23,  3.98s/trial, best loss: -0.58675799086758]"
     ]
    },
    {
     "name": "stderr",
     "output_type": "stream",
     "text": [
      "2023/08/15 07:55:54 WARNING mlflow.sklearn: Unrecognized dataset type <class 'list'>. Dataset logging skipped.\n",
      "\n",
      "2023/08/15 07:55:55 WARNING mlflow.sklearn: Failed to infer model signature: ('Expected one of the following types:\\n- pandas.DataFrame\\n- pandas.Series\\n- numpy.ndarray\\n- dictionary of (name -> numpy.ndarray)\\n- pyspark.sql.DataFrame\\n', \"- scipy.sparse.csr_matrix\\n- scipy.sparse.csc_matrix\\n- str\\n- List[str]\\n- List[Dict[str, Union[str, List[str]]]]\\n- Dict[str, Union[str, List[str]]]\\n- bytes\\nbut got '<class 'list'>'\")\n",
      "\n",
      "2023/08/15 07:55:58 WARNING mlflow.sklearn: Unrecognized dataset type <class 'list'>. Dataset logging skipped.\n",
      "\n"
     ]
    },
    {
     "name": "stdout",
     "output_type": "stream",
     "text": [
      " 60%|██████    | 30/50 [01:59<01:19,  3.98s/trial, best loss: -0.58675799086758]"
     ]
    },
    {
     "name": "stderr",
     "output_type": "stream",
     "text": [
      "2023/08/15 07:55:58 WARNING mlflow.sklearn: Unrecognized dataset type <class 'list'>. Dataset logging skipped.\n",
      "\n",
      "2023/08/15 07:56:00 WARNING mlflow.sklearn: Failed to infer model signature: ('Expected one of the following types:\\n- pandas.DataFrame\\n- pandas.Series\\n- numpy.ndarray\\n- dictionary of (name -> numpy.ndarray)\\n- pyspark.sql.DataFrame\\n', \"- scipy.sparse.csr_matrix\\n- scipy.sparse.csc_matrix\\n- str\\n- List[str]\\n- List[Dict[str, Union[str, List[str]]]]\\n- Dict[str, Union[str, List[str]]]\\n- bytes\\nbut got '<class 'list'>'\")\n",
      "\n",
      "2023/08/15 07:56:02 WARNING mlflow.sklearn: Unrecognized dataset type <class 'list'>. Dataset logging skipped.\n",
      "\n"
     ]
    },
    {
     "name": "stdout",
     "output_type": "stream",
     "text": [
      " 62%|██████▏   | 31/50 [02:04<01:16,  4.04s/trial, best loss: -0.58675799086758]"
     ]
    },
    {
     "name": "stderr",
     "output_type": "stream",
     "text": [
      "2023/08/15 07:56:02 WARNING mlflow.sklearn: Unrecognized dataset type <class 'list'>. Dataset logging skipped.\n",
      "\n",
      "2023/08/15 07:56:04 WARNING mlflow.sklearn: Failed to infer model signature: ('Expected one of the following types:\\n- pandas.DataFrame\\n- pandas.Series\\n- numpy.ndarray\\n- dictionary of (name -> numpy.ndarray)\\n- pyspark.sql.DataFrame\\n', \"- scipy.sparse.csr_matrix\\n- scipy.sparse.csc_matrix\\n- str\\n- List[str]\\n- List[Dict[str, Union[str, List[str]]]]\\n- Dict[str, Union[str, List[str]]]\\n- bytes\\nbut got '<class 'list'>'\")\n",
      "\n",
      "2023/08/15 07:56:06 WARNING mlflow.sklearn: Unrecognized dataset type <class 'list'>. Dataset logging skipped.\n",
      "\n"
     ]
    },
    {
     "name": "stdout",
     "output_type": "stream",
     "text": [
      " 64%|██████▍   | 32/50 [02:08<01:12,  4.04s/trial, best loss: -0.58675799086758]"
     ]
    },
    {
     "name": "stderr",
     "output_type": "stream",
     "text": [
      "2023/08/15 07:56:06 WARNING mlflow.sklearn: Unrecognized dataset type <class 'list'>. Dataset logging skipped.\n",
      "\n",
      "2023/08/15 07:56:08 WARNING mlflow.sklearn: Failed to infer model signature: ('Expected one of the following types:\\n- pandas.DataFrame\\n- pandas.Series\\n- numpy.ndarray\\n- dictionary of (name -> numpy.ndarray)\\n- pyspark.sql.DataFrame\\n', \"- scipy.sparse.csr_matrix\\n- scipy.sparse.csc_matrix\\n- str\\n- List[str]\\n- List[Dict[str, Union[str, List[str]]]]\\n- Dict[str, Union[str, List[str]]]\\n- bytes\\nbut got '<class 'list'>'\")\n",
      "\n",
      "2023/08/15 07:56:10 WARNING mlflow.sklearn: Unrecognized dataset type <class 'list'>. Dataset logging skipped.\n",
      "\n"
     ]
    },
    {
     "name": "stdout",
     "output_type": "stream",
     "text": [
      " 66%|██████▌   | 33/50 [02:12<01:11,  4.20s/trial, best loss: -0.58675799086758]"
     ]
    },
    {
     "name": "stderr",
     "output_type": "stream",
     "text": [
      "2023/08/15 07:56:11 WARNING mlflow.sklearn: Unrecognized dataset type <class 'list'>. Dataset logging skipped.\n",
      "\n",
      "2023/08/15 07:56:12 WARNING mlflow.sklearn: Failed to infer model signature: ('Expected one of the following types:\\n- pandas.DataFrame\\n- pandas.Series\\n- numpy.ndarray\\n- dictionary of (name -> numpy.ndarray)\\n- pyspark.sql.DataFrame\\n', \"- scipy.sparse.csr_matrix\\n- scipy.sparse.csc_matrix\\n- str\\n- List[str]\\n- List[Dict[str, Union[str, List[str]]]]\\n- Dict[str, Union[str, List[str]]]\\n- bytes\\nbut got '<class 'list'>'\")\n",
      "\n",
      "2023/08/15 07:56:14 WARNING mlflow.sklearn: Unrecognized dataset type <class 'list'>. Dataset logging skipped.\n",
      "\n"
     ]
    },
    {
     "name": "stdout",
     "output_type": "stream",
     "text": [
      " 68%|██████▊   | 34/50 [02:16<01:05,  4.11s/trial, best loss: -0.58675799086758]"
     ]
    },
    {
     "name": "stderr",
     "output_type": "stream",
     "text": [
      "2023/08/15 07:56:14 WARNING mlflow.sklearn: Unrecognized dataset type <class 'list'>. Dataset logging skipped.\n",
      "\n",
      "2023/08/15 07:56:16 WARNING mlflow.sklearn: Failed to infer model signature: ('Expected one of the following types:\\n- pandas.DataFrame\\n- pandas.Series\\n- numpy.ndarray\\n- dictionary of (name -> numpy.ndarray)\\n- pyspark.sql.DataFrame\\n', \"- scipy.sparse.csr_matrix\\n- scipy.sparse.csc_matrix\\n- str\\n- List[str]\\n- List[Dict[str, Union[str, List[str]]]]\\n- Dict[str, Union[str, List[str]]]\\n- bytes\\nbut got '<class 'list'>'\")\n",
      "\n",
      "2023/08/15 07:56:19 WARNING mlflow.sklearn: Unrecognized dataset type <class 'list'>. Dataset logging skipped.\n",
      "\n"
     ]
    },
    {
     "name": "stdout",
     "output_type": "stream",
     "text": [
      " 70%|███████   | 35/50 [02:21<01:03,  4.26s/trial, best loss: -0.58675799086758]"
     ]
    },
    {
     "name": "stderr",
     "output_type": "stream",
     "text": [
      "2023/08/15 07:56:19 WARNING mlflow.sklearn: Unrecognized dataset type <class 'list'>. Dataset logging skipped.\n",
      "\n",
      "2023/08/15 07:56:21 WARNING mlflow.sklearn: Failed to infer model signature: ('Expected one of the following types:\\n- pandas.DataFrame\\n- pandas.Series\\n- numpy.ndarray\\n- dictionary of (name -> numpy.ndarray)\\n- pyspark.sql.DataFrame\\n', \"- scipy.sparse.csr_matrix\\n- scipy.sparse.csc_matrix\\n- str\\n- List[str]\\n- List[Dict[str, Union[str, List[str]]]]\\n- Dict[str, Union[str, List[str]]]\\n- bytes\\nbut got '<class 'list'>'\")\n",
      "\n",
      "2023/08/15 07:56:24 WARNING mlflow.sklearn: Unrecognized dataset type <class 'list'>. Dataset logging skipped.\n",
      "\n"
     ]
    },
    {
     "name": "stdout",
     "output_type": "stream",
     "text": [
      " 72%|███████▏  | 36/50 [02:26<01:03,  4.51s/trial, best loss: -0.58675799086758]"
     ]
    },
    {
     "name": "stderr",
     "output_type": "stream",
     "text": [
      "2023/08/15 07:56:24 WARNING mlflow.sklearn: Unrecognized dataset type <class 'list'>. Dataset logging skipped.\n",
      "\n",
      "2023/08/15 07:56:26 WARNING mlflow.sklearn: Failed to infer model signature: ('Expected one of the following types:\\n- pandas.DataFrame\\n- pandas.Series\\n- numpy.ndarray\\n- dictionary of (name -> numpy.ndarray)\\n- pyspark.sql.DataFrame\\n', \"- scipy.sparse.csr_matrix\\n- scipy.sparse.csc_matrix\\n- str\\n- List[str]\\n- List[Dict[str, Union[str, List[str]]]]\\n- Dict[str, Union[str, List[str]]]\\n- bytes\\nbut got '<class 'list'>'\")\n",
      "\n",
      "2023/08/15 07:56:28 WARNING mlflow.sklearn: Unrecognized dataset type <class 'list'>. Dataset logging skipped.\n",
      "\n"
     ]
    },
    {
     "name": "stdout",
     "output_type": "stream",
     "text": [
      " 74%|███████▍  | 37/50 [02:30<00:58,  4.51s/trial, best loss: -0.58675799086758]"
     ]
    },
    {
     "name": "stderr",
     "output_type": "stream",
     "text": [
      "2023/08/15 07:56:29 WARNING mlflow.sklearn: Unrecognized dataset type <class 'list'>. Dataset logging skipped.\n",
      "\n",
      "2023/08/15 07:56:30 WARNING mlflow.sklearn: Failed to infer model signature: ('Expected one of the following types:\\n- pandas.DataFrame\\n- pandas.Series\\n- numpy.ndarray\\n- dictionary of (name -> numpy.ndarray)\\n- pyspark.sql.DataFrame\\n', \"- scipy.sparse.csr_matrix\\n- scipy.sparse.csc_matrix\\n- str\\n- List[str]\\n- List[Dict[str, Union[str, List[str]]]]\\n- Dict[str, Union[str, List[str]]]\\n- bytes\\nbut got '<class 'list'>'\")\n",
      "\n",
      "2023/08/15 07:56:32 WARNING mlflow.sklearn: Unrecognized dataset type <class 'list'>. Dataset logging skipped.\n",
      "\n"
     ]
    },
    {
     "name": "stdout",
     "output_type": "stream",
     "text": [
      " 76%|███████▌  | 38/50 [02:34<00:51,  4.30s/trial, best loss: -0.58675799086758]"
     ]
    },
    {
     "name": "stderr",
     "output_type": "stream",
     "text": [
      "2023/08/15 07:56:32 WARNING mlflow.sklearn: Unrecognized dataset type <class 'list'>. Dataset logging skipped.\n",
      "\n",
      "2023/08/15 07:56:34 WARNING mlflow.sklearn: Failed to infer model signature: ('Expected one of the following types:\\n- pandas.DataFrame\\n- pandas.Series\\n- numpy.ndarray\\n- dictionary of (name -> numpy.ndarray)\\n- pyspark.sql.DataFrame\\n', \"- scipy.sparse.csr_matrix\\n- scipy.sparse.csc_matrix\\n- str\\n- List[str]\\n- List[Dict[str, Union[str, List[str]]]]\\n- Dict[str, Union[str, List[str]]]\\n- bytes\\nbut got '<class 'list'>'\")\n",
      "\n",
      "2023/08/15 07:56:36 WARNING mlflow.sklearn: Unrecognized dataset type <class 'list'>. Dataset logging skipped.\n",
      "\n"
     ]
    },
    {
     "name": "stdout",
     "output_type": "stream",
     "text": [
      " 78%|███████▊  | 39/50 [02:38<00:46,  4.26s/trial, best loss: -0.58675799086758]"
     ]
    },
    {
     "name": "stderr",
     "output_type": "stream",
     "text": [
      "2023/08/15 07:56:37 WARNING mlflow.sklearn: Unrecognized dataset type <class 'list'>. Dataset logging skipped.\n",
      "\n",
      "2023/08/15 07:56:39 WARNING mlflow.sklearn: Failed to infer model signature: ('Expected one of the following types:\\n- pandas.DataFrame\\n- pandas.Series\\n- numpy.ndarray\\n- dictionary of (name -> numpy.ndarray)\\n- pyspark.sql.DataFrame\\n', \"- scipy.sparse.csr_matrix\\n- scipy.sparse.csc_matrix\\n- str\\n- List[str]\\n- List[Dict[str, Union[str, List[str]]]]\\n- Dict[str, Union[str, List[str]]]\\n- bytes\\nbut got '<class 'list'>'\")\n",
      "\n",
      "2023/08/15 07:56:41 WARNING mlflow.sklearn: Unrecognized dataset type <class 'list'>. Dataset logging skipped.\n",
      "\n"
     ]
    },
    {
     "name": "stdout",
     "output_type": "stream",
     "text": [
      " 80%|████████  | 40/50 [02:42<00:42,  4.20s/trial, best loss: -0.58675799086758]"
     ]
    },
    {
     "name": "stderr",
     "output_type": "stream",
     "text": [
      "2023/08/15 07:56:41 WARNING mlflow.sklearn: Unrecognized dataset type <class 'list'>. Dataset logging skipped.\n",
      "\n",
      "2023/08/15 07:56:42 WARNING mlflow.sklearn: Failed to infer model signature: ('Expected one of the following types:\\n- pandas.DataFrame\\n- pandas.Series\\n- numpy.ndarray\\n- dictionary of (name -> numpy.ndarray)\\n- pyspark.sql.DataFrame\\n', \"- scipy.sparse.csr_matrix\\n- scipy.sparse.csc_matrix\\n- str\\n- List[str]\\n- List[Dict[str, Union[str, List[str]]]]\\n- Dict[str, Union[str, List[str]]]\\n- bytes\\nbut got '<class 'list'>'\")\n",
      "\n",
      "2023/08/15 07:56:44 WARNING mlflow.sklearn: Unrecognized dataset type <class 'list'>. Dataset logging skipped.\n",
      "\n"
     ]
    },
    {
     "name": "stdout",
     "output_type": "stream",
     "text": [
      " 82%|████████▏ | 41/50 [02:46<00:36,  4.10s/trial, best loss: -0.58675799086758]"
     ]
    },
    {
     "name": "stderr",
     "output_type": "stream",
     "text": [
      "2023/08/15 07:56:45 WARNING mlflow.sklearn: Unrecognized dataset type <class 'list'>. Dataset logging skipped.\n",
      "\n",
      "2023/08/15 07:56:46 WARNING mlflow.sklearn: Failed to infer model signature: ('Expected one of the following types:\\n- pandas.DataFrame\\n- pandas.Series\\n- numpy.ndarray\\n- dictionary of (name -> numpy.ndarray)\\n- pyspark.sql.DataFrame\\n', \"- scipy.sparse.csr_matrix\\n- scipy.sparse.csc_matrix\\n- str\\n- List[str]\\n- List[Dict[str, Union[str, List[str]]]]\\n- Dict[str, Union[str, List[str]]]\\n- bytes\\nbut got '<class 'list'>'\")\n",
      "\n",
      "2023/08/15 07:56:48 WARNING mlflow.sklearn: Unrecognized dataset type <class 'list'>. Dataset logging skipped.\n",
      "\n"
     ]
    },
    {
     "name": "stdout",
     "output_type": "stream",
     "text": [
      " 84%|████████▍ | 42/50 [02:50<00:31,  3.99s/trial, best loss: -0.58675799086758]"
     ]
    },
    {
     "name": "stderr",
     "output_type": "stream",
     "text": [
      "2023/08/15 07:56:48 WARNING mlflow.sklearn: Unrecognized dataset type <class 'list'>. Dataset logging skipped.\n",
      "\n",
      "2023/08/15 07:56:50 WARNING mlflow.sklearn: Failed to infer model signature: ('Expected one of the following types:\\n- pandas.DataFrame\\n- pandas.Series\\n- numpy.ndarray\\n- dictionary of (name -> numpy.ndarray)\\n- pyspark.sql.DataFrame\\n', \"- scipy.sparse.csr_matrix\\n- scipy.sparse.csc_matrix\\n- str\\n- List[str]\\n- List[Dict[str, Union[str, List[str]]]]\\n- Dict[str, Union[str, List[str]]]\\n- bytes\\nbut got '<class 'list'>'\")\n",
      "\n",
      "2023/08/15 07:56:52 WARNING mlflow.sklearn: Unrecognized dataset type <class 'list'>. Dataset logging skipped.\n",
      "\n"
     ]
    },
    {
     "name": "stdout",
     "output_type": "stream",
     "text": [
      " 86%|████████▌ | 43/50 [02:54<00:27,  3.87s/trial, best loss: -0.58675799086758]"
     ]
    },
    {
     "name": "stderr",
     "output_type": "stream",
     "text": [
      "2023/08/15 07:56:52 WARNING mlflow.sklearn: Unrecognized dataset type <class 'list'>. Dataset logging skipped.\n",
      "\n",
      "2023/08/15 07:56:54 WARNING mlflow.sklearn: Failed to infer model signature: ('Expected one of the following types:\\n- pandas.DataFrame\\n- pandas.Series\\n- numpy.ndarray\\n- dictionary of (name -> numpy.ndarray)\\n- pyspark.sql.DataFrame\\n', \"- scipy.sparse.csr_matrix\\n- scipy.sparse.csc_matrix\\n- str\\n- List[str]\\n- List[Dict[str, Union[str, List[str]]]]\\n- Dict[str, Union[str, List[str]]]\\n- bytes\\nbut got '<class 'list'>'\")\n",
      "\n",
      "2023/08/15 07:56:56 WARNING mlflow.sklearn: Unrecognized dataset type <class 'list'>. Dataset logging skipped.\n",
      "\n"
     ]
    },
    {
     "name": "stdout",
     "output_type": "stream",
     "text": [
      " 88%|████████▊ | 44/50 [02:57<00:23,  3.85s/trial, best loss: -0.58675799086758]"
     ]
    },
    {
     "name": "stderr",
     "output_type": "stream",
     "text": [
      "2023/08/15 07:56:56 WARNING mlflow.sklearn: Unrecognized dataset type <class 'list'>. Dataset logging skipped.\n",
      "\n",
      "2023/08/15 07:56:57 WARNING mlflow.sklearn: Failed to infer model signature: ('Expected one of the following types:\\n- pandas.DataFrame\\n- pandas.Series\\n- numpy.ndarray\\n- dictionary of (name -> numpy.ndarray)\\n- pyspark.sql.DataFrame\\n', \"- scipy.sparse.csr_matrix\\n- scipy.sparse.csc_matrix\\n- str\\n- List[str]\\n- List[Dict[str, Union[str, List[str]]]]\\n- Dict[str, Union[str, List[str]]]\\n- bytes\\nbut got '<class 'list'>'\")\n",
      "\n",
      "2023/08/15 07:56:59 WARNING mlflow.sklearn: Unrecognized dataset type <class 'list'>. Dataset logging skipped.\n",
      "\n"
     ]
    },
    {
     "name": "stdout",
     "output_type": "stream",
     "text": [
      " 90%|█████████ | 45/50 [03:01<00:19,  3.81s/trial, best loss: -0.58675799086758]"
     ]
    },
    {
     "name": "stderr",
     "output_type": "stream",
     "text": [
      "2023/08/15 07:56:59 WARNING mlflow.sklearn: Unrecognized dataset type <class 'list'>. Dataset logging skipped.\n",
      "\n",
      "2023/08/15 07:57:01 WARNING mlflow.sklearn: Failed to infer model signature: ('Expected one of the following types:\\n- pandas.DataFrame\\n- pandas.Series\\n- numpy.ndarray\\n- dictionary of (name -> numpy.ndarray)\\n- pyspark.sql.DataFrame\\n', \"- scipy.sparse.csr_matrix\\n- scipy.sparse.csc_matrix\\n- str\\n- List[str]\\n- List[Dict[str, Union[str, List[str]]]]\\n- Dict[str, Union[str, List[str]]]\\n- bytes\\nbut got '<class 'list'>'\")\n",
      "\n",
      "2023/08/15 07:57:03 WARNING mlflow.sklearn: Unrecognized dataset type <class 'list'>. Dataset logging skipped.\n",
      "\n"
     ]
    },
    {
     "name": "stdout",
     "output_type": "stream",
     "text": [
      " 92%|█████████▏| 46/50 [03:05<00:15,  3.81s/trial, best loss: -0.58675799086758]"
     ]
    },
    {
     "name": "stderr",
     "output_type": "stream",
     "text": [
      "2023/08/15 07:57:03 WARNING mlflow.sklearn: Unrecognized dataset type <class 'list'>. Dataset logging skipped.\n",
      "\n",
      "2023/08/15 07:57:05 WARNING mlflow.sklearn: Failed to infer model signature: ('Expected one of the following types:\\n- pandas.DataFrame\\n- pandas.Series\\n- numpy.ndarray\\n- dictionary of (name -> numpy.ndarray)\\n- pyspark.sql.DataFrame\\n', \"- scipy.sparse.csr_matrix\\n- scipy.sparse.csc_matrix\\n- str\\n- List[str]\\n- List[Dict[str, Union[str, List[str]]]]\\n- Dict[str, Union[str, List[str]]]\\n- bytes\\nbut got '<class 'list'>'\")\n",
      "\n",
      "2023/08/15 07:57:07 WARNING mlflow.sklearn: Unrecognized dataset type <class 'list'>. Dataset logging skipped.\n",
      "\n"
     ]
    },
    {
     "name": "stdout",
     "output_type": "stream",
     "text": [
      " 94%|█████████▍| 47/50 [03:09<00:11,  3.81s/trial, best loss: -0.58675799086758]"
     ]
    },
    {
     "name": "stderr",
     "output_type": "stream",
     "text": [
      "2023/08/15 07:57:07 WARNING mlflow.sklearn: Unrecognized dataset type <class 'list'>. Dataset logging skipped.\n",
      "\n",
      "2023/08/15 07:57:09 WARNING mlflow.sklearn: Failed to infer model signature: ('Expected one of the following types:\\n- pandas.DataFrame\\n- pandas.Series\\n- numpy.ndarray\\n- dictionary of (name -> numpy.ndarray)\\n- pyspark.sql.DataFrame\\n', \"- scipy.sparse.csr_matrix\\n- scipy.sparse.csc_matrix\\n- str\\n- List[str]\\n- List[Dict[str, Union[str, List[str]]]]\\n- Dict[str, Union[str, List[str]]]\\n- bytes\\nbut got '<class 'list'>'\")\n",
      "\n",
      "2023/08/15 07:57:11 WARNING mlflow.sklearn: Unrecognized dataset type <class 'list'>. Dataset logging skipped.\n",
      "\n"
     ]
    },
    {
     "name": "stdout",
     "output_type": "stream",
     "text": [
      " 96%|█████████▌| 48/50 [03:13<00:07,  3.94s/trial, best loss: -0.58675799086758]"
     ]
    },
    {
     "name": "stderr",
     "output_type": "stream",
     "text": [
      "2023/08/15 07:57:11 WARNING mlflow.sklearn: Unrecognized dataset type <class 'list'>. Dataset logging skipped.\n",
      "\n",
      "2023/08/15 07:57:13 WARNING mlflow.sklearn: Failed to infer model signature: ('Expected one of the following types:\\n- pandas.DataFrame\\n- pandas.Series\\n- numpy.ndarray\\n- dictionary of (name -> numpy.ndarray)\\n- pyspark.sql.DataFrame\\n', \"- scipy.sparse.csr_matrix\\n- scipy.sparse.csc_matrix\\n- str\\n- List[str]\\n- List[Dict[str, Union[str, List[str]]]]\\n- Dict[str, Union[str, List[str]]]\\n- bytes\\nbut got '<class 'list'>'\")\n",
      "\n",
      "2023/08/15 07:57:15 WARNING mlflow.sklearn: Unrecognized dataset type <class 'list'>. Dataset logging skipped.\n",
      "\n"
     ]
    },
    {
     "name": "stdout",
     "output_type": "stream",
     "text": [
      " 98%|█████████▊| 49/50 [03:17<00:03,  3.99s/trial, best loss: -0.58675799086758]"
     ]
    },
    {
     "name": "stderr",
     "output_type": "stream",
     "text": [
      "2023/08/15 07:57:15 WARNING mlflow.sklearn: Unrecognized dataset type <class 'list'>. Dataset logging skipped.\n",
      "\n",
      "2023/08/15 07:57:17 WARNING mlflow.sklearn: Failed to infer model signature: ('Expected one of the following types:\\n- pandas.DataFrame\\n- pandas.Series\\n- numpy.ndarray\\n- dictionary of (name -> numpy.ndarray)\\n- pyspark.sql.DataFrame\\n', \"- scipy.sparse.csr_matrix\\n- scipy.sparse.csc_matrix\\n- str\\n- List[str]\\n- List[Dict[str, Union[str, List[str]]]]\\n- Dict[str, Union[str, List[str]]]\\n- bytes\\nbut got '<class 'list'>'\")\n",
      "\n",
      "2023/08/15 07:57:20 WARNING mlflow.sklearn: Unrecognized dataset type <class 'list'>. Dataset logging skipped.\n",
      "\n"
     ]
    },
    {
     "name": "stdout",
     "output_type": "stream",
     "text": [
      "100%|██████████| 50/50 [03:22<00:00,  4.05s/trial, best loss: -0.58675799086758]\n"
     ]
    },
    {
     "data": {
      "text/plain": [
       "{'criterion': 1,\n",
       " 'max_depth': 5,\n",
       " 'min_samples_leaf': 14,\n",
       " 'min_samples_split': 9}"
      ]
     },
     "execution_count": 8,
     "metadata": {},
     "output_type": "execute_result"
    }
   ],
   "source": [
    "def single_tree_objective(params):\n",
    "    with mlflow.start_run():\n",
    "\n",
    "        mlflow.set_tag('Developer', 'Godwin')\n",
    "\n",
    "        pipeline = make_pipeline(DictVectorizer(sparse=False),\n",
    "                                    DecisionTreeClassifier(**params))\n",
    "       \n",
    "        pipeline.fit(train_x, train_y)\n",
    "\n",
    "        test_pred = pipeline.predict(test_x)\n",
    "        test_output_eval = log_evaluation(test_y, test_pred)   \n",
    "        \n",
    "        mlflow.log_metrics(test_output_eval)\n",
    "        \n",
    "    return {\"loss\": -test_output_eval['test_f1_score'], 'status': STATUS_OK}\n",
    "\n",
    "def single_tree():\n",
    "\n",
    "    space = {\"max_depth\": hp.randint(\"max_depth\", 1, 15),\n",
    "            'min_samples_split': hp.randint(\"min_samples_split\", 2, 15),\n",
    "            'min_samples_leaf': hp.randint(\"min_samples_leaf\", 1, 15),\n",
    "            \"criterion\": hp.choice(\"criterion\", [\"gini\", \"entropy\"]),\n",
    "            }\n",
    "\n",
    "    best_result = fmin(fn= single_tree_objective,\n",
    "                        space=space,\n",
    "                        algo=tpe.suggest,\n",
    "                        max_evals=50,\n",
    "                        trials=Trials()\n",
    "                        )\n",
    "    return best_result\n",
    "\n",
    "single_tree()"
   ]
  },
  {
   "cell_type": "code",
   "execution_count": 9,
   "metadata": {},
   "outputs": [
    {
     "name": "stdout",
     "output_type": "stream",
     "text": [
      "  0%|          | 0/50 [00:00<?, ?trial/s, best loss=?]"
     ]
    },
    {
     "name": "stderr",
     "output_type": "stream",
     "text": [
      "2023/08/15 07:57:20 WARNING mlflow.sklearn: Unrecognized dataset type <class 'list'>. Dataset logging skipped.\n",
      "\n",
      "2023/08/15 07:57:27 WARNING mlflow.sklearn: Failed to infer model signature: ('Expected one of the following types:\\n- pandas.DataFrame\\n- pandas.Series\\n- numpy.ndarray\\n- dictionary of (name -> numpy.ndarray)\\n- pyspark.sql.DataFrame\\n', \"- scipy.sparse.csr_matrix\\n- scipy.sparse.csc_matrix\\n- str\\n- List[str]\\n- List[Dict[str, Union[str, List[str]]]]\\n- Dict[str, Union[str, List[str]]]\\n- bytes\\nbut got '<class 'list'>'\")\n",
      "\n",
      "2023/08/15 07:57:30 WARNING mlflow.sklearn: Unrecognized dataset type <class 'list'>. Dataset logging skipped.\n",
      "\n"
     ]
    },
    {
     "name": "stdout",
     "output_type": "stream",
     "text": [
      "  2%|▏         | 1/50 [00:10<08:16, 10.14s/trial, best loss: -0.5663265306122448]"
     ]
    },
    {
     "name": "stderr",
     "output_type": "stream",
     "text": [
      "2023/08/15 07:57:30 WARNING mlflow.sklearn: Unrecognized dataset type <class 'list'>. Dataset logging skipped.\n",
      "\n",
      "2023/08/15 07:57:35 WARNING mlflow.sklearn: Failed to infer model signature: ('Expected one of the following types:\\n- pandas.DataFrame\\n- pandas.Series\\n- numpy.ndarray\\n- dictionary of (name -> numpy.ndarray)\\n- pyspark.sql.DataFrame\\n', \"- scipy.sparse.csr_matrix\\n- scipy.sparse.csc_matrix\\n- str\\n- List[str]\\n- List[Dict[str, Union[str, List[str]]]]\\n- Dict[str, Union[str, List[str]]]\\n- bytes\\nbut got '<class 'list'>'\")\n",
      "\n",
      "2023/08/15 07:57:37 WARNING mlflow.sklearn: Unrecognized dataset type <class 'list'>. Dataset logging skipped.\n",
      "\n"
     ]
    },
    {
     "name": "stdout",
     "output_type": "stream",
     "text": [
      "  4%|▍         | 2/50 [00:17<06:41,  8.37s/trial, best loss: -0.5743329097839898]"
     ]
    },
    {
     "name": "stderr",
     "output_type": "stream",
     "text": [
      "2023/08/15 07:57:37 WARNING mlflow.sklearn: Unrecognized dataset type <class 'list'>. Dataset logging skipped.\n",
      "\n",
      "2023/08/15 07:57:47 WARNING mlflow.sklearn: Failed to infer model signature: ('Expected one of the following types:\\n- pandas.DataFrame\\n- pandas.Series\\n- numpy.ndarray\\n- dictionary of (name -> numpy.ndarray)\\n- pyspark.sql.DataFrame\\n', \"- scipy.sparse.csr_matrix\\n- scipy.sparse.csc_matrix\\n- str\\n- List[str]\\n- List[Dict[str, Union[str, List[str]]]]\\n- Dict[str, Union[str, List[str]]]\\n- bytes\\nbut got '<class 'list'>'\")\n",
      "\n",
      "2023/08/15 07:57:49 WARNING mlflow.sklearn: Unrecognized dataset type <class 'list'>. Dataset logging skipped.\n",
      "\n"
     ]
    },
    {
     "name": "stdout",
     "output_type": "stream",
     "text": [
      "  6%|▌         | 3/50 [00:29<07:51, 10.02s/trial, best loss: -0.5743329097839898]"
     ]
    },
    {
     "name": "stderr",
     "output_type": "stream",
     "text": [
      "2023/08/15 07:57:49 WARNING mlflow.sklearn: Unrecognized dataset type <class 'list'>. Dataset logging skipped.\n",
      "\n",
      "2023/08/15 07:57:54 WARNING mlflow.sklearn: Failed to infer model signature: ('Expected one of the following types:\\n- pandas.DataFrame\\n- pandas.Series\\n- numpy.ndarray\\n- dictionary of (name -> numpy.ndarray)\\n- pyspark.sql.DataFrame\\n', \"- scipy.sparse.csr_matrix\\n- scipy.sparse.csc_matrix\\n- str\\n- List[str]\\n- List[Dict[str, Union[str, List[str]]]]\\n- Dict[str, Union[str, List[str]]]\\n- bytes\\nbut got '<class 'list'>'\")\n",
      "\n",
      "2023/08/15 07:57:57 WARNING mlflow.sklearn: Unrecognized dataset type <class 'list'>. Dataset logging skipped.\n",
      "\n"
     ]
    },
    {
     "name": "stdout",
     "output_type": "stream",
     "text": [
      "  8%|▊         | 4/50 [00:37<07:02,  9.18s/trial, best loss: -0.5743329097839898]"
     ]
    },
    {
     "name": "stderr",
     "output_type": "stream",
     "text": [
      "2023/08/15 07:57:57 WARNING mlflow.sklearn: Unrecognized dataset type <class 'list'>. Dataset logging skipped.\n",
      "\n",
      "2023/08/15 07:58:01 WARNING mlflow.sklearn: Failed to infer model signature: ('Expected one of the following types:\\n- pandas.DataFrame\\n- pandas.Series\\n- numpy.ndarray\\n- dictionary of (name -> numpy.ndarray)\\n- pyspark.sql.DataFrame\\n', \"- scipy.sparse.csr_matrix\\n- scipy.sparse.csc_matrix\\n- str\\n- List[str]\\n- List[Dict[str, Union[str, List[str]]]]\\n- Dict[str, Union[str, List[str]]]\\n- bytes\\nbut got '<class 'list'>'\")\n",
      "\n",
      "2023/08/15 07:58:03 WARNING mlflow.sklearn: Unrecognized dataset type <class 'list'>. Dataset logging skipped.\n",
      "\n"
     ]
    },
    {
     "name": "stdout",
     "output_type": "stream",
     "text": [
      " 10%|█         | 5/50 [00:42<05:55,  7.91s/trial, best loss: -0.5750962772785623]"
     ]
    },
    {
     "name": "stderr",
     "output_type": "stream",
     "text": [
      "2023/08/15 07:58:03 WARNING mlflow.sklearn: Unrecognized dataset type <class 'list'>. Dataset logging skipped.\n",
      "\n",
      "2023/08/15 07:58:12 WARNING mlflow.sklearn: Failed to infer model signature: ('Expected one of the following types:\\n- pandas.DataFrame\\n- pandas.Series\\n- numpy.ndarray\\n- dictionary of (name -> numpy.ndarray)\\n- pyspark.sql.DataFrame\\n', \"- scipy.sparse.csr_matrix\\n- scipy.sparse.csc_matrix\\n- str\\n- List[str]\\n- List[Dict[str, Union[str, List[str]]]]\\n- Dict[str, Union[str, List[str]]]\\n- bytes\\nbut got '<class 'list'>'\")\n",
      "\n",
      "2023/08/15 07:58:15 WARNING mlflow.sklearn: Unrecognized dataset type <class 'list'>. Dataset logging skipped.\n",
      "\n"
     ]
    },
    {
     "name": "stdout",
     "output_type": "stream",
     "text": [
      " 12%|█▏        | 6/50 [00:54<06:47,  9.26s/trial, best loss: -0.5750962772785623]"
     ]
    },
    {
     "name": "stderr",
     "output_type": "stream",
     "text": [
      "2023/08/15 07:58:15 WARNING mlflow.sklearn: Unrecognized dataset type <class 'list'>. Dataset logging skipped.\n",
      "\n",
      "2023/08/15 07:58:22 WARNING mlflow.sklearn: Failed to infer model signature: ('Expected one of the following types:\\n- pandas.DataFrame\\n- pandas.Series\\n- numpy.ndarray\\n- dictionary of (name -> numpy.ndarray)\\n- pyspark.sql.DataFrame\\n', \"- scipy.sparse.csr_matrix\\n- scipy.sparse.csc_matrix\\n- str\\n- List[str]\\n- List[Dict[str, Union[str, List[str]]]]\\n- Dict[str, Union[str, List[str]]]\\n- bytes\\nbut got '<class 'list'>'\")\n",
      "\n",
      "2023/08/15 07:58:25 WARNING mlflow.sklearn: Unrecognized dataset type <class 'list'>. Dataset logging skipped.\n",
      "\n"
     ]
    },
    {
     "name": "stdout",
     "output_type": "stream",
     "text": [
      " 14%|█▍        | 7/50 [01:04<06:51,  9.56s/trial, best loss: -0.5750962772785623]"
     ]
    },
    {
     "name": "stderr",
     "output_type": "stream",
     "text": [
      "2023/08/15 07:58:25 WARNING mlflow.sklearn: Unrecognized dataset type <class 'list'>. Dataset logging skipped.\n",
      "\n",
      "2023/08/15 07:58:32 WARNING mlflow.sklearn: Failed to infer model signature: ('Expected one of the following types:\\n- pandas.DataFrame\\n- pandas.Series\\n- numpy.ndarray\\n- dictionary of (name -> numpy.ndarray)\\n- pyspark.sql.DataFrame\\n', \"- scipy.sparse.csr_matrix\\n- scipy.sparse.csc_matrix\\n- str\\n- List[str]\\n- List[Dict[str, Union[str, List[str]]]]\\n- Dict[str, Union[str, List[str]]]\\n- bytes\\nbut got '<class 'list'>'\")\n",
      "\n",
      "2023/08/15 07:58:34 WARNING mlflow.sklearn: Unrecognized dataset type <class 'list'>. Dataset logging skipped.\n",
      "\n"
     ]
    },
    {
     "name": "stdout",
     "output_type": "stream",
     "text": [
      " 16%|█▌        | 8/50 [01:14<06:42,  9.57s/trial, best loss: -0.5750962772785623]"
     ]
    },
    {
     "name": "stderr",
     "output_type": "stream",
     "text": [
      "2023/08/15 07:58:35 WARNING mlflow.sklearn: Unrecognized dataset type <class 'list'>. Dataset logging skipped.\n",
      "\n",
      "2023/08/15 07:58:43 WARNING mlflow.sklearn: Failed to infer model signature: ('Expected one of the following types:\\n- pandas.DataFrame\\n- pandas.Series\\n- numpy.ndarray\\n- dictionary of (name -> numpy.ndarray)\\n- pyspark.sql.DataFrame\\n', \"- scipy.sparse.csr_matrix\\n- scipy.sparse.csc_matrix\\n- str\\n- List[str]\\n- List[Dict[str, Union[str, List[str]]]]\\n- Dict[str, Union[str, List[str]]]\\n- bytes\\nbut got '<class 'list'>'\")\n",
      "\n",
      "2023/08/15 07:58:46 WARNING mlflow.sklearn: Unrecognized dataset type <class 'list'>. Dataset logging skipped.\n",
      "\n"
     ]
    },
    {
     "name": "stdout",
     "output_type": "stream",
     "text": [
      " 18%|█▊        | 9/50 [01:25<06:56, 10.17s/trial, best loss: -0.5775535939470366]"
     ]
    },
    {
     "name": "stderr",
     "output_type": "stream",
     "text": [
      "2023/08/15 07:58:46 WARNING mlflow.sklearn: Unrecognized dataset type <class 'list'>. Dataset logging skipped.\n",
      "\n",
      "2023/08/15 07:58:49 WARNING mlflow.sklearn: Failed to infer model signature: ('Expected one of the following types:\\n- pandas.DataFrame\\n- pandas.Series\\n- numpy.ndarray\\n- dictionary of (name -> numpy.ndarray)\\n- pyspark.sql.DataFrame\\n', \"- scipy.sparse.csr_matrix\\n- scipy.sparse.csc_matrix\\n- str\\n- List[str]\\n- List[Dict[str, Union[str, List[str]]]]\\n- Dict[str, Union[str, List[str]]]\\n- bytes\\nbut got '<class 'list'>'\")\n",
      "\n",
      "2023/08/15 07:58:51 WARNING mlflow.sklearn: Unrecognized dataset type <class 'list'>. Dataset logging skipped.\n",
      "\n"
     ]
    },
    {
     "name": "stdout",
     "output_type": "stream",
     "text": [
      " 20%|██        | 10/50 [01:31<05:46,  8.65s/trial, best loss: -0.5775535939470366]"
     ]
    },
    {
     "name": "stderr",
     "output_type": "stream",
     "text": [
      "2023/08/15 07:58:51 WARNING mlflow.sklearn: Unrecognized dataset type <class 'list'>. Dataset logging skipped.\n",
      "\n",
      "2023/08/15 07:58:59 WARNING mlflow.sklearn: Failed to infer model signature: ('Expected one of the following types:\\n- pandas.DataFrame\\n- pandas.Series\\n- numpy.ndarray\\n- dictionary of (name -> numpy.ndarray)\\n- pyspark.sql.DataFrame\\n', \"- scipy.sparse.csr_matrix\\n- scipy.sparse.csc_matrix\\n- str\\n- List[str]\\n- List[Dict[str, Union[str, List[str]]]]\\n- Dict[str, Union[str, List[str]]]\\n- bytes\\nbut got '<class 'list'>'\")\n",
      "\n",
      "2023/08/15 07:59:01 WARNING mlflow.sklearn: Unrecognized dataset type <class 'list'>. Dataset logging skipped.\n",
      "\n"
     ]
    },
    {
     "name": "stdout",
     "output_type": "stream",
     "text": [
      " 22%|██▏       | 11/50 [01:41<05:55,  9.12s/trial, best loss: -0.5775535939470366]"
     ]
    },
    {
     "name": "stderr",
     "output_type": "stream",
     "text": [
      "2023/08/15 07:59:02 WARNING mlflow.sklearn: Unrecognized dataset type <class 'list'>. Dataset logging skipped.\n",
      "\n",
      "2023/08/15 07:59:04 WARNING mlflow.sklearn: Failed to infer model signature: ('Expected one of the following types:\\n- pandas.DataFrame\\n- pandas.Series\\n- numpy.ndarray\\n- dictionary of (name -> numpy.ndarray)\\n- pyspark.sql.DataFrame\\n', \"- scipy.sparse.csr_matrix\\n- scipy.sparse.csc_matrix\\n- str\\n- List[str]\\n- List[Dict[str, Union[str, List[str]]]]\\n- Dict[str, Union[str, List[str]]]\\n- bytes\\nbut got '<class 'list'>'\")\n",
      "\n",
      "2023/08/15 07:59:07 WARNING mlflow.sklearn: Unrecognized dataset type <class 'list'>. Dataset logging skipped.\n",
      "\n"
     ]
    },
    {
     "name": "stdout",
     "output_type": "stream",
     "text": [
      " 24%|██▍       | 12/50 [01:47<05:06,  8.06s/trial, best loss: -0.5776081424936387]"
     ]
    },
    {
     "name": "stderr",
     "output_type": "stream",
     "text": [
      "2023/08/15 07:59:07 WARNING mlflow.sklearn: Unrecognized dataset type <class 'list'>. Dataset logging skipped.\n",
      "\n",
      "2023/08/15 07:59:17 WARNING mlflow.sklearn: Failed to infer model signature: ('Expected one of the following types:\\n- pandas.DataFrame\\n- pandas.Series\\n- numpy.ndarray\\n- dictionary of (name -> numpy.ndarray)\\n- pyspark.sql.DataFrame\\n', \"- scipy.sparse.csr_matrix\\n- scipy.sparse.csc_matrix\\n- str\\n- List[str]\\n- List[Dict[str, Union[str, List[str]]]]\\n- Dict[str, Union[str, List[str]]]\\n- bytes\\nbut got '<class 'list'>'\")\n",
      "\n",
      "2023/08/15 07:59:20 WARNING mlflow.sklearn: Unrecognized dataset type <class 'list'>. Dataset logging skipped.\n",
      "\n"
     ]
    },
    {
     "name": "stdout",
     "output_type": "stream",
     "text": [
      " 26%|██▌       | 13/50 [02:00<05:55,  9.60s/trial, best loss: -0.5776081424936387]"
     ]
    },
    {
     "name": "stderr",
     "output_type": "stream",
     "text": [
      "2023/08/15 07:59:20 WARNING mlflow.sklearn: Unrecognized dataset type <class 'list'>. Dataset logging skipped.\n",
      "\n",
      "2023/08/15 07:59:28 WARNING mlflow.sklearn: Failed to infer model signature: ('Expected one of the following types:\\n- pandas.DataFrame\\n- pandas.Series\\n- numpy.ndarray\\n- dictionary of (name -> numpy.ndarray)\\n- pyspark.sql.DataFrame\\n', \"- scipy.sparse.csr_matrix\\n- scipy.sparse.csc_matrix\\n- str\\n- List[str]\\n- List[Dict[str, Union[str, List[str]]]]\\n- Dict[str, Union[str, List[str]]]\\n- bytes\\nbut got '<class 'list'>'\")\n",
      "\n",
      "2023/08/15 07:59:31 WARNING mlflow.sklearn: Unrecognized dataset type <class 'list'>. Dataset logging skipped.\n",
      "\n"
     ]
    },
    {
     "name": "stdout",
     "output_type": "stream",
     "text": [
      " 28%|██▊       | 14/50 [02:10<05:55,  9.88s/trial, best loss: -0.5776081424936387]"
     ]
    },
    {
     "name": "stderr",
     "output_type": "stream",
     "text": [
      "2023/08/15 07:59:31 WARNING mlflow.sklearn: Unrecognized dataset type <class 'list'>. Dataset logging skipped.\n",
      "\n",
      "2023/08/15 07:59:35 WARNING mlflow.sklearn: Failed to infer model signature: ('Expected one of the following types:\\n- pandas.DataFrame\\n- pandas.Series\\n- numpy.ndarray\\n- dictionary of (name -> numpy.ndarray)\\n- pyspark.sql.DataFrame\\n', \"- scipy.sparse.csr_matrix\\n- scipy.sparse.csc_matrix\\n- str\\n- List[str]\\n- List[Dict[str, Union[str, List[str]]]]\\n- Dict[str, Union[str, List[str]]]\\n- bytes\\nbut got '<class 'list'>'\")\n",
      "\n",
      "2023/08/15 07:59:37 WARNING mlflow.sklearn: Unrecognized dataset type <class 'list'>. Dataset logging skipped.\n",
      "\n"
     ]
    },
    {
     "name": "stdout",
     "output_type": "stream",
     "text": [
      " 30%|███       | 15/50 [02:17<05:09,  8.85s/trial, best loss: -0.5776081424936387]"
     ]
    },
    {
     "name": "stderr",
     "output_type": "stream",
     "text": [
      "2023/08/15 07:59:37 WARNING mlflow.sklearn: Unrecognized dataset type <class 'list'>. Dataset logging skipped.\n",
      "\n",
      "2023/08/15 07:59:41 WARNING mlflow.sklearn: Failed to infer model signature: ('Expected one of the following types:\\n- pandas.DataFrame\\n- pandas.Series\\n- numpy.ndarray\\n- dictionary of (name -> numpy.ndarray)\\n- pyspark.sql.DataFrame\\n', \"- scipy.sparse.csr_matrix\\n- scipy.sparse.csc_matrix\\n- str\\n- List[str]\\n- List[Dict[str, Union[str, List[str]]]]\\n- Dict[str, Union[str, List[str]]]\\n- bytes\\nbut got '<class 'list'>'\")\n",
      "\n",
      "2023/08/15 07:59:44 WARNING mlflow.sklearn: Unrecognized dataset type <class 'list'>. Dataset logging skipped.\n",
      "\n"
     ]
    },
    {
     "name": "stdout",
     "output_type": "stream",
     "text": [
      " 32%|███▏      | 16/50 [02:23<04:35,  8.10s/trial, best loss: -0.5776081424936387]"
     ]
    },
    {
     "name": "stderr",
     "output_type": "stream",
     "text": [
      "2023/08/15 07:59:44 WARNING mlflow.sklearn: Unrecognized dataset type <class 'list'>. Dataset logging skipped.\n",
      "\n",
      "2023/08/15 07:59:49 WARNING mlflow.sklearn: Failed to infer model signature: ('Expected one of the following types:\\n- pandas.DataFrame\\n- pandas.Series\\n- numpy.ndarray\\n- dictionary of (name -> numpy.ndarray)\\n- pyspark.sql.DataFrame\\n', \"- scipy.sparse.csr_matrix\\n- scipy.sparse.csc_matrix\\n- str\\n- List[str]\\n- List[Dict[str, Union[str, List[str]]]]\\n- Dict[str, Union[str, List[str]]]\\n- bytes\\nbut got '<class 'list'>'\")\n",
      "\n",
      "2023/08/15 07:59:52 WARNING mlflow.sklearn: Unrecognized dataset type <class 'list'>. Dataset logging skipped.\n",
      "\n"
     ]
    },
    {
     "name": "stdout",
     "output_type": "stream",
     "text": [
      " 34%|███▍      | 17/50 [02:31<04:26,  8.08s/trial, best loss: -0.5834394904458599]"
     ]
    },
    {
     "name": "stderr",
     "output_type": "stream",
     "text": [
      "2023/08/15 07:59:52 WARNING mlflow.sklearn: Unrecognized dataset type <class 'list'>. Dataset logging skipped.\n",
      "\n",
      "2023/08/15 07:59:58 WARNING mlflow.sklearn: Failed to infer model signature: ('Expected one of the following types:\\n- pandas.DataFrame\\n- pandas.Series\\n- numpy.ndarray\\n- dictionary of (name -> numpy.ndarray)\\n- pyspark.sql.DataFrame\\n', \"- scipy.sparse.csr_matrix\\n- scipy.sparse.csc_matrix\\n- str\\n- List[str]\\n- List[Dict[str, Union[str, List[str]]]]\\n- Dict[str, Union[str, List[str]]]\\n- bytes\\nbut got '<class 'list'>'\")\n",
      "\n",
      "2023/08/15 08:00:01 WARNING mlflow.sklearn: Unrecognized dataset type <class 'list'>. Dataset logging skipped.\n",
      "\n"
     ]
    },
    {
     "name": "stdout",
     "output_type": "stream",
     "text": [
      " 36%|███▌      | 18/50 [02:40<04:31,  8.48s/trial, best loss: -0.5834394904458599]"
     ]
    },
    {
     "name": "stderr",
     "output_type": "stream",
     "text": [
      "2023/08/15 08:00:01 WARNING mlflow.sklearn: Unrecognized dataset type <class 'list'>. Dataset logging skipped.\n",
      "\n",
      "2023/08/15 08:00:10 WARNING mlflow.sklearn: Failed to infer model signature: ('Expected one of the following types:\\n- pandas.DataFrame\\n- pandas.Series\\n- numpy.ndarray\\n- dictionary of (name -> numpy.ndarray)\\n- pyspark.sql.DataFrame\\n', \"- scipy.sparse.csr_matrix\\n- scipy.sparse.csc_matrix\\n- str\\n- List[str]\\n- List[Dict[str, Union[str, List[str]]]]\\n- Dict[str, Union[str, List[str]]]\\n- bytes\\nbut got '<class 'list'>'\")\n",
      "\n",
      "2023/08/15 08:00:13 WARNING mlflow.sklearn: Unrecognized dataset type <class 'list'>. Dataset logging skipped.\n",
      "\n"
     ]
    },
    {
     "name": "stdout",
     "output_type": "stream",
     "text": [
      " 38%|███▊      | 19/50 [02:52<04:52,  9.42s/trial, best loss: -0.5834394904458599]"
     ]
    },
    {
     "name": "stderr",
     "output_type": "stream",
     "text": [
      "2023/08/15 08:00:13 WARNING mlflow.sklearn: Unrecognized dataset type <class 'list'>. Dataset logging skipped.\n",
      "\n",
      "2023/08/15 08:00:18 WARNING mlflow.sklearn: Failed to infer model signature: ('Expected one of the following types:\\n- pandas.DataFrame\\n- pandas.Series\\n- numpy.ndarray\\n- dictionary of (name -> numpy.ndarray)\\n- pyspark.sql.DataFrame\\n', \"- scipy.sparse.csr_matrix\\n- scipy.sparse.csc_matrix\\n- str\\n- List[str]\\n- List[Dict[str, Union[str, List[str]]]]\\n- Dict[str, Union[str, List[str]]]\\n- bytes\\nbut got '<class 'list'>'\")\n",
      "\n",
      "2023/08/15 08:00:21 WARNING mlflow.sklearn: Unrecognized dataset type <class 'list'>. Dataset logging skipped.\n",
      "\n"
     ]
    },
    {
     "name": "stdout",
     "output_type": "stream",
     "text": [
      " 40%|████      | 20/50 [03:00<04:31,  9.04s/trial, best loss: -0.5834394904458599]"
     ]
    },
    {
     "name": "stderr",
     "output_type": "stream",
     "text": [
      "2023/08/15 08:00:21 WARNING mlflow.sklearn: Unrecognized dataset type <class 'list'>. Dataset logging skipped.\n",
      "\n",
      "2023/08/15 08:00:26 WARNING mlflow.sklearn: Failed to infer model signature: ('Expected one of the following types:\\n- pandas.DataFrame\\n- pandas.Series\\n- numpy.ndarray\\n- dictionary of (name -> numpy.ndarray)\\n- pyspark.sql.DataFrame\\n', \"- scipy.sparse.csr_matrix\\n- scipy.sparse.csc_matrix\\n- str\\n- List[str]\\n- List[Dict[str, Union[str, List[str]]]]\\n- Dict[str, Union[str, List[str]]]\\n- bytes\\nbut got '<class 'list'>'\")\n",
      "\n",
      "2023/08/15 08:00:28 WARNING mlflow.sklearn: Unrecognized dataset type <class 'list'>. Dataset logging skipped.\n",
      "\n"
     ]
    },
    {
     "name": "stdout",
     "output_type": "stream",
     "text": [
      " 42%|████▏     | 21/50 [03:08<04:10,  8.63s/trial, best loss: -0.5834394904458599]"
     ]
    },
    {
     "name": "stderr",
     "output_type": "stream",
     "text": [
      "2023/08/15 08:00:29 WARNING mlflow.sklearn: Unrecognized dataset type <class 'list'>. Dataset logging skipped.\n",
      "\n",
      "2023/08/15 08:00:34 WARNING mlflow.sklearn: Failed to infer model signature: ('Expected one of the following types:\\n- pandas.DataFrame\\n- pandas.Series\\n- numpy.ndarray\\n- dictionary of (name -> numpy.ndarray)\\n- pyspark.sql.DataFrame\\n', \"- scipy.sparse.csr_matrix\\n- scipy.sparse.csc_matrix\\n- str\\n- List[str]\\n- List[Dict[str, Union[str, List[str]]]]\\n- Dict[str, Union[str, List[str]]]\\n- bytes\\nbut got '<class 'list'>'\")\n",
      "\n",
      "2023/08/15 08:00:37 WARNING mlflow.sklearn: Unrecognized dataset type <class 'list'>. Dataset logging skipped.\n",
      "\n"
     ]
    },
    {
     "name": "stdout",
     "output_type": "stream",
     "text": [
      " 44%|████▍     | 22/50 [03:16<03:58,  8.54s/trial, best loss: -0.5834394904458599]"
     ]
    },
    {
     "name": "stderr",
     "output_type": "stream",
     "text": [
      "2023/08/15 08:00:37 WARNING mlflow.sklearn: Unrecognized dataset type <class 'list'>. Dataset logging skipped.\n",
      "\n",
      "2023/08/15 08:00:43 WARNING mlflow.sklearn: Failed to infer model signature: ('Expected one of the following types:\\n- pandas.DataFrame\\n- pandas.Series\\n- numpy.ndarray\\n- dictionary of (name -> numpy.ndarray)\\n- pyspark.sql.DataFrame\\n', \"- scipy.sparse.csr_matrix\\n- scipy.sparse.csc_matrix\\n- str\\n- List[str]\\n- List[Dict[str, Union[str, List[str]]]]\\n- Dict[str, Union[str, List[str]]]\\n- bytes\\nbut got '<class 'list'>'\")\n",
      "\n",
      "2023/08/15 08:00:46 WARNING mlflow.sklearn: Unrecognized dataset type <class 'list'>. Dataset logging skipped.\n",
      "\n"
     ]
    },
    {
     "name": "stdout",
     "output_type": "stream",
     "text": [
      " 46%|████▌     | 23/50 [03:26<03:57,  8.81s/trial, best loss: -0.5834394904458599]"
     ]
    },
    {
     "name": "stderr",
     "output_type": "stream",
     "text": [
      "2023/08/15 08:00:46 WARNING mlflow.sklearn: Unrecognized dataset type <class 'list'>. Dataset logging skipped.\n",
      "\n",
      "2023/08/15 08:00:49 WARNING mlflow.sklearn: Failed to infer model signature: ('Expected one of the following types:\\n- pandas.DataFrame\\n- pandas.Series\\n- numpy.ndarray\\n- dictionary of (name -> numpy.ndarray)\\n- pyspark.sql.DataFrame\\n', \"- scipy.sparse.csr_matrix\\n- scipy.sparse.csc_matrix\\n- str\\n- List[str]\\n- List[Dict[str, Union[str, List[str]]]]\\n- Dict[str, Union[str, List[str]]]\\n- bytes\\nbut got '<class 'list'>'\")\n",
      "\n",
      "2023/08/15 08:00:51 WARNING mlflow.sklearn: Unrecognized dataset type <class 'list'>. Dataset logging skipped.\n",
      "\n"
     ]
    },
    {
     "name": "stdout",
     "output_type": "stream",
     "text": [
      " 48%|████▊     | 24/50 [03:31<03:21,  7.75s/trial, best loss: -0.5834394904458599]"
     ]
    },
    {
     "name": "stderr",
     "output_type": "stream",
     "text": [
      "2023/08/15 08:00:52 WARNING mlflow.sklearn: Unrecognized dataset type <class 'list'>. Dataset logging skipped.\n",
      "\n",
      "2023/08/15 08:00:55 WARNING mlflow.sklearn: Failed to infer model signature: ('Expected one of the following types:\\n- pandas.DataFrame\\n- pandas.Series\\n- numpy.ndarray\\n- dictionary of (name -> numpy.ndarray)\\n- pyspark.sql.DataFrame\\n', \"- scipy.sparse.csr_matrix\\n- scipy.sparse.csc_matrix\\n- str\\n- List[str]\\n- List[Dict[str, Union[str, List[str]]]]\\n- Dict[str, Union[str, List[str]]]\\n- bytes\\nbut got '<class 'list'>'\")\n",
      "\n",
      "2023/08/15 08:00:57 WARNING mlflow.sklearn: Unrecognized dataset type <class 'list'>. Dataset logging skipped.\n",
      "\n"
     ]
    },
    {
     "name": "stdout",
     "output_type": "stream",
     "text": [
      " 50%|█████     | 25/50 [03:36<02:55,  7.04s/trial, best loss: -0.5834394904458599]"
     ]
    },
    {
     "name": "stderr",
     "output_type": "stream",
     "text": [
      "2023/08/15 08:00:57 WARNING mlflow.sklearn: Unrecognized dataset type <class 'list'>. Dataset logging skipped.\n",
      "\n",
      "2023/08/15 08:01:03 WARNING mlflow.sklearn: Failed to infer model signature: ('Expected one of the following types:\\n- pandas.DataFrame\\n- pandas.Series\\n- numpy.ndarray\\n- dictionary of (name -> numpy.ndarray)\\n- pyspark.sql.DataFrame\\n', \"- scipy.sparse.csr_matrix\\n- scipy.sparse.csc_matrix\\n- str\\n- List[str]\\n- List[Dict[str, Union[str, List[str]]]]\\n- Dict[str, Union[str, List[str]]]\\n- bytes\\nbut got '<class 'list'>'\")\n",
      "\n",
      "2023/08/15 08:01:05 WARNING mlflow.sklearn: Unrecognized dataset type <class 'list'>. Dataset logging skipped.\n",
      "\n"
     ]
    },
    {
     "name": "stdout",
     "output_type": "stream",
     "text": [
      " 52%|█████▏    | 26/50 [03:45<02:59,  7.49s/trial, best loss: -0.5834394904458599]"
     ]
    },
    {
     "name": "stderr",
     "output_type": "stream",
     "text": [
      "2023/08/15 08:01:06 WARNING mlflow.sklearn: Unrecognized dataset type <class 'list'>. Dataset logging skipped.\n",
      "\n",
      "2023/08/15 08:01:08 WARNING mlflow.sklearn: Failed to infer model signature: ('Expected one of the following types:\\n- pandas.DataFrame\\n- pandas.Series\\n- numpy.ndarray\\n- dictionary of (name -> numpy.ndarray)\\n- pyspark.sql.DataFrame\\n', \"- scipy.sparse.csr_matrix\\n- scipy.sparse.csc_matrix\\n- str\\n- List[str]\\n- List[Dict[str, Union[str, List[str]]]]\\n- Dict[str, Union[str, List[str]]]\\n- bytes\\nbut got '<class 'list'>'\")\n",
      "\n",
      "2023/08/15 08:01:11 WARNING mlflow.sklearn: Unrecognized dataset type <class 'list'>. Dataset logging skipped.\n",
      "\n"
     ]
    },
    {
     "name": "stdout",
     "output_type": "stream",
     "text": [
      " 54%|█████▍    | 27/50 [03:50<02:36,  6.79s/trial, best loss: -0.5834394904458599]"
     ]
    },
    {
     "name": "stderr",
     "output_type": "stream",
     "text": [
      "2023/08/15 08:01:11 WARNING mlflow.sklearn: Unrecognized dataset type <class 'list'>. Dataset logging skipped.\n",
      "\n",
      "2023/08/15 08:01:16 WARNING mlflow.sklearn: Failed to infer model signature: ('Expected one of the following types:\\n- pandas.DataFrame\\n- pandas.Series\\n- numpy.ndarray\\n- dictionary of (name -> numpy.ndarray)\\n- pyspark.sql.DataFrame\\n', \"- scipy.sparse.csr_matrix\\n- scipy.sparse.csc_matrix\\n- str\\n- List[str]\\n- List[Dict[str, Union[str, List[str]]]]\\n- Dict[str, Union[str, List[str]]]\\n- bytes\\nbut got '<class 'list'>'\")\n",
      "\n",
      "2023/08/15 08:01:18 WARNING mlflow.sklearn: Unrecognized dataset type <class 'list'>. Dataset logging skipped.\n",
      "\n"
     ]
    },
    {
     "name": "stdout",
     "output_type": "stream",
     "text": [
      " 56%|█████▌    | 28/50 [03:58<02:35,  7.08s/trial, best loss: -0.5834394904458599]"
     ]
    },
    {
     "name": "stderr",
     "output_type": "stream",
     "text": [
      "2023/08/15 08:01:18 WARNING mlflow.sklearn: Unrecognized dataset type <class 'list'>. Dataset logging skipped.\n",
      "\n",
      "2023/08/15 08:01:24 WARNING mlflow.sklearn: Failed to infer model signature: ('Expected one of the following types:\\n- pandas.DataFrame\\n- pandas.Series\\n- numpy.ndarray\\n- dictionary of (name -> numpy.ndarray)\\n- pyspark.sql.DataFrame\\n', \"- scipy.sparse.csr_matrix\\n- scipy.sparse.csc_matrix\\n- str\\n- List[str]\\n- List[Dict[str, Union[str, List[str]]]]\\n- Dict[str, Union[str, List[str]]]\\n- bytes\\nbut got '<class 'list'>'\")\n",
      "\n",
      "2023/08/15 08:01:26 WARNING mlflow.sklearn: Unrecognized dataset type <class 'list'>. Dataset logging skipped.\n",
      "\n"
     ]
    },
    {
     "name": "stdout",
     "output_type": "stream",
     "text": [
      " 58%|█████▊    | 29/50 [04:06<02:33,  7.29s/trial, best loss: -0.5834394904458599]"
     ]
    },
    {
     "name": "stderr",
     "output_type": "stream",
     "text": [
      "2023/08/15 08:01:26 WARNING mlflow.sklearn: Unrecognized dataset type <class 'list'>. Dataset logging skipped.\n",
      "\n",
      "2023/08/15 08:01:32 WARNING mlflow.sklearn: Failed to infer model signature: ('Expected one of the following types:\\n- pandas.DataFrame\\n- pandas.Series\\n- numpy.ndarray\\n- dictionary of (name -> numpy.ndarray)\\n- pyspark.sql.DataFrame\\n', \"- scipy.sparse.csr_matrix\\n- scipy.sparse.csc_matrix\\n- str\\n- List[str]\\n- List[Dict[str, Union[str, List[str]]]]\\n- Dict[str, Union[str, List[str]]]\\n- bytes\\nbut got '<class 'list'>'\")\n",
      "\n",
      "2023/08/15 08:01:34 WARNING mlflow.sklearn: Unrecognized dataset type <class 'list'>. Dataset logging skipped.\n",
      "\n"
     ]
    },
    {
     "name": "stdout",
     "output_type": "stream",
     "text": [
      " 60%|██████    | 30/50 [04:14<02:29,  7.50s/trial, best loss: -0.5834394904458599]"
     ]
    },
    {
     "name": "stderr",
     "output_type": "stream",
     "text": [
      "2023/08/15 08:01:34 WARNING mlflow.sklearn: Unrecognized dataset type <class 'list'>. Dataset logging skipped.\n",
      "\n",
      "2023/08/15 08:01:40 WARNING mlflow.sklearn: Failed to infer model signature: ('Expected one of the following types:\\n- pandas.DataFrame\\n- pandas.Series\\n- numpy.ndarray\\n- dictionary of (name -> numpy.ndarray)\\n- pyspark.sql.DataFrame\\n', \"- scipy.sparse.csr_matrix\\n- scipy.sparse.csc_matrix\\n- str\\n- List[str]\\n- List[Dict[str, Union[str, List[str]]]]\\n- Dict[str, Union[str, List[str]]]\\n- bytes\\nbut got '<class 'list'>'\")\n",
      "\n",
      "2023/08/15 08:01:43 WARNING mlflow.sklearn: Unrecognized dataset type <class 'list'>. Dataset logging skipped.\n",
      "\n"
     ]
    },
    {
     "name": "stdout",
     "output_type": "stream",
     "text": [
      " 62%|██████▏   | 31/50 [04:23<02:31,  7.97s/trial, best loss: -0.5834394904458599]"
     ]
    },
    {
     "name": "stderr",
     "output_type": "stream",
     "text": [
      "2023/08/15 08:01:43 WARNING mlflow.sklearn: Unrecognized dataset type <class 'list'>. Dataset logging skipped.\n",
      "\n",
      "2023/08/15 08:01:49 WARNING mlflow.sklearn: Failed to infer model signature: ('Expected one of the following types:\\n- pandas.DataFrame\\n- pandas.Series\\n- numpy.ndarray\\n- dictionary of (name -> numpy.ndarray)\\n- pyspark.sql.DataFrame\\n', \"- scipy.sparse.csr_matrix\\n- scipy.sparse.csc_matrix\\n- str\\n- List[str]\\n- List[Dict[str, Union[str, List[str]]]]\\n- Dict[str, Union[str, List[str]]]\\n- bytes\\nbut got '<class 'list'>'\")\n",
      "\n",
      "2023/08/15 08:01:51 WARNING mlflow.sklearn: Unrecognized dataset type <class 'list'>. Dataset logging skipped.\n",
      "\n"
     ]
    },
    {
     "name": "stdout",
     "output_type": "stream",
     "text": [
      " 64%|██████▍   | 32/50 [04:31<02:24,  8.05s/trial, best loss: -0.5834394904458599]"
     ]
    },
    {
     "name": "stderr",
     "output_type": "stream",
     "text": [
      "2023/08/15 08:01:52 WARNING mlflow.sklearn: Unrecognized dataset type <class 'list'>. Dataset logging skipped.\n",
      "\n",
      "2023/08/15 08:01:57 WARNING mlflow.sklearn: Failed to infer model signature: ('Expected one of the following types:\\n- pandas.DataFrame\\n- pandas.Series\\n- numpy.ndarray\\n- dictionary of (name -> numpy.ndarray)\\n- pyspark.sql.DataFrame\\n', \"- scipy.sparse.csr_matrix\\n- scipy.sparse.csc_matrix\\n- str\\n- List[str]\\n- List[Dict[str, Union[str, List[str]]]]\\n- Dict[str, Union[str, List[str]]]\\n- bytes\\nbut got '<class 'list'>'\")\n",
      "\n",
      "2023/08/15 08:01:59 WARNING mlflow.sklearn: Unrecognized dataset type <class 'list'>. Dataset logging skipped.\n",
      "\n"
     ]
    },
    {
     "name": "stdout",
     "output_type": "stream",
     "text": [
      " 66%|██████▌   | 33/50 [04:39<02:15,  7.95s/trial, best loss: -0.5834394904458599]"
     ]
    },
    {
     "name": "stderr",
     "output_type": "stream",
     "text": [
      "2023/08/15 08:01:59 WARNING mlflow.sklearn: Unrecognized dataset type <class 'list'>. Dataset logging skipped.\n",
      "\n",
      "2023/08/15 08:02:06 WARNING mlflow.sklearn: Failed to infer model signature: ('Expected one of the following types:\\n- pandas.DataFrame\\n- pandas.Series\\n- numpy.ndarray\\n- dictionary of (name -> numpy.ndarray)\\n- pyspark.sql.DataFrame\\n', \"- scipy.sparse.csr_matrix\\n- scipy.sparse.csc_matrix\\n- str\\n- List[str]\\n- List[Dict[str, Union[str, List[str]]]]\\n- Dict[str, Union[str, List[str]]]\\n- bytes\\nbut got '<class 'list'>'\")\n",
      "\n",
      "2023/08/15 08:02:09 WARNING mlflow.sklearn: Unrecognized dataset type <class 'list'>. Dataset logging skipped.\n",
      "\n"
     ]
    },
    {
     "name": "stdout",
     "output_type": "stream",
     "text": [
      " 68%|██████▊   | 34/50 [04:49<02:18,  8.68s/trial, best loss: -0.5834394904458599]"
     ]
    },
    {
     "name": "stderr",
     "output_type": "stream",
     "text": [
      "2023/08/15 08:02:10 WARNING mlflow.sklearn: Unrecognized dataset type <class 'list'>. Dataset logging skipped.\n",
      "\n",
      "2023/08/15 08:02:15 WARNING mlflow.sklearn: Failed to infer model signature: ('Expected one of the following types:\\n- pandas.DataFrame\\n- pandas.Series\\n- numpy.ndarray\\n- dictionary of (name -> numpy.ndarray)\\n- pyspark.sql.DataFrame\\n', \"- scipy.sparse.csr_matrix\\n- scipy.sparse.csc_matrix\\n- str\\n- List[str]\\n- List[Dict[str, Union[str, List[str]]]]\\n- Dict[str, Union[str, List[str]]]\\n- bytes\\nbut got '<class 'list'>'\")\n",
      "\n",
      "2023/08/15 08:02:17 WARNING mlflow.sklearn: Unrecognized dataset type <class 'list'>. Dataset logging skipped.\n",
      "\n"
     ]
    },
    {
     "name": "stdout",
     "output_type": "stream",
     "text": [
      " 70%|███████   | 35/50 [04:57<02:07,  8.48s/trial, best loss: -0.5834394904458599]"
     ]
    },
    {
     "name": "stderr",
     "output_type": "stream",
     "text": [
      "2023/08/15 08:02:18 WARNING mlflow.sklearn: Unrecognized dataset type <class 'list'>. Dataset logging skipped.\n",
      "\n",
      "2023/08/15 08:02:23 WARNING mlflow.sklearn: Failed to infer model signature: ('Expected one of the following types:\\n- pandas.DataFrame\\n- pandas.Series\\n- numpy.ndarray\\n- dictionary of (name -> numpy.ndarray)\\n- pyspark.sql.DataFrame\\n', \"- scipy.sparse.csr_matrix\\n- scipy.sparse.csc_matrix\\n- str\\n- List[str]\\n- List[Dict[str, Union[str, List[str]]]]\\n- Dict[str, Union[str, List[str]]]\\n- bytes\\nbut got '<class 'list'>'\")\n",
      "\n",
      "2023/08/15 08:02:25 WARNING mlflow.sklearn: Unrecognized dataset type <class 'list'>. Dataset logging skipped.\n",
      "\n"
     ]
    },
    {
     "name": "stdout",
     "output_type": "stream",
     "text": [
      " 72%|███████▏  | 36/50 [05:05<01:55,  8.22s/trial, best loss: -0.5834394904458599]"
     ]
    },
    {
     "name": "stderr",
     "output_type": "stream",
     "text": [
      "2023/08/15 08:02:25 WARNING mlflow.sklearn: Unrecognized dataset type <class 'list'>. Dataset logging skipped.\n",
      "\n",
      "2023/08/15 08:02:33 WARNING mlflow.sklearn: Failed to infer model signature: ('Expected one of the following types:\\n- pandas.DataFrame\\n- pandas.Series\\n- numpy.ndarray\\n- dictionary of (name -> numpy.ndarray)\\n- pyspark.sql.DataFrame\\n', \"- scipy.sparse.csr_matrix\\n- scipy.sparse.csc_matrix\\n- str\\n- List[str]\\n- List[Dict[str, Union[str, List[str]]]]\\n- Dict[str, Union[str, List[str]]]\\n- bytes\\nbut got '<class 'list'>'\")\n",
      "\n",
      "2023/08/15 08:02:35 WARNING mlflow.sklearn: Unrecognized dataset type <class 'list'>. Dataset logging skipped.\n",
      "\n"
     ]
    },
    {
     "name": "stdout",
     "output_type": "stream",
     "text": [
      " 74%|███████▍  | 37/50 [05:15<01:53,  8.73s/trial, best loss: -0.5834394904458599]"
     ]
    },
    {
     "name": "stderr",
     "output_type": "stream",
     "text": [
      "2023/08/15 08:02:35 WARNING mlflow.sklearn: Unrecognized dataset type <class 'list'>. Dataset logging skipped.\n",
      "\n",
      "2023/08/15 08:02:42 WARNING mlflow.sklearn: Failed to infer model signature: ('Expected one of the following types:\\n- pandas.DataFrame\\n- pandas.Series\\n- numpy.ndarray\\n- dictionary of (name -> numpy.ndarray)\\n- pyspark.sql.DataFrame\\n', \"- scipy.sparse.csr_matrix\\n- scipy.sparse.csc_matrix\\n- str\\n- List[str]\\n- List[Dict[str, Union[str, List[str]]]]\\n- Dict[str, Union[str, List[str]]]\\n- bytes\\nbut got '<class 'list'>'\")\n",
      "\n",
      "2023/08/15 08:02:44 WARNING mlflow.sklearn: Unrecognized dataset type <class 'list'>. Dataset logging skipped.\n",
      "\n"
     ]
    },
    {
     "name": "stdout",
     "output_type": "stream",
     "text": [
      " 76%|███████▌  | 38/50 [05:24<01:46,  8.84s/trial, best loss: -0.5834394904458599]"
     ]
    },
    {
     "name": "stderr",
     "output_type": "stream",
     "text": [
      "2023/08/15 08:02:44 WARNING mlflow.sklearn: Unrecognized dataset type <class 'list'>. Dataset logging skipped.\n",
      "\n",
      "2023/08/15 08:02:50 WARNING mlflow.sklearn: Failed to infer model signature: ('Expected one of the following types:\\n- pandas.DataFrame\\n- pandas.Series\\n- numpy.ndarray\\n- dictionary of (name -> numpy.ndarray)\\n- pyspark.sql.DataFrame\\n', \"- scipy.sparse.csr_matrix\\n- scipy.sparse.csc_matrix\\n- str\\n- List[str]\\n- List[Dict[str, Union[str, List[str]]]]\\n- Dict[str, Union[str, List[str]]]\\n- bytes\\nbut got '<class 'list'>'\")\n",
      "\n",
      "2023/08/15 08:02:53 WARNING mlflow.sklearn: Unrecognized dataset type <class 'list'>. Dataset logging skipped.\n",
      "\n"
     ]
    },
    {
     "name": "stdout",
     "output_type": "stream",
     "text": [
      " 78%|███████▊  | 39/50 [05:32<01:37,  8.84s/trial, best loss: -0.5834394904458599]"
     ]
    },
    {
     "name": "stderr",
     "output_type": "stream",
     "text": [
      "2023/08/15 08:02:53 WARNING mlflow.sklearn: Unrecognized dataset type <class 'list'>. Dataset logging skipped.\n",
      "\n",
      "2023/08/15 08:02:58 WARNING mlflow.sklearn: Failed to infer model signature: ('Expected one of the following types:\\n- pandas.DataFrame\\n- pandas.Series\\n- numpy.ndarray\\n- dictionary of (name -> numpy.ndarray)\\n- pyspark.sql.DataFrame\\n', \"- scipy.sparse.csr_matrix\\n- scipy.sparse.csc_matrix\\n- str\\n- List[str]\\n- List[Dict[str, Union[str, List[str]]]]\\n- Dict[str, Union[str, List[str]]]\\n- bytes\\nbut got '<class 'list'>'\")\n",
      "\n",
      "2023/08/15 08:03:01 WARNING mlflow.sklearn: Unrecognized dataset type <class 'list'>. Dataset logging skipped.\n",
      "\n"
     ]
    },
    {
     "name": "stdout",
     "output_type": "stream",
     "text": [
      " 80%|████████  | 40/50 [05:40<01:25,  8.55s/trial, best loss: -0.5834394904458599]"
     ]
    },
    {
     "name": "stderr",
     "output_type": "stream",
     "text": [
      "2023/08/15 08:03:01 WARNING mlflow.sklearn: Unrecognized dataset type <class 'list'>. Dataset logging skipped.\n",
      "\n",
      "2023/08/15 08:03:10 WARNING mlflow.sklearn: Failed to infer model signature: ('Expected one of the following types:\\n- pandas.DataFrame\\n- pandas.Series\\n- numpy.ndarray\\n- dictionary of (name -> numpy.ndarray)\\n- pyspark.sql.DataFrame\\n', \"- scipy.sparse.csr_matrix\\n- scipy.sparse.csc_matrix\\n- str\\n- List[str]\\n- List[Dict[str, Union[str, List[str]]]]\\n- Dict[str, Union[str, List[str]]]\\n- bytes\\nbut got '<class 'list'>'\")\n",
      "\n",
      "2023/08/15 08:03:13 WARNING mlflow.sklearn: Unrecognized dataset type <class 'list'>. Dataset logging skipped.\n",
      "\n"
     ]
    },
    {
     "name": "stdout",
     "output_type": "stream",
     "text": [
      " 82%|████████▏ | 41/50 [05:52<01:25,  9.55s/trial, best loss: -0.5834394904458599]"
     ]
    },
    {
     "name": "stderr",
     "output_type": "stream",
     "text": [
      "2023/08/15 08:03:13 WARNING mlflow.sklearn: Unrecognized dataset type <class 'list'>. Dataset logging skipped.\n",
      "\n",
      "2023/08/15 08:03:20 WARNING mlflow.sklearn: Failed to infer model signature: ('Expected one of the following types:\\n- pandas.DataFrame\\n- pandas.Series\\n- numpy.ndarray\\n- dictionary of (name -> numpy.ndarray)\\n- pyspark.sql.DataFrame\\n', \"- scipy.sparse.csr_matrix\\n- scipy.sparse.csc_matrix\\n- str\\n- List[str]\\n- List[Dict[str, Union[str, List[str]]]]\\n- Dict[str, Union[str, List[str]]]\\n- bytes\\nbut got '<class 'list'>'\")\n",
      "\n",
      "2023/08/15 08:03:22 WARNING mlflow.sklearn: Unrecognized dataset type <class 'list'>. Dataset logging skipped.\n",
      "\n"
     ]
    },
    {
     "name": "stdout",
     "output_type": "stream",
     "text": [
      " 84%|████████▍ | 42/50 [06:02<01:16,  9.62s/trial, best loss: -0.5834394904458599]"
     ]
    },
    {
     "name": "stderr",
     "output_type": "stream",
     "text": [
      "2023/08/15 08:03:23 WARNING mlflow.sklearn: Unrecognized dataset type <class 'list'>. Dataset logging skipped.\n",
      "\n",
      "2023/08/15 08:03:27 WARNING mlflow.sklearn: Failed to infer model signature: ('Expected one of the following types:\\n- pandas.DataFrame\\n- pandas.Series\\n- numpy.ndarray\\n- dictionary of (name -> numpy.ndarray)\\n- pyspark.sql.DataFrame\\n', \"- scipy.sparse.csr_matrix\\n- scipy.sparse.csc_matrix\\n- str\\n- List[str]\\n- List[Dict[str, Union[str, List[str]]]]\\n- Dict[str, Union[str, List[str]]]\\n- bytes\\nbut got '<class 'list'>'\")\n",
      "\n",
      "2023/08/15 08:03:29 WARNING mlflow.sklearn: Unrecognized dataset type <class 'list'>. Dataset logging skipped.\n",
      "\n"
     ]
    },
    {
     "name": "stdout",
     "output_type": "stream",
     "text": [
      " 86%|████████▌ | 43/50 [06:09<01:01,  8.81s/trial, best loss: -0.5864661654135338]"
     ]
    },
    {
     "name": "stderr",
     "output_type": "stream",
     "text": [
      "2023/08/15 08:03:30 WARNING mlflow.sklearn: Unrecognized dataset type <class 'list'>. Dataset logging skipped.\n",
      "\n",
      "2023/08/15 08:03:34 WARNING mlflow.sklearn: Failed to infer model signature: ('Expected one of the following types:\\n- pandas.DataFrame\\n- pandas.Series\\n- numpy.ndarray\\n- dictionary of (name -> numpy.ndarray)\\n- pyspark.sql.DataFrame\\n', \"- scipy.sparse.csr_matrix\\n- scipy.sparse.csc_matrix\\n- str\\n- List[str]\\n- List[Dict[str, Union[str, List[str]]]]\\n- Dict[str, Union[str, List[str]]]\\n- bytes\\nbut got '<class 'list'>'\")\n",
      "\n",
      "2023/08/15 08:03:36 WARNING mlflow.sklearn: Unrecognized dataset type <class 'list'>. Dataset logging skipped.\n",
      "\n"
     ]
    },
    {
     "name": "stdout",
     "output_type": "stream",
     "text": [
      " 88%|████████▊ | 44/50 [06:16<00:49,  8.30s/trial, best loss: -0.5864661654135338]"
     ]
    },
    {
     "name": "stderr",
     "output_type": "stream",
     "text": [
      "2023/08/15 08:03:37 WARNING mlflow.sklearn: Unrecognized dataset type <class 'list'>. Dataset logging skipped.\n",
      "\n",
      "2023/08/15 08:03:41 WARNING mlflow.sklearn: Failed to infer model signature: ('Expected one of the following types:\\n- pandas.DataFrame\\n- pandas.Series\\n- numpy.ndarray\\n- dictionary of (name -> numpy.ndarray)\\n- pyspark.sql.DataFrame\\n', \"- scipy.sparse.csr_matrix\\n- scipy.sparse.csc_matrix\\n- str\\n- List[str]\\n- List[Dict[str, Union[str, List[str]]]]\\n- Dict[str, Union[str, List[str]]]\\n- bytes\\nbut got '<class 'list'>'\")\n",
      "\n",
      "2023/08/15 08:03:43 WARNING mlflow.sklearn: Unrecognized dataset type <class 'list'>. Dataset logging skipped.\n",
      "\n"
     ]
    },
    {
     "name": "stdout",
     "output_type": "stream",
     "text": [
      " 90%|█████████ | 45/50 [06:23<00:39,  7.81s/trial, best loss: -0.5864661654135338]"
     ]
    },
    {
     "name": "stderr",
     "output_type": "stream",
     "text": [
      "2023/08/15 08:03:43 WARNING mlflow.sklearn: Unrecognized dataset type <class 'list'>. Dataset logging skipped.\n",
      "\n",
      "2023/08/15 08:03:47 WARNING mlflow.sklearn: Failed to infer model signature: ('Expected one of the following types:\\n- pandas.DataFrame\\n- pandas.Series\\n- numpy.ndarray\\n- dictionary of (name -> numpy.ndarray)\\n- pyspark.sql.DataFrame\\n', \"- scipy.sparse.csr_matrix\\n- scipy.sparse.csc_matrix\\n- str\\n- List[str]\\n- List[Dict[str, Union[str, List[str]]]]\\n- Dict[str, Union[str, List[str]]]\\n- bytes\\nbut got '<class 'list'>'\")\n",
      "\n",
      "2023/08/15 08:03:50 WARNING mlflow.sklearn: Unrecognized dataset type <class 'list'>. Dataset logging skipped.\n",
      "\n"
     ]
    },
    {
     "name": "stdout",
     "output_type": "stream",
     "text": [
      " 92%|█████████▏| 46/50 [06:29<00:29,  7.42s/trial, best loss: -0.5864661654135338]"
     ]
    },
    {
     "name": "stderr",
     "output_type": "stream",
     "text": [
      "2023/08/15 08:03:50 WARNING mlflow.sklearn: Unrecognized dataset type <class 'list'>. Dataset logging skipped.\n",
      "\n",
      "2023/08/15 08:03:54 WARNING mlflow.sklearn: Failed to infer model signature: ('Expected one of the following types:\\n- pandas.DataFrame\\n- pandas.Series\\n- numpy.ndarray\\n- dictionary of (name -> numpy.ndarray)\\n- pyspark.sql.DataFrame\\n', \"- scipy.sparse.csr_matrix\\n- scipy.sparse.csc_matrix\\n- str\\n- List[str]\\n- List[Dict[str, Union[str, List[str]]]]\\n- Dict[str, Union[str, List[str]]]\\n- bytes\\nbut got '<class 'list'>'\")\n",
      "\n",
      "2023/08/15 08:03:56 WARNING mlflow.sklearn: Unrecognized dataset type <class 'list'>. Dataset logging skipped.\n",
      "\n"
     ]
    },
    {
     "name": "stdout",
     "output_type": "stream",
     "text": [
      " 94%|█████████▍| 47/50 [06:36<00:21,  7.22s/trial, best loss: -0.5864661654135338]"
     ]
    },
    {
     "name": "stderr",
     "output_type": "stream",
     "text": [
      "2023/08/15 08:03:57 WARNING mlflow.sklearn: Unrecognized dataset type <class 'list'>. Dataset logging skipped.\n",
      "\n",
      "2023/08/15 08:04:01 WARNING mlflow.sklearn: Failed to infer model signature: ('Expected one of the following types:\\n- pandas.DataFrame\\n- pandas.Series\\n- numpy.ndarray\\n- dictionary of (name -> numpy.ndarray)\\n- pyspark.sql.DataFrame\\n', \"- scipy.sparse.csr_matrix\\n- scipy.sparse.csc_matrix\\n- str\\n- List[str]\\n- List[Dict[str, Union[str, List[str]]]]\\n- Dict[str, Union[str, List[str]]]\\n- bytes\\nbut got '<class 'list'>'\")\n",
      "\n",
      "2023/08/15 08:04:03 WARNING mlflow.sklearn: Unrecognized dataset type <class 'list'>. Dataset logging skipped.\n",
      "\n"
     ]
    },
    {
     "name": "stdout",
     "output_type": "stream",
     "text": [
      " 96%|█████████▌| 48/50 [06:43<00:14,  7.08s/trial, best loss: -0.5864661654135338]"
     ]
    },
    {
     "name": "stderr",
     "output_type": "stream",
     "text": [
      "2023/08/15 08:04:03 WARNING mlflow.sklearn: Unrecognized dataset type <class 'list'>. Dataset logging skipped.\n",
      "\n",
      "2023/08/15 08:04:10 WARNING mlflow.sklearn: Failed to infer model signature: ('Expected one of the following types:\\n- pandas.DataFrame\\n- pandas.Series\\n- numpy.ndarray\\n- dictionary of (name -> numpy.ndarray)\\n- pyspark.sql.DataFrame\\n', \"- scipy.sparse.csr_matrix\\n- scipy.sparse.csc_matrix\\n- str\\n- List[str]\\n- List[Dict[str, Union[str, List[str]]]]\\n- Dict[str, Union[str, List[str]]]\\n- bytes\\nbut got '<class 'list'>'\")\n",
      "\n",
      "2023/08/15 08:04:12 WARNING mlflow.sklearn: Unrecognized dataset type <class 'list'>. Dataset logging skipped.\n",
      "\n"
     ]
    },
    {
     "name": "stdout",
     "output_type": "stream",
     "text": [
      " 98%|█████████▊| 49/50 [06:51<00:07,  7.59s/trial, best loss: -0.5864661654135338]"
     ]
    },
    {
     "name": "stderr",
     "output_type": "stream",
     "text": [
      "2023/08/15 08:04:12 WARNING mlflow.sklearn: Unrecognized dataset type <class 'list'>. Dataset logging skipped.\n",
      "\n",
      "2023/08/15 08:04:21 WARNING mlflow.sklearn: Failed to infer model signature: ('Expected one of the following types:\\n- pandas.DataFrame\\n- pandas.Series\\n- numpy.ndarray\\n- dictionary of (name -> numpy.ndarray)\\n- pyspark.sql.DataFrame\\n', \"- scipy.sparse.csr_matrix\\n- scipy.sparse.csc_matrix\\n- str\\n- List[str]\\n- List[Dict[str, Union[str, List[str]]]]\\n- Dict[str, Union[str, List[str]]]\\n- bytes\\nbut got '<class 'list'>'\")\n",
      "\n",
      "2023/08/15 08:04:23 WARNING mlflow.sklearn: Unrecognized dataset type <class 'list'>. Dataset logging skipped.\n",
      "\n"
     ]
    },
    {
     "name": "stdout",
     "output_type": "stream",
     "text": [
      "100%|██████████| 50/50 [07:03<00:00,  8.47s/trial, best loss: -0.5864661654135338]\n"
     ]
    },
    {
     "data": {
      "text/plain": [
       "{'criterion': 1,\n",
       " 'max_depth': 15.0,\n",
       " 'min_samples_leaf': 4,\n",
       " 'min_samples_split': 9,\n",
       " 'n_estimators': 1}"
      ]
     },
     "execution_count": 9,
     "metadata": {},
     "output_type": "execute_result"
    }
   ],
   "source": [
    "def random_forest_objective(params):\n",
    "    with mlflow.start_run():\n",
    "\n",
    "        mlflow.set_tag('Developer', 'Godwin')\n",
    "\n",
    "        \n",
    "        pipeline = make_pipeline(DictVectorizer(sparse=False),\n",
    "                                    RandomForestClassifier(**params))\n",
    "       \n",
    "        pipeline.fit(train_x, train_y)\n",
    "\n",
    "        test_pred = pipeline.predict(test_x)\n",
    "        test_output_eval = log_evaluation(test_y, test_pred) \n",
    "\n",
    "        mlflow.log_metrics(test_output_eval)\n",
    "        \n",
    "    return {\"loss\": -test_output_eval['test_f1_score'], 'status': STATUS_OK}\n",
    "\n",
    "\n",
    "\n",
    "def random_forest(): \n",
    "\n",
    "    space = {\"n_estimators\": hp.choice(\"n_estimators\", [100, 200, 300, 400,500,600]),\n",
    "             'max_depth': scope.int(hp.quniform('max_depth', 4, 100, 1)),\n",
    "             'min_samples_split': hp.randint(\"min_samples_split\", 2, 15),\n",
    "             'min_samples_leaf': hp.randint(\"min_samples_leaf\", 1, 15),\n",
    "             \"criterion\": hp.choice(\"criterion\", [\"gini\", \"entropy\"]),\n",
    "             }\n",
    "\n",
    "    best_result = fmin(fn=random_forest_objective,\n",
    "                        space=space,\n",
    "                        algo=tpe.suggest,\n",
    "                        max_evals=50,\n",
    "                        trials=Trials()\n",
    "                        )\n",
    "    return best_result\n",
    "\n",
    "random_forest()"
   ]
  },
  {
   "cell_type": "code",
   "execution_count": 15,
   "metadata": {},
   "outputs": [],
   "source": [
    "train_x, train_y, test_x, \\\n",
    "        test_y = prepare_data(data)"
   ]
  },
  {
   "cell_type": "code",
   "execution_count": 16,
   "metadata": {},
   "outputs": [
    {
     "name": "stdout",
     "output_type": "stream",
     "text": [
      "  0%|          | 0/50 [00:00<?, ?trial/s, best loss=?]"
     ]
    },
    {
     "name": "stdout",
     "output_type": "stream",
     "text": [
      "[0]\tvalidation-logloss:0.34724                        \n",
      "[1]\tvalidation-logloss:0.20122                        \n",
      "[2]\tvalidation-logloss:0.12242                        \n",
      "[3]\tvalidation-logloss:0.07627                        \n",
      "[4]\tvalidation-logloss:0.04816                        \n",
      "[5]\tvalidation-logloss:0.03065                        \n",
      "[6]\tvalidation-logloss:0.01960                        \n",
      "[7]\tvalidation-logloss:0.01258                        \n",
      "[8]\tvalidation-logloss:0.00810                        \n",
      "[9]\tvalidation-logloss:0.00522                        \n",
      "[10]\tvalidation-logloss:0.00338                       \n",
      "[11]\tvalidation-logloss:0.00338                       \n",
      "[12]\tvalidation-logloss:0.00338                       \n",
      "[13]\tvalidation-logloss:0.00338                       \n",
      "[14]\tvalidation-logloss:0.00338                       \n",
      "[15]\tvalidation-logloss:0.00338                       \n",
      "[16]\tvalidation-logloss:0.00338                       \n",
      "[17]\tvalidation-logloss:0.00338                       \n",
      "[18]\tvalidation-logloss:0.00338                       \n",
      "[19]\tvalidation-logloss:0.00338                       \n",
      "[20]\tvalidation-logloss:0.00338                       \n",
      "[21]\tvalidation-logloss:0.00338                       \n",
      "[22]\tvalidation-logloss:0.00338                       \n",
      "[23]\tvalidation-logloss:0.00338                       \n",
      "[24]\tvalidation-logloss:0.00338                       \n",
      "[25]\tvalidation-logloss:0.00338                       \n",
      "[26]\tvalidation-logloss:0.00338                       \n",
      "[27]\tvalidation-logloss:0.00338                       \n",
      "[28]\tvalidation-logloss:0.00338                       \n",
      "[29]\tvalidation-logloss:0.00338                       \n",
      "[30]\tvalidation-logloss:0.00338                       \n",
      "[31]\tvalidation-logloss:0.00338                       \n",
      "[32]\tvalidation-logloss:0.00338                       \n",
      "[33]\tvalidation-logloss:0.00338                       \n",
      "[34]\tvalidation-logloss:0.00338                       \n",
      "[35]\tvalidation-logloss:0.00338                       \n",
      "[36]\tvalidation-logloss:0.00338                       \n",
      "[37]\tvalidation-logloss:0.00338                       \n",
      "[38]\tvalidation-logloss:0.00338                       \n",
      "[39]\tvalidation-logloss:0.00338                       \n",
      "[40]\tvalidation-logloss:0.00338                       \n",
      "[41]\tvalidation-logloss:0.00338                       \n",
      "[42]\tvalidation-logloss:0.00338                       \n",
      "[43]\tvalidation-logloss:0.00338                       \n",
      "[44]\tvalidation-logloss:0.00338                       \n",
      "[45]\tvalidation-logloss:0.00338                       \n",
      "[46]\tvalidation-logloss:0.00338                       \n",
      "[47]\tvalidation-logloss:0.00338                       \n",
      "[48]\tvalidation-logloss:0.00338                       \n",
      "[49]\tvalidation-logloss:0.00338                       \n",
      "[50]\tvalidation-logloss:0.00338                       \n",
      "[51]\tvalidation-logloss:0.00338                       \n",
      "[52]\tvalidation-logloss:0.00338                       \n",
      "[53]\tvalidation-logloss:0.00338                       \n",
      "[54]\tvalidation-logloss:0.00338                       \n",
      "[55]\tvalidation-logloss:0.00338                       \n",
      "[56]\tvalidation-logloss:0.00338                       \n",
      "[57]\tvalidation-logloss:0.00338                       \n",
      "[58]\tvalidation-logloss:0.00338                       \n",
      "[59]\tvalidation-logloss:0.00338                       \n",
      "[0]\tvalidation-logloss:0.50452                                   \n",
      "[1]\tvalidation-logloss:0.38044                                   \n",
      "[2]\tvalidation-logloss:0.29279                                   \n",
      "[3]\tvalidation-logloss:0.22833                                   \n",
      "[4]\tvalidation-logloss:0.17970                                   \n",
      "[5]\tvalidation-logloss:0.14236                                   \n",
      "[6]\tvalidation-logloss:0.11334                                   \n",
      "[7]\tvalidation-logloss:0.09057                                   \n",
      "[8]\tvalidation-logloss:0.07258                                   \n",
      "[9]\tvalidation-logloss:0.05830                                   \n",
      "[10]\tvalidation-logloss:0.04691                                  \n",
      "[11]\tvalidation-logloss:0.03780                                  \n",
      "[12]\tvalidation-logloss:0.03049                                  \n",
      "[13]\tvalidation-logloss:0.02462                                  \n",
      "[14]\tvalidation-logloss:0.01990                                  \n",
      "[15]\tvalidation-logloss:0.01609                                  \n",
      "[16]\tvalidation-logloss:0.01302                                  \n",
      "[17]\tvalidation-logloss:0.01054                                  \n",
      "[18]\tvalidation-logloss:0.00854                                  \n",
      "[19]\tvalidation-logloss:0.00692                                  \n",
      "[20]\tvalidation-logloss:0.00561                                  \n",
      "[21]\tvalidation-logloss:0.00455                                  \n",
      "[22]\tvalidation-logloss:0.00370                                  \n",
      "[23]\tvalidation-logloss:0.00300                                  \n",
      "[24]\tvalidation-logloss:0.00244                                  \n",
      "[25]\tvalidation-logloss:0.00199                                  \n",
      "[26]\tvalidation-logloss:0.00162                                  \n",
      "[27]\tvalidation-logloss:0.00132                                  \n",
      "[28]\tvalidation-logloss:0.00108                                  \n",
      "[29]\tvalidation-logloss:0.00089                                  \n",
      "[30]\tvalidation-logloss:0.00073                                  \n",
      "[31]\tvalidation-logloss:0.00073                                  \n",
      "[32]\tvalidation-logloss:0.00073                                  \n",
      "[33]\tvalidation-logloss:0.00073                                  \n",
      "[34]\tvalidation-logloss:0.00073                                  \n",
      "[35]\tvalidation-logloss:0.00073                                  \n",
      "[36]\tvalidation-logloss:0.00073                                  \n",
      "[37]\tvalidation-logloss:0.00073                                  \n",
      "[38]\tvalidation-logloss:0.00073                                  \n",
      "[39]\tvalidation-logloss:0.00073                                  \n",
      "[40]\tvalidation-logloss:0.00073                                  \n",
      "[41]\tvalidation-logloss:0.00073                                  \n",
      "[42]\tvalidation-logloss:0.00073                                  \n",
      "[43]\tvalidation-logloss:0.00073                                  \n",
      "[44]\tvalidation-logloss:0.00073                                  \n",
      "[45]\tvalidation-logloss:0.00073                                  \n",
      "[46]\tvalidation-logloss:0.00073                                  \n",
      "[47]\tvalidation-logloss:0.00073                                  \n",
      "[48]\tvalidation-logloss:0.00073                                  \n",
      "[49]\tvalidation-logloss:0.00073                                  \n",
      "[50]\tvalidation-logloss:0.00073                                  \n",
      "[51]\tvalidation-logloss:0.00073                                  \n",
      "[52]\tvalidation-logloss:0.00073                                  \n",
      "[53]\tvalidation-logloss:0.00073                                  \n",
      "[54]\tvalidation-logloss:0.00073                                  \n",
      "[55]\tvalidation-logloss:0.00073                                  \n",
      "[56]\tvalidation-logloss:0.00073                                  \n",
      "[57]\tvalidation-logloss:0.00073                                  \n",
      "[58]\tvalidation-logloss:0.00073                                  \n",
      "[59]\tvalidation-logloss:0.00073                                  \n",
      "[60]\tvalidation-logloss:0.00073                                  \n",
      "[61]\tvalidation-logloss:0.00073                                  \n",
      "[62]\tvalidation-logloss:0.00073                                  \n",
      "[63]\tvalidation-logloss:0.00073                                  \n",
      "[64]\tvalidation-logloss:0.00073                                  \n",
      "[65]\tvalidation-logloss:0.00073                                  \n",
      "[66]\tvalidation-logloss:0.00073                                  \n",
      "[67]\tvalidation-logloss:0.00073                                  \n",
      "[68]\tvalidation-logloss:0.00073                                  \n",
      "[69]\tvalidation-logloss:0.00073                                  \n",
      "[70]\tvalidation-logloss:0.00073                                  \n",
      "[71]\tvalidation-logloss:0.00073                                  \n",
      "[72]\tvalidation-logloss:0.00073                                  \n",
      "[73]\tvalidation-logloss:0.00073                                  \n",
      "[74]\tvalidation-logloss:0.00073                                  \n",
      "[75]\tvalidation-logloss:0.00073                                  \n",
      "[76]\tvalidation-logloss:0.00073                                  \n",
      "[77]\tvalidation-logloss:0.00073                                  \n",
      "[78]\tvalidation-logloss:0.00073                                  \n",
      "[79]\tvalidation-logloss:0.00073                                  \n",
      "[80]\tvalidation-logloss:0.00073                                  \n",
      "[0]\tvalidation-logloss:0.46380                                   \n",
      "[1]\tvalidation-logloss:0.32785                                   \n",
      "[2]\tvalidation-logloss:0.23828                                   \n",
      "[3]\tvalidation-logloss:0.17609                                   \n",
      "[4]\tvalidation-logloss:0.13155                                   \n",
      "[5]\tvalidation-logloss:0.09901                                   \n",
      "[6]\tvalidation-logloss:0.07492                                   \n",
      "[7]\tvalidation-logloss:0.05690                                   \n",
      "[8]\tvalidation-logloss:0.04335                                   \n",
      "[9]\tvalidation-logloss:0.03309                                   \n",
      "[10]\tvalidation-logloss:0.02530                                  \n",
      "[11]\tvalidation-logloss:0.01937                                  \n",
      "[12]\tvalidation-logloss:0.01484                                  \n",
      "[13]\tvalidation-logloss:0.01139                                  \n",
      "[14]\tvalidation-logloss:0.00874                                  \n",
      "[15]\tvalidation-logloss:0.00671                                  \n",
      "[16]\tvalidation-logloss:0.00516                                  \n",
      "[17]\tvalidation-logloss:0.00397                                  \n",
      "[18]\tvalidation-logloss:0.00305                                  \n",
      "[19]\tvalidation-logloss:0.00235                                  \n",
      "[20]\tvalidation-logloss:0.00181                                  \n",
      "[21]\tvalidation-logloss:0.00140                                  \n",
      "[22]\tvalidation-logloss:0.00140                                  \n",
      "[23]\tvalidation-logloss:0.00140                                  \n",
      "[24]\tvalidation-logloss:0.00140                                  \n",
      "[25]\tvalidation-logloss:0.00140                                  \n",
      "[26]\tvalidation-logloss:0.00140                                  \n",
      "[27]\tvalidation-logloss:0.00140                                  \n",
      "[28]\tvalidation-logloss:0.00140                                  \n",
      "[29]\tvalidation-logloss:0.00140                                  \n",
      "[30]\tvalidation-logloss:0.00140                                  \n",
      "[31]\tvalidation-logloss:0.00140                                  \n",
      "[32]\tvalidation-logloss:0.00140                                  \n",
      "[33]\tvalidation-logloss:0.00140                                  \n",
      "[34]\tvalidation-logloss:0.00140                                  \n",
      "[35]\tvalidation-logloss:0.00140                                  \n",
      "[36]\tvalidation-logloss:0.00140                                  \n",
      "[37]\tvalidation-logloss:0.00140                                  \n",
      "[38]\tvalidation-logloss:0.00140                                  \n",
      "[39]\tvalidation-logloss:0.00140                                  \n",
      "[40]\tvalidation-logloss:0.00140                                  \n",
      "[41]\tvalidation-logloss:0.00140                                  \n",
      "[42]\tvalidation-logloss:0.00140                                  \n",
      "[43]\tvalidation-logloss:0.00140                                  \n",
      "[44]\tvalidation-logloss:0.00140                                  \n",
      "[45]\tvalidation-logloss:0.00140                                  \n",
      "[46]\tvalidation-logloss:0.00140                                  \n",
      "[47]\tvalidation-logloss:0.00140                                  \n",
      "[48]\tvalidation-logloss:0.00140                                  \n",
      "[49]\tvalidation-logloss:0.00140                                  \n",
      "[50]\tvalidation-logloss:0.00140                                  \n",
      "[51]\tvalidation-logloss:0.00140                                  \n",
      "[52]\tvalidation-logloss:0.00140                                  \n",
      "[53]\tvalidation-logloss:0.00140                                  \n",
      "[54]\tvalidation-logloss:0.00140                                  \n",
      "[55]\tvalidation-logloss:0.00140                                  \n",
      "[56]\tvalidation-logloss:0.00140                                  \n",
      "[57]\tvalidation-logloss:0.00140                                  \n",
      "[58]\tvalidation-logloss:0.00140                                  \n",
      "[59]\tvalidation-logloss:0.00140                                  \n",
      "[60]\tvalidation-logloss:0.00140                                  \n",
      "[61]\tvalidation-logloss:0.00140                                  \n",
      "[62]\tvalidation-logloss:0.00140                                  \n",
      "[63]\tvalidation-logloss:0.00140                                  \n",
      "[64]\tvalidation-logloss:0.00140                                  \n",
      "[65]\tvalidation-logloss:0.00140                                  \n",
      "[66]\tvalidation-logloss:0.00140                                  \n",
      "[67]\tvalidation-logloss:0.00140                                  \n",
      "[68]\tvalidation-logloss:0.00140                                  \n",
      "[69]\tvalidation-logloss:0.00140                                  \n",
      "[70]\tvalidation-logloss:0.00140                                  \n",
      "[71]\tvalidation-logloss:0.00140                                  \n",
      "[0]\tvalidation-logloss:0.64091                                   \n",
      "[1]\tvalidation-logloss:0.59398                                   \n",
      "[2]\tvalidation-logloss:0.55160                                   \n",
      "[3]\tvalidation-logloss:0.51315                                   \n",
      "[4]\tvalidation-logloss:0.47811                                   \n",
      "[5]\tvalidation-logloss:0.44608                                   \n",
      "[6]\tvalidation-logloss:0.41671                                   \n",
      "[7]\tvalidation-logloss:0.38970                                   \n",
      "[8]\tvalidation-logloss:0.36480                                   \n",
      "[9]\tvalidation-logloss:0.34179                                   \n",
      "[10]\tvalidation-logloss:0.32050                                  \n",
      "[11]\tvalidation-logloss:0.30076                                  \n",
      "[12]\tvalidation-logloss:0.28243                                  \n",
      "[13]\tvalidation-logloss:0.26538                                  \n",
      "[14]\tvalidation-logloss:0.24950                                  \n",
      "[15]\tvalidation-logloss:0.23469                                  \n",
      "[16]\tvalidation-logloss:0.22087                                  \n",
      "[17]\tvalidation-logloss:0.20795                                  \n",
      "[18]\tvalidation-logloss:0.19588                                  \n",
      "[19]\tvalidation-logloss:0.18457                                  \n",
      "[20]\tvalidation-logloss:0.17398                                  \n",
      "[21]\tvalidation-logloss:0.16405                                  \n",
      "[22]\tvalidation-logloss:0.15474                                  \n",
      "[23]\tvalidation-logloss:0.14599                                  \n",
      "[24]\tvalidation-logloss:0.13778                                  \n",
      "[25]\tvalidation-logloss:0.13006                                  \n",
      "[26]\tvalidation-logloss:0.12281                                  \n",
      "[27]\tvalidation-logloss:0.11598                                  \n",
      "[28]\tvalidation-logloss:0.10956                                  \n",
      "[29]\tvalidation-logloss:0.10351                                  \n",
      "[30]\tvalidation-logloss:0.09781                                  \n",
      "[31]\tvalidation-logloss:0.09244                                  \n",
      "[32]\tvalidation-logloss:0.08739                                  \n",
      "[33]\tvalidation-logloss:0.08262                                  \n",
      "[34]\tvalidation-logloss:0.07812                                  \n",
      "[35]\tvalidation-logloss:0.07387                                  \n",
      "[36]\tvalidation-logloss:0.06987                                  \n",
      "[37]\tvalidation-logloss:0.06609                                  \n",
      "[38]\tvalidation-logloss:0.06252                                  \n",
      "[39]\tvalidation-logloss:0.05915                                  \n",
      "[40]\tvalidation-logloss:0.05597                                  \n",
      "[41]\tvalidation-logloss:0.05297                                  \n",
      "[42]\tvalidation-logloss:0.05013                                  \n",
      "[43]\tvalidation-logloss:0.04744                                  \n",
      "[44]\tvalidation-logloss:0.04491                                  \n",
      "[45]\tvalidation-logloss:0.04251                                  \n",
      "[46]\tvalidation-logloss:0.04024                                  \n",
      "[47]\tvalidation-logloss:0.03810                                  \n",
      "[48]\tvalidation-logloss:0.03607                                  \n",
      "[49]\tvalidation-logloss:0.03416                                  \n",
      "[50]\tvalidation-logloss:0.03234                                  \n",
      "[51]\tvalidation-logloss:0.03063                                  \n",
      "[52]\tvalidation-logloss:0.02901                                  \n",
      "[53]\tvalidation-logloss:0.02747                                  \n",
      "[54]\tvalidation-logloss:0.02602                                  \n",
      "[55]\tvalidation-logloss:0.02464                                  \n",
      "[56]\tvalidation-logloss:0.02334                                  \n",
      "[57]\tvalidation-logloss:0.02211                                  \n",
      "[58]\tvalidation-logloss:0.02095                                  \n",
      "[59]\tvalidation-logloss:0.01984                                  \n",
      "[60]\tvalidation-logloss:0.01880                                  \n",
      "[61]\tvalidation-logloss:0.01781                                  \n",
      "[62]\tvalidation-logloss:0.01687                                  \n",
      "[63]\tvalidation-logloss:0.01599                                  \n",
      "[64]\tvalidation-logloss:0.01515                                  \n",
      "[65]\tvalidation-logloss:0.01435                                  \n",
      "[66]\tvalidation-logloss:0.01360                                  \n",
      "[67]\tvalidation-logloss:0.01289                                  \n",
      "[68]\tvalidation-logloss:0.01221                                  \n",
      "[69]\tvalidation-logloss:0.01158                                  \n",
      "[70]\tvalidation-logloss:0.01097                                  \n",
      "[71]\tvalidation-logloss:0.01040                                  \n",
      "[72]\tvalidation-logloss:0.00985                                  \n",
      "[73]\tvalidation-logloss:0.00934                                  \n",
      "[74]\tvalidation-logloss:0.00885                                  \n",
      "[75]\tvalidation-logloss:0.00839                                  \n",
      "[76]\tvalidation-logloss:0.00795                                  \n",
      "[77]\tvalidation-logloss:0.00754                                  \n",
      "[78]\tvalidation-logloss:0.00715                                  \n",
      "[79]\tvalidation-logloss:0.00678                                  \n",
      "[80]\tvalidation-logloss:0.00642                                  \n",
      "[81]\tvalidation-logloss:0.00609                                  \n",
      "[82]\tvalidation-logloss:0.00577                                  \n",
      "[83]\tvalidation-logloss:0.00547                                  \n",
      "[84]\tvalidation-logloss:0.00519                                  \n",
      "[85]\tvalidation-logloss:0.00492                                  \n",
      "[86]\tvalidation-logloss:0.00467                                  \n",
      "[87]\tvalidation-logloss:0.00443                                  \n",
      "[88]\tvalidation-logloss:0.00420                                  \n",
      "[89]\tvalidation-logloss:0.00398                                  \n",
      "[90]\tvalidation-logloss:0.00378                                  \n",
      "[91]\tvalidation-logloss:0.00358                                  \n",
      "[92]\tvalidation-logloss:0.00340                                  \n",
      "[93]\tvalidation-logloss:0.00322                                  \n",
      "[94]\tvalidation-logloss:0.00306                                  \n",
      "[95]\tvalidation-logloss:0.00290                                  \n",
      "[96]\tvalidation-logloss:0.00275                                  \n",
      "[97]\tvalidation-logloss:0.00261                                  \n",
      "[98]\tvalidation-logloss:0.00248                                  \n",
      "[99]\tvalidation-logloss:0.00235                                  \n",
      "[100]\tvalidation-logloss:0.00223                                 \n",
      "[101]\tvalidation-logloss:0.00212                                 \n",
      "[102]\tvalidation-logloss:0.00201                                 \n",
      "[103]\tvalidation-logloss:0.00191                                 \n",
      "[104]\tvalidation-logloss:0.00181                                 \n",
      "[105]\tvalidation-logloss:0.00172                                 \n",
      "[106]\tvalidation-logloss:0.00163                                 \n",
      "[107]\tvalidation-logloss:0.00155                                 \n",
      "[108]\tvalidation-logloss:0.00147                                 \n",
      "[109]\tvalidation-logloss:0.00140                                 \n",
      "[110]\tvalidation-logloss:0.00133                                 \n",
      "[111]\tvalidation-logloss:0.00126                                 \n",
      "[112]\tvalidation-logloss:0.00120                                 \n",
      "[113]\tvalidation-logloss:0.00114                                 \n",
      "[114]\tvalidation-logloss:0.00108                                 \n",
      "[115]\tvalidation-logloss:0.00103                                 \n",
      "[116]\tvalidation-logloss:0.00098                                 \n",
      "[117]\tvalidation-logloss:0.00093                                 \n",
      "[118]\tvalidation-logloss:0.00089                                 \n",
      "[119]\tvalidation-logloss:0.00084                                 \n",
      "[120]\tvalidation-logloss:0.00080                                 \n",
      "[121]\tvalidation-logloss:0.00076                                 \n",
      "[122]\tvalidation-logloss:0.00073                                 \n",
      "[123]\tvalidation-logloss:0.00069                                 \n",
      "[124]\tvalidation-logloss:0.00066                                 \n",
      "[125]\tvalidation-logloss:0.00063                                 \n",
      "[126]\tvalidation-logloss:0.00060                                 \n",
      "[127]\tvalidation-logloss:0.00057                                 \n",
      "[128]\tvalidation-logloss:0.00054                                 \n",
      "[129]\tvalidation-logloss:0.00052                                 \n",
      "[130]\tvalidation-logloss:0.00049                                 \n",
      "[131]\tvalidation-logloss:0.00047                                 \n",
      "[132]\tvalidation-logloss:0.00045                                 \n",
      "[133]\tvalidation-logloss:0.00043                                 \n",
      "[134]\tvalidation-logloss:0.00041                                 \n",
      "[135]\tvalidation-logloss:0.00039                                 \n",
      "[136]\tvalidation-logloss:0.00038                                 \n",
      "[137]\tvalidation-logloss:0.00036                                 \n",
      "[138]\tvalidation-logloss:0.00036                                 \n",
      "[139]\tvalidation-logloss:0.00036                                 \n",
      "[140]\tvalidation-logloss:0.00036                                 \n",
      "[141]\tvalidation-logloss:0.00036                                 \n",
      "[142]\tvalidation-logloss:0.00036                                 \n",
      "[143]\tvalidation-logloss:0.00036                                 \n",
      "[144]\tvalidation-logloss:0.00036                                 \n",
      "[145]\tvalidation-logloss:0.00036                                 \n",
      "[146]\tvalidation-logloss:0.00036                                 \n",
      "[147]\tvalidation-logloss:0.00036                                 \n",
      "[148]\tvalidation-logloss:0.00036                                 \n",
      "[149]\tvalidation-logloss:0.00036                                 \n",
      "[150]\tvalidation-logloss:0.00036                                 \n",
      "[151]\tvalidation-logloss:0.00036                                 \n",
      "[152]\tvalidation-logloss:0.00036                                 \n",
      "[153]\tvalidation-logloss:0.00036                                 \n",
      "[154]\tvalidation-logloss:0.00036                                 \n",
      "[155]\tvalidation-logloss:0.00036                                 \n",
      "[156]\tvalidation-logloss:0.00036                                 \n",
      "[157]\tvalidation-logloss:0.00036                                 \n",
      "[158]\tvalidation-logloss:0.00036                                 \n",
      "[159]\tvalidation-logloss:0.00036                                 \n",
      "[160]\tvalidation-logloss:0.00036                                 \n",
      "[161]\tvalidation-logloss:0.00036                                 \n",
      "[162]\tvalidation-logloss:0.00036                                 \n",
      "[163]\tvalidation-logloss:0.00036                                 \n",
      "[164]\tvalidation-logloss:0.00036                                 \n",
      "[165]\tvalidation-logloss:0.00036                                 \n",
      "[166]\tvalidation-logloss:0.00036                                 \n",
      "[167]\tvalidation-logloss:0.00036                                 \n",
      "[168]\tvalidation-logloss:0.00036                                 \n",
      "[169]\tvalidation-logloss:0.00036                                 \n",
      "[170]\tvalidation-logloss:0.00036                                 \n",
      "[171]\tvalidation-logloss:0.00036                                 \n",
      "[172]\tvalidation-logloss:0.00036                                 \n",
      "[173]\tvalidation-logloss:0.00036                                 \n",
      "[174]\tvalidation-logloss:0.00036                                 \n",
      "[175]\tvalidation-logloss:0.00036                                 \n",
      "[176]\tvalidation-logloss:0.00036                                 \n",
      "[177]\tvalidation-logloss:0.00036                                 \n",
      "[178]\tvalidation-logloss:0.00036                                 \n",
      "[179]\tvalidation-logloss:0.00036                                 \n",
      "[180]\tvalidation-logloss:0.00036                                 \n",
      "[181]\tvalidation-logloss:0.00036                                 \n",
      "[182]\tvalidation-logloss:0.00036                                 \n",
      "[183]\tvalidation-logloss:0.00036                                 \n",
      "[184]\tvalidation-logloss:0.00036                                 \n",
      "[185]\tvalidation-logloss:0.00036                                 \n",
      "[186]\tvalidation-logloss:0.00036                                 \n",
      "[0]\tvalidation-logloss:0.43878                                   \n",
      "[1]\tvalidation-logloss:0.29779                                   \n",
      "[2]\tvalidation-logloss:0.20876                                   \n",
      "[3]\tvalidation-logloss:0.14910                                   \n",
      "[4]\tvalidation-logloss:0.10774                                   \n",
      "[5]\tvalidation-logloss:0.07846                                   \n",
      "[6]\tvalidation-logloss:0.05745                                   \n",
      "[7]\tvalidation-logloss:0.04223                                   \n",
      "[8]\tvalidation-logloss:0.03112                                   \n",
      "[9]\tvalidation-logloss:0.02299                                   \n",
      "[10]\tvalidation-logloss:0.01701                                  \n",
      "[11]\tvalidation-logloss:0.01260                                  \n",
      "[12]\tvalidation-logloss:0.00934                                  \n",
      "[13]\tvalidation-logloss:0.00693                                  \n",
      "[14]\tvalidation-logloss:0.00515                                  \n",
      "[15]\tvalidation-logloss:0.00383                                  \n",
      "[16]\tvalidation-logloss:0.00286                                  \n",
      "[17]\tvalidation-logloss:0.00213                                  \n",
      "[18]\tvalidation-logloss:0.00159                                  \n",
      "[19]\tvalidation-logloss:0.00119                                  \n",
      "[20]\tvalidation-logloss:0.00119                                  \n",
      "[21]\tvalidation-logloss:0.00119                                  \n",
      "[22]\tvalidation-logloss:0.00119                                  \n",
      "[23]\tvalidation-logloss:0.00119                                  \n",
      "[24]\tvalidation-logloss:0.00119                                  \n",
      "[25]\tvalidation-logloss:0.00119                                  \n",
      "[26]\tvalidation-logloss:0.00119                                  \n",
      "[27]\tvalidation-logloss:0.00119                                  \n",
      "[28]\tvalidation-logloss:0.00119                                  \n",
      "[29]\tvalidation-logloss:0.00119                                  \n",
      "[30]\tvalidation-logloss:0.00119                                  \n",
      "[31]\tvalidation-logloss:0.00119                                  \n",
      "[32]\tvalidation-logloss:0.00119                                  \n",
      "[33]\tvalidation-logloss:0.00119                                  \n",
      "[34]\tvalidation-logloss:0.00119                                  \n",
      "[35]\tvalidation-logloss:0.00119                                  \n",
      "[36]\tvalidation-logloss:0.00119                                  \n",
      "[37]\tvalidation-logloss:0.00119                                  \n",
      "[38]\tvalidation-logloss:0.00119                                  \n",
      "[39]\tvalidation-logloss:0.00119                                  \n",
      "[40]\tvalidation-logloss:0.00119                                  \n",
      "[41]\tvalidation-logloss:0.00119                                  \n",
      "[42]\tvalidation-logloss:0.00119                                  \n",
      "[43]\tvalidation-logloss:0.00119                                  \n",
      "[44]\tvalidation-logloss:0.00119                                  \n",
      "[45]\tvalidation-logloss:0.00119                                  \n",
      "[46]\tvalidation-logloss:0.00119                                  \n",
      "[47]\tvalidation-logloss:0.00119                                  \n",
      "[48]\tvalidation-logloss:0.00119                                  \n",
      "[49]\tvalidation-logloss:0.00119                                  \n",
      "[50]\tvalidation-logloss:0.00119                                  \n",
      "[51]\tvalidation-logloss:0.00119                                  \n",
      "[52]\tvalidation-logloss:0.00119                                  \n",
      "[53]\tvalidation-logloss:0.00119                                  \n",
      "[54]\tvalidation-logloss:0.00119                                  \n",
      "[55]\tvalidation-logloss:0.00119                                  \n",
      "[56]\tvalidation-logloss:0.00119                                  \n",
      "[57]\tvalidation-logloss:0.00119                                  \n",
      "[58]\tvalidation-logloss:0.00119                                  \n",
      "[59]\tvalidation-logloss:0.00119                                  \n",
      "[60]\tvalidation-logloss:0.00119                                  \n",
      "[61]\tvalidation-logloss:0.00119                                  \n",
      "[62]\tvalidation-logloss:0.00119                                  \n",
      "[63]\tvalidation-logloss:0.00119                                  \n",
      "[64]\tvalidation-logloss:0.00119                                  \n",
      "[65]\tvalidation-logloss:0.00119                                  \n",
      "[66]\tvalidation-logloss:0.00119                                  \n",
      "[67]\tvalidation-logloss:0.00119                                  \n",
      "[68]\tvalidation-logloss:0.00119                                  \n",
      "[0]\tvalidation-logloss:0.54429                                   \n",
      "[1]\tvalidation-logloss:0.43648                                   \n",
      "[2]\tvalidation-logloss:0.35487                                   \n",
      "[3]\tvalidation-logloss:0.29130                                   \n",
      "[4]\tvalidation-logloss:0.24083                                   \n",
      "[5]\tvalidation-logloss:0.20017                                   \n",
      "[6]\tvalidation-logloss:0.16708                                   \n",
      "[7]\tvalidation-logloss:0.13992                                   \n",
      "[8]\tvalidation-logloss:0.11749                                   \n",
      "[9]\tvalidation-logloss:0.09887                                   \n",
      "[10]\tvalidation-logloss:0.08335                                  \n",
      "[11]\tvalidation-logloss:0.07036                                  \n",
      "[12]\tvalidation-logloss:0.05947                                  \n",
      "[13]\tvalidation-logloss:0.05032                                  \n",
      "[14]\tvalidation-logloss:0.04261                                  \n",
      "[15]\tvalidation-logloss:0.03611                                  \n",
      "[16]\tvalidation-logloss:0.03062                                  \n",
      "[17]\tvalidation-logloss:0.02598                                  \n",
      "[18]\tvalidation-logloss:0.02205                                  \n",
      "[19]\tvalidation-logloss:0.01872                                  \n",
      "[20]\tvalidation-logloss:0.01590                                  \n",
      "[21]\tvalidation-logloss:0.01351                                  \n",
      "[22]\tvalidation-logloss:0.01148                                  \n",
      "[23]\tvalidation-logloss:0.00976                                  \n",
      "[24]\tvalidation-logloss:0.00830                                  \n",
      "[25]\tvalidation-logloss:0.00706                                  \n",
      "[26]\tvalidation-logloss:0.00601                                  \n",
      "[27]\tvalidation-logloss:0.00511                                  \n",
      "[28]\tvalidation-logloss:0.00435                                  \n",
      "[29]\tvalidation-logloss:0.00370                                  \n",
      "[30]\tvalidation-logloss:0.00316                                  \n",
      "[31]\tvalidation-logloss:0.00269                                  \n",
      "[32]\tvalidation-logloss:0.00229                                  \n",
      "[33]\tvalidation-logloss:0.00195                                  \n",
      "[34]\tvalidation-logloss:0.00167                                  \n",
      "[35]\tvalidation-logloss:0.00142                                  \n",
      "[36]\tvalidation-logloss:0.00121                                  \n",
      "[37]\tvalidation-logloss:0.00104                                  \n",
      "[38]\tvalidation-logloss:0.00089                                  \n",
      "[39]\tvalidation-logloss:0.00076                                  \n",
      "[40]\tvalidation-logloss:0.00065                                  \n",
      "[41]\tvalidation-logloss:0.00056                                  \n",
      "[42]\tvalidation-logloss:0.00048                                  \n",
      "[43]\tvalidation-logloss:0.00041                                  \n",
      "[44]\tvalidation-logloss:0.00041                                  \n",
      "[45]\tvalidation-logloss:0.00041                                  \n",
      "[46]\tvalidation-logloss:0.00041                                  \n",
      "[47]\tvalidation-logloss:0.00041                                  \n",
      "[48]\tvalidation-logloss:0.00041                                  \n",
      "[49]\tvalidation-logloss:0.00041                                  \n",
      "[50]\tvalidation-logloss:0.00041                                  \n",
      "[51]\tvalidation-logloss:0.00041                                  \n",
      "[52]\tvalidation-logloss:0.00041                                  \n",
      "[53]\tvalidation-logloss:0.00041                                  \n",
      "[54]\tvalidation-logloss:0.00041                                  \n",
      "[55]\tvalidation-logloss:0.00041                                  \n",
      "[56]\tvalidation-logloss:0.00041                                  \n",
      "[57]\tvalidation-logloss:0.00041                                  \n",
      "[58]\tvalidation-logloss:0.00041                                  \n",
      "[59]\tvalidation-logloss:0.00041                                  \n",
      "[60]\tvalidation-logloss:0.00041                                  \n",
      "[61]\tvalidation-logloss:0.00041                                  \n",
      "[62]\tvalidation-logloss:0.00041                                  \n",
      "[63]\tvalidation-logloss:0.00041                                  \n",
      "[64]\tvalidation-logloss:0.00041                                  \n",
      "[65]\tvalidation-logloss:0.00041                                  \n",
      "[66]\tvalidation-logloss:0.00041                                  \n",
      "[67]\tvalidation-logloss:0.00041                                  \n",
      "[68]\tvalidation-logloss:0.00041                                  \n",
      "[69]\tvalidation-logloss:0.00041                                  \n",
      "[70]\tvalidation-logloss:0.00041                                  \n",
      "[71]\tvalidation-logloss:0.00041                                  \n",
      "[72]\tvalidation-logloss:0.00041                                  \n",
      "[73]\tvalidation-logloss:0.00041                                  \n",
      "[74]\tvalidation-logloss:0.00041                                  \n",
      "[75]\tvalidation-logloss:0.00041                                  \n",
      "[76]\tvalidation-logloss:0.00041                                  \n",
      "[77]\tvalidation-logloss:0.00041                                  \n",
      "[78]\tvalidation-logloss:0.00041                                  \n",
      "[79]\tvalidation-logloss:0.00041                                  \n",
      "[80]\tvalidation-logloss:0.00041                                  \n",
      "[81]\tvalidation-logloss:0.00041                                  \n",
      "[82]\tvalidation-logloss:0.00041                                  \n",
      "[83]\tvalidation-logloss:0.00041                                  \n",
      "[84]\tvalidation-logloss:0.00041                                  \n",
      "[85]\tvalidation-logloss:0.00041                                  \n",
      "[86]\tvalidation-logloss:0.00041                                  \n",
      "[87]\tvalidation-logloss:0.00041                                  \n",
      "[88]\tvalidation-logloss:0.00041                                  \n",
      "[89]\tvalidation-logloss:0.00041                                  \n",
      "[90]\tvalidation-logloss:0.00041                                  \n",
      "[91]\tvalidation-logloss:0.00041                                  \n",
      "[92]\tvalidation-logloss:0.00041                                  \n",
      "[93]\tvalidation-logloss:0.00041                                  \n",
      "[0]\tvalidation-logloss:0.16018                                   \n",
      "[1]\tvalidation-logloss:0.06035                                   \n",
      "[2]\tvalidation-logloss:0.02428                                   \n",
      "[3]\tvalidation-logloss:0.01000                                   \n",
      "[4]\tvalidation-logloss:0.00416                                   \n",
      "[5]\tvalidation-logloss:0.00175                                   \n",
      "[6]\tvalidation-logloss:0.00075                                   \n",
      "[7]\tvalidation-logloss:0.00075                                   \n",
      "[8]\tvalidation-logloss:0.00075                                   \n",
      "[9]\tvalidation-logloss:0.00075                                   \n",
      "[10]\tvalidation-logloss:0.00075                                  \n",
      "[11]\tvalidation-logloss:0.00075                                  \n",
      "[12]\tvalidation-logloss:0.00075                                  \n",
      "[13]\tvalidation-logloss:0.00075                                  \n",
      "[14]\tvalidation-logloss:0.00075                                  \n",
      "[15]\tvalidation-logloss:0.00075                                  \n",
      "[16]\tvalidation-logloss:0.00075                                  \n",
      "[17]\tvalidation-logloss:0.00075                                  \n",
      "[18]\tvalidation-logloss:0.00075                                  \n",
      "[19]\tvalidation-logloss:0.00075                                  \n",
      "[20]\tvalidation-logloss:0.00075                                  \n",
      "[21]\tvalidation-logloss:0.00075                                  \n",
      "[22]\tvalidation-logloss:0.00075                                  \n",
      "[23]\tvalidation-logloss:0.00075                                  \n",
      "[24]\tvalidation-logloss:0.00075                                  \n",
      "[25]\tvalidation-logloss:0.00075                                  \n",
      "[26]\tvalidation-logloss:0.00075                                  \n",
      "[27]\tvalidation-logloss:0.00075                                  \n",
      "[28]\tvalidation-logloss:0.00075                                  \n",
      "[29]\tvalidation-logloss:0.00075                                  \n",
      "[30]\tvalidation-logloss:0.00075                                  \n",
      "[31]\tvalidation-logloss:0.00075                                  \n",
      "[32]\tvalidation-logloss:0.00075                                  \n",
      "[33]\tvalidation-logloss:0.00075                                  \n",
      "[34]\tvalidation-logloss:0.00075                                  \n",
      "[35]\tvalidation-logloss:0.00075                                  \n",
      "[36]\tvalidation-logloss:0.00075                                  \n",
      "[37]\tvalidation-logloss:0.00075                                  \n",
      "[38]\tvalidation-logloss:0.00075                                  \n",
      "[39]\tvalidation-logloss:0.00075                                  \n",
      "[40]\tvalidation-logloss:0.00075                                  \n",
      "[41]\tvalidation-logloss:0.00075                                  \n",
      "[42]\tvalidation-logloss:0.00075                                  \n",
      "[43]\tvalidation-logloss:0.00075                                  \n",
      "[44]\tvalidation-logloss:0.00075                                  \n",
      "[45]\tvalidation-logloss:0.00075                                  \n",
      "[46]\tvalidation-logloss:0.00075                                  \n",
      "[47]\tvalidation-logloss:0.00075                                  \n",
      "[48]\tvalidation-logloss:0.00075                                  \n",
      "[49]\tvalidation-logloss:0.00075                                  \n",
      "[50]\tvalidation-logloss:0.00075                                  \n",
      "[51]\tvalidation-logloss:0.00075                                  \n",
      "[52]\tvalidation-logloss:0.00075                                  \n",
      "[53]\tvalidation-logloss:0.00075                                  \n",
      "[54]\tvalidation-logloss:0.00075                                  \n",
      "[55]\tvalidation-logloss:0.00075                                  \n",
      "[56]\tvalidation-logloss:0.00075                                  \n",
      "[0]\tvalidation-logloss:0.59141                                   \n",
      "[1]\tvalidation-logloss:0.50933                                   \n",
      "[2]\tvalidation-logloss:0.44172                                   \n",
      "[3]\tvalidation-logloss:0.38517                                   \n",
      "[4]\tvalidation-logloss:0.33732                                   \n",
      "[5]\tvalidation-logloss:0.29646                                   \n",
      "[6]\tvalidation-logloss:0.26131                                   \n",
      "[7]\tvalidation-logloss:0.23089                                   \n",
      "[8]\tvalidation-logloss:0.20443                                   \n",
      "[9]\tvalidation-logloss:0.18132                                   \n",
      "[10]\tvalidation-logloss:0.16107                                  \n",
      "[11]\tvalidation-logloss:0.14326                                  \n",
      "[12]\tvalidation-logloss:0.12757                                  \n",
      "[13]\tvalidation-logloss:0.11371                                  \n",
      "[14]\tvalidation-logloss:0.10144                                  \n",
      "[15]\tvalidation-logloss:0.09056                                  \n",
      "[16]\tvalidation-logloss:0.08090                                  \n",
      "[17]\tvalidation-logloss:0.07232                                  \n",
      "[18]\tvalidation-logloss:0.06468                                  \n",
      "[19]\tvalidation-logloss:0.05787                                  \n",
      "[20]\tvalidation-logloss:0.05180                                  \n",
      "[21]\tvalidation-logloss:0.04638                                  \n",
      "[22]\tvalidation-logloss:0.04155                                  \n",
      "[23]\tvalidation-logloss:0.03723                                  \n",
      "[24]\tvalidation-logloss:0.03336                                  \n",
      "[25]\tvalidation-logloss:0.02991                                  \n",
      "[26]\tvalidation-logloss:0.02682                                  \n",
      "[27]\tvalidation-logloss:0.02405                                  \n",
      "[28]\tvalidation-logloss:0.02157                                  \n",
      "[29]\tvalidation-logloss:0.01935                                  \n",
      "[30]\tvalidation-logloss:0.01736                                  \n",
      "[31]\tvalidation-logloss:0.01558                                  \n",
      "[32]\tvalidation-logloss:0.01398                                  \n",
      "[33]\tvalidation-logloss:0.01255                                  \n",
      "[34]\tvalidation-logloss:0.01126                                  \n",
      "[35]\tvalidation-logloss:0.01011                                  \n",
      "[36]\tvalidation-logloss:0.00908                                  \n",
      "[37]\tvalidation-logloss:0.00815                                  \n",
      "[38]\tvalidation-logloss:0.00732                                  \n",
      "[39]\tvalidation-logloss:0.00657                                  \n",
      "[40]\tvalidation-logloss:0.00590                                  \n",
      "[41]\tvalidation-logloss:0.00530                                  \n",
      "[42]\tvalidation-logloss:0.00476                                  \n",
      "[43]\tvalidation-logloss:0.00428                                  \n",
      "[44]\tvalidation-logloss:0.00384                                  \n",
      "[45]\tvalidation-logloss:0.00345                                  \n",
      "[46]\tvalidation-logloss:0.00310                                  \n",
      "[47]\tvalidation-logloss:0.00279                                  \n",
      "[48]\tvalidation-logloss:0.00251                                  \n",
      "[49]\tvalidation-logloss:0.00225                                  \n",
      "[50]\tvalidation-logloss:0.00203                                  \n",
      "[51]\tvalidation-logloss:0.00182                                  \n",
      "[52]\tvalidation-logloss:0.00164                                  \n",
      "[53]\tvalidation-logloss:0.00147                                  \n",
      "[54]\tvalidation-logloss:0.00133                                  \n",
      "[55]\tvalidation-logloss:0.00119                                  \n",
      "[56]\tvalidation-logloss:0.00107                                  \n",
      "[57]\tvalidation-logloss:0.00097                                  \n",
      "[58]\tvalidation-logloss:0.00087                                  \n",
      "[59]\tvalidation-logloss:0.00078                                  \n",
      "[60]\tvalidation-logloss:0.00071                                  \n",
      "[61]\tvalidation-logloss:0.00064                                  \n",
      "[62]\tvalidation-logloss:0.00057                                  \n",
      "[63]\tvalidation-logloss:0.00052                                  \n",
      "[64]\tvalidation-logloss:0.00047                                  \n",
      "[65]\tvalidation-logloss:0.00042                                  \n",
      "[66]\tvalidation-logloss:0.00038                                  \n",
      "[67]\tvalidation-logloss:0.00034                                  \n",
      "[68]\tvalidation-logloss:0.00031                                  \n",
      "[69]\tvalidation-logloss:0.00028                                  \n",
      "[70]\tvalidation-logloss:0.00026                                  \n",
      "[71]\tvalidation-logloss:0.00023                                  \n",
      "[72]\tvalidation-logloss:0.00021                                  \n",
      "[73]\tvalidation-logloss:0.00019                                  \n",
      "[74]\tvalidation-logloss:0.00017                                  \n",
      "[75]\tvalidation-logloss:0.00016                                  \n",
      "[76]\tvalidation-logloss:0.00015                                  \n",
      "[77]\tvalidation-logloss:0.00013                                  \n",
      "[78]\tvalidation-logloss:0.00013                                  \n",
      "[79]\tvalidation-logloss:0.00013                                  \n",
      "[80]\tvalidation-logloss:0.00013                                  \n",
      "[81]\tvalidation-logloss:0.00013                                  \n",
      "[82]\tvalidation-logloss:0.00013                                  \n",
      "[83]\tvalidation-logloss:0.00013                                  \n",
      "[84]\tvalidation-logloss:0.00013                                  \n",
      "[85]\tvalidation-logloss:0.00013                                  \n",
      "[86]\tvalidation-logloss:0.00013                                  \n",
      "[87]\tvalidation-logloss:0.00013                                  \n",
      "[88]\tvalidation-logloss:0.00013                                  \n",
      "[89]\tvalidation-logloss:0.00013                                  \n",
      "[90]\tvalidation-logloss:0.00013                                  \n",
      "[91]\tvalidation-logloss:0.00013                                  \n",
      "[92]\tvalidation-logloss:0.00013                                  \n",
      "[93]\tvalidation-logloss:0.00013                                  \n",
      "[94]\tvalidation-logloss:0.00013                                  \n",
      "[95]\tvalidation-logloss:0.00013                                  \n",
      "[96]\tvalidation-logloss:0.00013                                  \n",
      "[97]\tvalidation-logloss:0.00013                                  \n",
      "[98]\tvalidation-logloss:0.00013                                  \n",
      "[99]\tvalidation-logloss:0.00013                                  \n",
      "[100]\tvalidation-logloss:0.00013                                 \n",
      "[101]\tvalidation-logloss:0.00013                                 \n",
      "[102]\tvalidation-logloss:0.00013                                 \n",
      "[103]\tvalidation-logloss:0.00013                                 \n",
      "[104]\tvalidation-logloss:0.00013                                 \n",
      "[105]\tvalidation-logloss:0.00013                                 \n",
      "[106]\tvalidation-logloss:0.00013                                 \n",
      "[107]\tvalidation-logloss:0.00013                                 \n",
      "[108]\tvalidation-logloss:0.00013                                 \n",
      "[109]\tvalidation-logloss:0.00013                                 \n",
      "[110]\tvalidation-logloss:0.00013                                 \n",
      "[111]\tvalidation-logloss:0.00013                                 \n",
      "[112]\tvalidation-logloss:0.00013                                 \n",
      "[113]\tvalidation-logloss:0.00013                                 \n",
      "[114]\tvalidation-logloss:0.00013                                 \n",
      "[115]\tvalidation-logloss:0.00013                                 \n",
      "[116]\tvalidation-logloss:0.00013                                 \n",
      "[117]\tvalidation-logloss:0.00013                                 \n",
      "[118]\tvalidation-logloss:0.00013                                 \n",
      "[119]\tvalidation-logloss:0.00013                                 \n",
      "[120]\tvalidation-logloss:0.00013                                 \n",
      "[121]\tvalidation-logloss:0.00013                                 \n",
      "[122]\tvalidation-logloss:0.00013                                 \n",
      "[123]\tvalidation-logloss:0.00013                                 \n",
      "[124]\tvalidation-logloss:0.00013                                 \n",
      "[125]\tvalidation-logloss:0.00013                                 \n",
      "[126]\tvalidation-logloss:0.00013                                 \n",
      "[127]\tvalidation-logloss:0.00013                                 \n",
      "[0]\tvalidation-logloss:0.62032                                   \n",
      "[1]\tvalidation-logloss:0.55771                                   \n",
      "[2]\tvalidation-logloss:0.50332                                   \n",
      "[3]\tvalidation-logloss:0.45566                                   \n",
      "[4]\tvalidation-logloss:0.41361                                   \n",
      "[5]\tvalidation-logloss:0.37628                                   \n",
      "[6]\tvalidation-logloss:0.34299                                   \n",
      "[7]\tvalidation-logloss:0.31318                                   \n",
      "[8]\tvalidation-logloss:0.28638                                   \n",
      "[9]\tvalidation-logloss:0.26222                                   \n",
      "[10]\tvalidation-logloss:0.24037                                  \n",
      "[11]\tvalidation-logloss:0.22057                                  \n",
      "[12]\tvalidation-logloss:0.20258                                  \n",
      "[13]\tvalidation-logloss:0.18622                                  \n",
      " 16%|█▌        | 8/50 [00:20<01:46,  2.54s/trial, best loss: 0.0]\n"
     ]
    },
    {
     "ename": "KeyboardInterrupt",
     "evalue": "",
     "output_type": "error",
     "traceback": [
      "\u001b[0;31m---------------------------------------------------------------------------\u001b[0m",
      "\u001b[0;31mKeyboardInterrupt\u001b[0m                         Traceback (most recent call last)",
      "Cell \u001b[0;32mIn[16], line 49\u001b[0m\n\u001b[1;32m     37\u001b[0m     \u001b[39mreturn\u001b[39;00m {\u001b[39m'\u001b[39m\u001b[39mloss\u001b[39m\u001b[39m'\u001b[39m: metric, \u001b[39m'\u001b[39m\u001b[39mstatus\u001b[39m\u001b[39m'\u001b[39m: STATUS_OK}\n\u001b[1;32m     39\u001b[0m search_space \u001b[39m=\u001b[39m {\n\u001b[1;32m     40\u001b[0m             \u001b[39m'\u001b[39m\u001b[39mmax_depth\u001b[39m\u001b[39m'\u001b[39m: scope\u001b[39m.\u001b[39mint(hp\u001b[39m.\u001b[39mquniform(\u001b[39m'\u001b[39m\u001b[39mmax_depth\u001b[39m\u001b[39m'\u001b[39m, \u001b[39m4\u001b[39m, \u001b[39m100\u001b[39m, \u001b[39m1\u001b[39m)),\n\u001b[1;32m     41\u001b[0m             \u001b[39m'\u001b[39m\u001b[39mlearning_rate\u001b[39m\u001b[39m'\u001b[39m: hp\u001b[39m.\u001b[39mloguniform(\u001b[39m'\u001b[39m\u001b[39mlearning_rate\u001b[39m\u001b[39m'\u001b[39m, \u001b[39m-\u001b[39m\u001b[39m3\u001b[39m, \u001b[39m0\u001b[39m),\n\u001b[0;32m   (...)\u001b[0m\n\u001b[1;32m     46\u001b[0m             \u001b[39m'\u001b[39m\u001b[39mseed\u001b[39m\u001b[39m'\u001b[39m: \u001b[39m42\u001b[39m\n\u001b[1;32m     47\u001b[0m                 }\n\u001b[0;32m---> 49\u001b[0m best_result \u001b[39m=\u001b[39m fmin(\n\u001b[1;32m     50\u001b[0m                 fn\u001b[39m=\u001b[39;49m objective,\n\u001b[1;32m     51\u001b[0m                 space\u001b[39m=\u001b[39;49msearch_space,\n\u001b[1;32m     52\u001b[0m                 algo\u001b[39m=\u001b[39;49mtpe\u001b[39m.\u001b[39;49msuggest,\n\u001b[1;32m     53\u001b[0m                 max_evals\u001b[39m=\u001b[39;49m\u001b[39m50\u001b[39;49m,\n\u001b[1;32m     54\u001b[0m                 trials\u001b[39m=\u001b[39;49mTrials()\n\u001b[1;32m     55\u001b[0m                 )\n",
      "File \u001b[0;32m~/miniconda3/lib/python3.10/site-packages/hyperopt/fmin.py:540\u001b[0m, in \u001b[0;36mfmin\u001b[0;34m(fn, space, algo, max_evals, timeout, loss_threshold, trials, rstate, allow_trials_fmin, pass_expr_memo_ctrl, catch_eval_exceptions, verbose, return_argmin, points_to_evaluate, max_queue_len, show_progressbar, early_stop_fn, trials_save_file)\u001b[0m\n\u001b[1;32m    537\u001b[0m     fn \u001b[39m=\u001b[39m __objective_fmin_wrapper(fn)\n\u001b[1;32m    539\u001b[0m \u001b[39mif\u001b[39;00m allow_trials_fmin \u001b[39mand\u001b[39;00m \u001b[39mhasattr\u001b[39m(trials, \u001b[39m\"\u001b[39m\u001b[39mfmin\u001b[39m\u001b[39m\"\u001b[39m):\n\u001b[0;32m--> 540\u001b[0m     \u001b[39mreturn\u001b[39;00m trials\u001b[39m.\u001b[39;49mfmin(\n\u001b[1;32m    541\u001b[0m         fn,\n\u001b[1;32m    542\u001b[0m         space,\n\u001b[1;32m    543\u001b[0m         algo\u001b[39m=\u001b[39;49malgo,\n\u001b[1;32m    544\u001b[0m         max_evals\u001b[39m=\u001b[39;49mmax_evals,\n\u001b[1;32m    545\u001b[0m         timeout\u001b[39m=\u001b[39;49mtimeout,\n\u001b[1;32m    546\u001b[0m         loss_threshold\u001b[39m=\u001b[39;49mloss_threshold,\n\u001b[1;32m    547\u001b[0m         max_queue_len\u001b[39m=\u001b[39;49mmax_queue_len,\n\u001b[1;32m    548\u001b[0m         rstate\u001b[39m=\u001b[39;49mrstate,\n\u001b[1;32m    549\u001b[0m         pass_expr_memo_ctrl\u001b[39m=\u001b[39;49mpass_expr_memo_ctrl,\n\u001b[1;32m    550\u001b[0m         verbose\u001b[39m=\u001b[39;49mverbose,\n\u001b[1;32m    551\u001b[0m         catch_eval_exceptions\u001b[39m=\u001b[39;49mcatch_eval_exceptions,\n\u001b[1;32m    552\u001b[0m         return_argmin\u001b[39m=\u001b[39;49mreturn_argmin,\n\u001b[1;32m    553\u001b[0m         show_progressbar\u001b[39m=\u001b[39;49mshow_progressbar,\n\u001b[1;32m    554\u001b[0m         early_stop_fn\u001b[39m=\u001b[39;49mearly_stop_fn,\n\u001b[1;32m    555\u001b[0m         trials_save_file\u001b[39m=\u001b[39;49mtrials_save_file,\n\u001b[1;32m    556\u001b[0m     )\n\u001b[1;32m    558\u001b[0m \u001b[39mif\u001b[39;00m trials \u001b[39mis\u001b[39;00m \u001b[39mNone\u001b[39;00m:\n\u001b[1;32m    559\u001b[0m     \u001b[39mif\u001b[39;00m os\u001b[39m.\u001b[39mpath\u001b[39m.\u001b[39mexists(trials_save_file):\n",
      "File \u001b[0;32m~/miniconda3/lib/python3.10/site-packages/hyperopt/base.py:671\u001b[0m, in \u001b[0;36mTrials.fmin\u001b[0;34m(self, fn, space, algo, max_evals, timeout, loss_threshold, max_queue_len, rstate, verbose, pass_expr_memo_ctrl, catch_eval_exceptions, return_argmin, show_progressbar, early_stop_fn, trials_save_file)\u001b[0m\n\u001b[1;32m    666\u001b[0m \u001b[39m# -- Stop-gap implementation!\u001b[39;00m\n\u001b[1;32m    667\u001b[0m \u001b[39m#    fmin should have been a Trials method in the first place\u001b[39;00m\n\u001b[1;32m    668\u001b[0m \u001b[39m#    but for now it's still sitting in another file.\u001b[39;00m\n\u001b[1;32m    669\u001b[0m \u001b[39mfrom\u001b[39;00m \u001b[39m.\u001b[39;00m\u001b[39mfmin\u001b[39;00m \u001b[39mimport\u001b[39;00m fmin\n\u001b[0;32m--> 671\u001b[0m \u001b[39mreturn\u001b[39;00m fmin(\n\u001b[1;32m    672\u001b[0m     fn,\n\u001b[1;32m    673\u001b[0m     space,\n\u001b[1;32m    674\u001b[0m     algo\u001b[39m=\u001b[39;49malgo,\n\u001b[1;32m    675\u001b[0m     max_evals\u001b[39m=\u001b[39;49mmax_evals,\n\u001b[1;32m    676\u001b[0m     timeout\u001b[39m=\u001b[39;49mtimeout,\n\u001b[1;32m    677\u001b[0m     loss_threshold\u001b[39m=\u001b[39;49mloss_threshold,\n\u001b[1;32m    678\u001b[0m     trials\u001b[39m=\u001b[39;49m\u001b[39mself\u001b[39;49m,\n\u001b[1;32m    679\u001b[0m     rstate\u001b[39m=\u001b[39;49mrstate,\n\u001b[1;32m    680\u001b[0m     verbose\u001b[39m=\u001b[39;49mverbose,\n\u001b[1;32m    681\u001b[0m     max_queue_len\u001b[39m=\u001b[39;49mmax_queue_len,\n\u001b[1;32m    682\u001b[0m     allow_trials_fmin\u001b[39m=\u001b[39;49m\u001b[39mFalse\u001b[39;49;00m,  \u001b[39m# -- prevent recursion\u001b[39;49;00m\n\u001b[1;32m    683\u001b[0m     pass_expr_memo_ctrl\u001b[39m=\u001b[39;49mpass_expr_memo_ctrl,\n\u001b[1;32m    684\u001b[0m     catch_eval_exceptions\u001b[39m=\u001b[39;49mcatch_eval_exceptions,\n\u001b[1;32m    685\u001b[0m     return_argmin\u001b[39m=\u001b[39;49mreturn_argmin,\n\u001b[1;32m    686\u001b[0m     show_progressbar\u001b[39m=\u001b[39;49mshow_progressbar,\n\u001b[1;32m    687\u001b[0m     early_stop_fn\u001b[39m=\u001b[39;49mearly_stop_fn,\n\u001b[1;32m    688\u001b[0m     trials_save_file\u001b[39m=\u001b[39;49mtrials_save_file,\n\u001b[1;32m    689\u001b[0m )\n",
      "File \u001b[0;32m~/miniconda3/lib/python3.10/site-packages/hyperopt/fmin.py:586\u001b[0m, in \u001b[0;36mfmin\u001b[0;34m(fn, space, algo, max_evals, timeout, loss_threshold, trials, rstate, allow_trials_fmin, pass_expr_memo_ctrl, catch_eval_exceptions, verbose, return_argmin, points_to_evaluate, max_queue_len, show_progressbar, early_stop_fn, trials_save_file)\u001b[0m\n\u001b[1;32m    583\u001b[0m rval\u001b[39m.\u001b[39mcatch_eval_exceptions \u001b[39m=\u001b[39m catch_eval_exceptions\n\u001b[1;32m    585\u001b[0m \u001b[39m# next line is where the fmin is actually executed\u001b[39;00m\n\u001b[0;32m--> 586\u001b[0m rval\u001b[39m.\u001b[39;49mexhaust()\n\u001b[1;32m    588\u001b[0m \u001b[39mif\u001b[39;00m return_argmin:\n\u001b[1;32m    589\u001b[0m     \u001b[39mif\u001b[39;00m \u001b[39mlen\u001b[39m(trials\u001b[39m.\u001b[39mtrials) \u001b[39m==\u001b[39m \u001b[39m0\u001b[39m:\n",
      "File \u001b[0;32m~/miniconda3/lib/python3.10/site-packages/hyperopt/fmin.py:364\u001b[0m, in \u001b[0;36mFMinIter.exhaust\u001b[0;34m(self)\u001b[0m\n\u001b[1;32m    362\u001b[0m \u001b[39mdef\u001b[39;00m \u001b[39mexhaust\u001b[39m(\u001b[39mself\u001b[39m):\n\u001b[1;32m    363\u001b[0m     n_done \u001b[39m=\u001b[39m \u001b[39mlen\u001b[39m(\u001b[39mself\u001b[39m\u001b[39m.\u001b[39mtrials)\n\u001b[0;32m--> 364\u001b[0m     \u001b[39mself\u001b[39;49m\u001b[39m.\u001b[39;49mrun(\u001b[39mself\u001b[39;49m\u001b[39m.\u001b[39;49mmax_evals \u001b[39m-\u001b[39;49m n_done, block_until_done\u001b[39m=\u001b[39;49m\u001b[39mself\u001b[39;49m\u001b[39m.\u001b[39;49masynchronous)\n\u001b[1;32m    365\u001b[0m     \u001b[39mself\u001b[39m\u001b[39m.\u001b[39mtrials\u001b[39m.\u001b[39mrefresh()\n\u001b[1;32m    366\u001b[0m     \u001b[39mreturn\u001b[39;00m \u001b[39mself\u001b[39m\n",
      "File \u001b[0;32m~/miniconda3/lib/python3.10/site-packages/hyperopt/fmin.py:300\u001b[0m, in \u001b[0;36mFMinIter.run\u001b[0;34m(self, N, block_until_done)\u001b[0m\n\u001b[1;32m    297\u001b[0m     time\u001b[39m.\u001b[39msleep(\u001b[39mself\u001b[39m\u001b[39m.\u001b[39mpoll_interval_secs)\n\u001b[1;32m    298\u001b[0m \u001b[39melse\u001b[39;00m:\n\u001b[1;32m    299\u001b[0m     \u001b[39m# -- loop over trials and do the jobs directly\u001b[39;00m\n\u001b[0;32m--> 300\u001b[0m     \u001b[39mself\u001b[39;49m\u001b[39m.\u001b[39;49mserial_evaluate()\n\u001b[1;32m    302\u001b[0m \u001b[39mself\u001b[39m\u001b[39m.\u001b[39mtrials\u001b[39m.\u001b[39mrefresh()\n\u001b[1;32m    303\u001b[0m \u001b[39mif\u001b[39;00m \u001b[39mself\u001b[39m\u001b[39m.\u001b[39mtrials_save_file \u001b[39m!=\u001b[39m \u001b[39m\"\u001b[39m\u001b[39m\"\u001b[39m:\n",
      "File \u001b[0;32m~/miniconda3/lib/python3.10/site-packages/hyperopt/fmin.py:178\u001b[0m, in \u001b[0;36mFMinIter.serial_evaluate\u001b[0;34m(self, N)\u001b[0m\n\u001b[1;32m    176\u001b[0m ctrl \u001b[39m=\u001b[39m base\u001b[39m.\u001b[39mCtrl(\u001b[39mself\u001b[39m\u001b[39m.\u001b[39mtrials, current_trial\u001b[39m=\u001b[39mtrial)\n\u001b[1;32m    177\u001b[0m \u001b[39mtry\u001b[39;00m:\n\u001b[0;32m--> 178\u001b[0m     result \u001b[39m=\u001b[39m \u001b[39mself\u001b[39;49m\u001b[39m.\u001b[39;49mdomain\u001b[39m.\u001b[39;49mevaluate(spec, ctrl)\n\u001b[1;32m    179\u001b[0m \u001b[39mexcept\u001b[39;00m \u001b[39mException\u001b[39;00m \u001b[39mas\u001b[39;00m e:\n\u001b[1;32m    180\u001b[0m     logger\u001b[39m.\u001b[39merror(\u001b[39m\"\u001b[39m\u001b[39mjob exception: \u001b[39m\u001b[39m%s\u001b[39;00m\u001b[39m\"\u001b[39m \u001b[39m%\u001b[39m \u001b[39mstr\u001b[39m(e))\n",
      "File \u001b[0;32m~/miniconda3/lib/python3.10/site-packages/hyperopt/base.py:892\u001b[0m, in \u001b[0;36mDomain.evaluate\u001b[0;34m(self, config, ctrl, attach_attachments)\u001b[0m\n\u001b[1;32m    883\u001b[0m \u001b[39melse\u001b[39;00m:\n\u001b[1;32m    884\u001b[0m     \u001b[39m# -- the \"work\" of evaluating `config` can be written\u001b[39;00m\n\u001b[1;32m    885\u001b[0m     \u001b[39m#    either into the pyll part (self.expr)\u001b[39;00m\n\u001b[1;32m    886\u001b[0m     \u001b[39m#    or the normal Python part (self.fn)\u001b[39;00m\n\u001b[1;32m    887\u001b[0m     pyll_rval \u001b[39m=\u001b[39m pyll\u001b[39m.\u001b[39mrec_eval(\n\u001b[1;32m    888\u001b[0m         \u001b[39mself\u001b[39m\u001b[39m.\u001b[39mexpr,\n\u001b[1;32m    889\u001b[0m         memo\u001b[39m=\u001b[39mmemo,\n\u001b[1;32m    890\u001b[0m         print_node_on_error\u001b[39m=\u001b[39m\u001b[39mself\u001b[39m\u001b[39m.\u001b[39mrec_eval_print_node_on_error,\n\u001b[1;32m    891\u001b[0m     )\n\u001b[0;32m--> 892\u001b[0m     rval \u001b[39m=\u001b[39m \u001b[39mself\u001b[39;49m\u001b[39m.\u001b[39;49mfn(pyll_rval)\n\u001b[1;32m    894\u001b[0m \u001b[39mif\u001b[39;00m \u001b[39misinstance\u001b[39m(rval, (\u001b[39mfloat\u001b[39m, \u001b[39mint\u001b[39m, np\u001b[39m.\u001b[39mnumber)):\n\u001b[1;32m    895\u001b[0m     dict_rval \u001b[39m=\u001b[39m {\u001b[39m\"\u001b[39m\u001b[39mloss\u001b[39m\u001b[39m\"\u001b[39m: \u001b[39mfloat\u001b[39m(rval), \u001b[39m\"\u001b[39m\u001b[39mstatus\u001b[39m\u001b[39m\"\u001b[39m: STATUS_OK}\n",
      "Cell \u001b[0;32mIn[16], line 23\u001b[0m, in \u001b[0;36mobjective\u001b[0;34m(params)\u001b[0m\n\u001b[1;32m     14\u001b[0m \u001b[39m# model = make_pipeline(DictVectorizer(sparse= False),\u001b[39;00m\n\u001b[1;32m     15\u001b[0m \u001b[39m#                       xgb.Dmatrix(),\u001b[39;00m\n\u001b[1;32m     16\u001b[0m \u001b[39m#                       xgb.train(num_boost_round = 1000, \u001b[39;00m\n\u001b[0;32m   (...)\u001b[0m\n\u001b[1;32m     19\u001b[0m \u001b[39m#                                 early_stopping_rounds=50,\u001b[39;00m\n\u001b[1;32m     20\u001b[0m \u001b[39m#                                 **params))\u001b[39;00m\n\u001b[1;32m     22\u001b[0m mlflow\u001b[39m.\u001b[39mlog_params(params)\n\u001b[0;32m---> 23\u001b[0m booster \u001b[39m=\u001b[39m xgb\u001b[39m.\u001b[39;49mtrain(params\u001b[39m=\u001b[39;49mparams,\n\u001b[1;32m     24\u001b[0m                     dtrain\u001b[39m=\u001b[39;49mxgb_train,\n\u001b[1;32m     25\u001b[0m                     num_boost_round\u001b[39m=\u001b[39;49m\u001b[39m1000\u001b[39;49m,\n\u001b[1;32m     26\u001b[0m                     evals\u001b[39m=\u001b[39;49m[(xgb_valid, \u001b[39m'\u001b[39;49m\u001b[39mvalidation\u001b[39;49m\u001b[39m'\u001b[39;49m)],\n\u001b[1;32m     27\u001b[0m                     early_stopping_rounds\u001b[39m=\u001b[39;49m\u001b[39m50\u001b[39;49m\n\u001b[1;32m     28\u001b[0m                     )\n\u001b[1;32m     30\u001b[0m test_pred \u001b[39m=\u001b[39m booster\u001b[39m.\u001b[39mpredict(xgb_valid)\n\u001b[1;32m     31\u001b[0m test_pred \u001b[39m=\u001b[39m (test_pred \u001b[39m>\u001b[39m\u001b[39m=\u001b[39m \u001b[39m0.5\u001b[39m)\u001b[39m.\u001b[39mastype(\u001b[39m'\u001b[39m\u001b[39mint\u001b[39m\u001b[39m'\u001b[39m)\n",
      "File \u001b[0;32m~/miniconda3/lib/python3.10/site-packages/xgboost/core.py:620\u001b[0m, in \u001b[0;36mrequire_keyword_args.<locals>.throw_if.<locals>.inner_f\u001b[0;34m(*args, **kwargs)\u001b[0m\n\u001b[1;32m    618\u001b[0m \u001b[39mfor\u001b[39;00m k, arg \u001b[39min\u001b[39;00m \u001b[39mzip\u001b[39m(sig\u001b[39m.\u001b[39mparameters, args):\n\u001b[1;32m    619\u001b[0m     kwargs[k] \u001b[39m=\u001b[39m arg\n\u001b[0;32m--> 620\u001b[0m \u001b[39mreturn\u001b[39;00m func(\u001b[39m*\u001b[39;49m\u001b[39m*\u001b[39;49mkwargs)\n",
      "File \u001b[0;32m~/miniconda3/lib/python3.10/site-packages/xgboost/training.py:185\u001b[0m, in \u001b[0;36mtrain\u001b[0;34m(params, dtrain, num_boost_round, evals, obj, feval, maximize, early_stopping_rounds, evals_result, verbose_eval, xgb_model, callbacks, custom_metric)\u001b[0m\n\u001b[1;32m    183\u001b[0m \u001b[39mif\u001b[39;00m cb_container\u001b[39m.\u001b[39mbefore_iteration(bst, i, dtrain, evals):\n\u001b[1;32m    184\u001b[0m     \u001b[39mbreak\u001b[39;00m\n\u001b[0;32m--> 185\u001b[0m bst\u001b[39m.\u001b[39;49mupdate(dtrain, i, obj)\n\u001b[1;32m    186\u001b[0m \u001b[39mif\u001b[39;00m cb_container\u001b[39m.\u001b[39mafter_iteration(bst, i, dtrain, evals):\n\u001b[1;32m    187\u001b[0m     \u001b[39mbreak\u001b[39;00m\n",
      "File \u001b[0;32m~/miniconda3/lib/python3.10/site-packages/xgboost/core.py:1918\u001b[0m, in \u001b[0;36mBooster.update\u001b[0;34m(self, dtrain, iteration, fobj)\u001b[0m\n\u001b[1;32m   1915\u001b[0m \u001b[39mself\u001b[39m\u001b[39m.\u001b[39m_validate_dmatrix_features(dtrain)\n\u001b[1;32m   1917\u001b[0m \u001b[39mif\u001b[39;00m fobj \u001b[39mis\u001b[39;00m \u001b[39mNone\u001b[39;00m:\n\u001b[0;32m-> 1918\u001b[0m     _check_call(_LIB\u001b[39m.\u001b[39;49mXGBoosterUpdateOneIter(\u001b[39mself\u001b[39;49m\u001b[39m.\u001b[39;49mhandle,\n\u001b[1;32m   1919\u001b[0m                                             ctypes\u001b[39m.\u001b[39;49mc_int(iteration),\n\u001b[1;32m   1920\u001b[0m                                             dtrain\u001b[39m.\u001b[39;49mhandle))\n\u001b[1;32m   1921\u001b[0m \u001b[39melse\u001b[39;00m:\n\u001b[1;32m   1922\u001b[0m     pred \u001b[39m=\u001b[39m \u001b[39mself\u001b[39m\u001b[39m.\u001b[39mpredict(dtrain, output_margin\u001b[39m=\u001b[39m\u001b[39mTrue\u001b[39;00m, training\u001b[39m=\u001b[39m\u001b[39mTrue\u001b[39;00m)\n",
      "\u001b[0;31mKeyboardInterrupt\u001b[0m: "
     ]
    }
   ],
   "source": [
    "vectorizer = DictVectorizer()\n",
    "train_x = vectorizer.fit_transform(train_x)\n",
    "test_x = vectorizer.transform(test_x)\n",
    "\n",
    "xgb_train = xgb.DMatrix(train_x, label=train_y)\n",
    "xgb_valid = xgb.DMatrix(test_x, label=test_y)\n",
    "\n",
    "def objective(params):\n",
    "\n",
    "    with mlflow.start_run():\n",
    "\n",
    "        mlflow.set_tag('Developer', 'Godwin')\n",
    "        \n",
    "        # model = make_pipeline(DictVectorizer(sparse= False),\n",
    "        #                       xgb.Dmatrix(),\n",
    "        #                       xgb.train(num_boost_round = 1000, \n",
    "        #                                 dtrain= xgb_train,\n",
    "        #                                 evals=[(xgb_valid, 'validation')],\n",
    "        #                                 early_stopping_rounds=50,\n",
    "        #                                 **params))\n",
    "\n",
    "        mlflow.log_params(params)\n",
    "        booster = xgb.train(params=params,\n",
    "                            dtrain=xgb_train,\n",
    "                            num_boost_round=1000,\n",
    "                            evals=[(xgb_valid, 'validation')],\n",
    "                            early_stopping_rounds=50\n",
    "                            )\n",
    "        \n",
    "        test_pred = booster.predict(xgb_valid)\n",
    "        test_pred = (test_pred >= 0.5).astype('int')\n",
    "        \n",
    "        test_output_eval = log_evaluation(test_y, test_pred)  \n",
    "        mlflow.log_metrics(test_output_eval)\n",
    "\n",
    "        metric = (test_output_eval['test_f1_score'])\n",
    "    return {'loss': metric, 'status': STATUS_OK}\n",
    "\n",
    "search_space = {\n",
    "            'max_depth': scope.int(hp.quniform('max_depth', 4, 100, 1)),\n",
    "            'learning_rate': hp.loguniform('learning_rate', -3, 0),\n",
    "            'reg_alpha': hp.loguniform('reg_alpha', -5, -1),\n",
    "            'reg_lambda': hp.loguniform('reg_lambda', -6, -1),\n",
    "            'min_child_weight': hp.loguniform('min_child_weight', -1, 3),\n",
    "            'objective': 'binary:logistic',  \n",
    "            'eval_metric': logloss                                               \n",
    "            'seed': 42\n",
    "                }\n",
    "\n",
    "best_result = fmin(\n",
    "                fn= objective,\n",
    "                space=search_space,\n",
    "                algo=tpe.suggest,\n",
    "                max_evals=50,\n",
    "                trials=Trials()\n",
    "                )"
   ]
  },
  {
   "cell_type": "code",
   "execution_count": null,
   "metadata": {},
   "outputs": [],
   "source": [
    "from mlflow.tracking import MlflowClient\n",
    "from mlflow.entities import ViewType"
   ]
  },
  {
   "cell_type": "code",
   "execution_count": null,
   "metadata": {},
   "outputs": [],
   "source": [
    "MLFLOW_TRACKING_URI = \"sqlite:///mlflow.db\"\n",
    "client = MlflowClient(tracking_uri=MLFLOW_TRACKING_URI)\n",
    "\n",
    "runs = client.search_runs(\n",
    "    experiment_ids='1',\n",
    "    filter_string=\"metrics.test_f1_score >0.595\",\n",
    "    run_view_type=ViewType.ACTIVE_ONLY,\n",
    "    max_results=5,\n",
    "    order_by=[\"metrics.test_f1_score ASC\"]\n",
    ")"
   ]
  },
  {
   "cell_type": "code",
   "execution_count": null,
   "metadata": {},
   "outputs": [],
   "source": [
    "for run in runs:\n",
    "    print(f\"run id: {run.info.run_id}, F1 Score: {run.data.metrics['test_f1_score']:.4f}\")"
   ]
  },
  {
   "cell_type": "code",
   "execution_count": null,
   "metadata": {},
   "outputs": [],
   "source": [
    "run_id = \"9f00a33d4d4d43c1969d03d106fbf4d7\"\n",
    "\n",
    "for run in runs:\n",
    "    run_id = run.info.run_id\n",
    "    model_uri = f\"runs:/{run_id}/model\"\n",
    "    mlflow.register_model(model_uri=model_uri, name=\"Custormer-churn-models\")"
   ]
  },
  {
   "cell_type": "code",
   "execution_count": null,
   "metadata": {},
   "outputs": [],
   "source": [
    "model_name = \"Custormer-churn-models\"\n",
    "latest_versions = client.get_latest_versions(name=model_name)\n",
    "for version in latest_versions:\n",
    "    print(f\"version: {version.version}, stage: {version.current_stage}\")"
   ]
  },
  {
   "cell_type": "code",
   "execution_count": null,
   "metadata": {},
   "outputs": [],
   "source": [
    "model_version = 2\n",
    "new_stage = \"Staging\"\n",
    "client.transition_model_version_stage(\n",
    "    name=model_name,\n",
    "    version=model_version,\n",
    "    stage=new_stage,\n",
    "    archive_existing_versions=False\n",
    ")"
   ]
  },
  {
   "cell_type": "code",
   "execution_count": null,
   "metadata": {},
   "outputs": [],
   "source": [
    "from datetime import datetime\n",
    "\n",
    "date = datetime.today().date() \n",
    "\n",
    "client.update_model_version(\n",
    "    name=model_name,\n",
    "    version=model_version,\n",
    "    description=f\"The model version {model_version} was transitioned to {new_stage} on {date}\"\n",
    ")"
   ]
  },
  {
   "cell_type": "code",
   "execution_count": null,
   "metadata": {},
   "outputs": [],
   "source": []
  },
  {
   "cell_type": "code",
   "execution_count": null,
   "metadata": {},
   "outputs": [],
   "source": [
    "xgboost_dev()"
   ]
  },
  {
   "cell_type": "code",
   "execution_count": null,
   "metadata": {},
   "outputs": [],
   "source": []
  }
 ],
 "metadata": {
  "kernelspec": {
   "display_name": "base",
   "language": "python",
   "name": "python3"
  },
  "language_info": {
   "codemirror_mode": {
    "name": "ipython",
    "version": 3
   },
   "file_extension": ".py",
   "mimetype": "text/x-python",
   "name": "python",
   "nbconvert_exporter": "python",
   "pygments_lexer": "ipython3",
   "version": "3.10.10"
  },
  "orig_nbformat": 4
 },
 "nbformat": 4,
 "nbformat_minor": 2
}
