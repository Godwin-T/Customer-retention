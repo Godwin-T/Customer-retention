{
 "cells": [
  {
   "cell_type": "code",
   "execution_count": 2,
   "metadata": {},
   "outputs": [],
   "source": [
    "import pymongo"
   ]
  },
  {
   "cell_type": "code",
   "execution_count": 7,
   "metadata": {},
   "outputs": [],
   "source": [
    "client = pymongo.MongoClient(\"mongodb://127.0.0.1:27018\")\n",
    "db = client.get_database('prediction_service')\n",
    "collection = db.get_collection(\"data\")"
   ]
  },
  {
   "cell_type": "code",
   "execution_count": 8,
   "metadata": {},
   "outputs": [],
   "source": [
    "data = list(collection.find())"
   ]
  },
  {
   "cell_type": "code",
   "execution_count": 9,
   "metadata": {},
   "outputs": [
    {
     "data": {
      "text/plain": [
       "{'_id': ObjectId('64e6ed854d19e18422139e7f'),\n",
       " 'gender': 'Female',\n",
       " 'partner': 'Yes',\n",
       " 'dependents': 'No',\n",
       " 'tenure': 1,\n",
       " 'phoneservice': 'No',\n",
       " 'multiplelines': 'No phone service',\n",
       " 'internetservice': 'DSL',\n",
       " 'onlinesecurity': 'No',\n",
       " 'onlinebackup': 'Yes',\n",
       " 'deviceprotection': 'No',\n",
       " 'techsupport': 'No',\n",
       " 'streamingtv': 'No',\n",
       " 'streamingmovies': 'No',\n",
       " 'contract': 'Month-to-month',\n",
       " 'paperlessbilling': 'Yes',\n",
       " 'paymentmethod': 'Electronic check',\n",
       " 'monthlycharges': 29.85,\n",
       " 'totalcharges': 29.85,\n",
       " 'prediction': False}"
      ]
     },
     "execution_count": 9,
     "metadata": {},
     "output_type": "execute_result"
    }
   ],
   "source": [
    "data[0]"
   ]
  },
  {
   "cell_type": "code",
   "execution_count": 10,
   "metadata": {},
   "outputs": [
    {
     "data": {
      "text/plain": [
       "67"
      ]
     },
     "execution_count": 10,
     "metadata": {},
     "output_type": "execute_result"
    }
   ],
   "source": [
    "len(data)"
   ]
  },
  {
   "cell_type": "code",
   "execution_count": null,
   "metadata": {},
   "outputs": [],
   "source": []
  }
 ],
 "metadata": {
  "kernelspec": {
   "display_name": "base",
   "language": "python",
   "name": "python3"
  },
  "language_info": {
   "codemirror_mode": {
    "name": "ipython",
    "version": 3
   },
   "file_extension": ".py",
   "mimetype": "text/x-python",
   "name": "python",
   "nbconvert_exporter": "python",
   "pygments_lexer": "ipython3",
   "version": "3.10.10"
  },
  "orig_nbformat": 4
 },
 "nbformat": 4,
 "nbformat_minor": 2
}
