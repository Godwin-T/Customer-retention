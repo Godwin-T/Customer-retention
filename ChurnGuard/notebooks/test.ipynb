{
 "cells": [
  {
   "cell_type": "code",
   "execution_count": 2,
   "metadata": {},
   "outputs": [],
   "source": [
    "import pandas as pd"
   ]
  },
  {
   "cell_type": "code",
   "execution_count": null,
   "metadata": {},
   "outputs": [],
   "source": [
    "data_path = '/home/godwin/Documents/Workflow/Churn-Prediction-in-a-Telecom-Company/data/Telco-Customer-Churn.csv'\n",
    "data = pd.read_csv(data_path)"
   ]
  },
  {
   "cell_type": "code",
   "execution_count": 2,
   "metadata": {},
   "outputs": [
    {
     "name": "stdout",
     "output_type": "stream",
     "text": [
      "True\n"
     ]
    }
   ],
   "source": [
    "import os\n",
    "path = '/home/godwin/Documents/Workflow/Churn-Prediction-in-a-Telecom-Company/mlruns/1/62d11921be9a43ca8fe1fdae4478eb24/artifacts/model/.'\n",
    "\n",
    "if os.path.exists(path):\n",
    "    print(True)"
   ]
  },
  {
   "cell_type": "code",
   "execution_count": null,
   "metadata": {},
   "outputs": [],
   "source": [
    "from datetime import datetime\n",
    "\n",
    "# Get the current date and time\n",
    "now = datetime.now()\n",
    "\n",
    "# Format the date in dd/month/year format\n",
    "formatted_date = now.strftime(\"%d/%B/%Y\")\n"
   ]
  },
  {
   "cell_type": "code",
   "execution_count": 7,
   "metadata": {},
   "outputs": [],
   "source": [
    "import urllib\n",
    "\n",
    "model_name = \"Custormer-churn-models\"\n",
    "model_stage=\"Production\"\n",
    "# loaded_model = mlflow.pyfunc.load_model(f\"models:/{model_name}/{model_stage}\")\n",
    "path = f\"models:/{model_name}/{model_stage}\"\n",
    "\n",
    "def split_models_uri(uri):\n",
    "        \"\"\"\n",
    "        Split 'models:/<name>/<version>/path/to/model' into\n",
    "        ('models:/<name>/<version>', 'path/to/model').\n",
    "        \"\"\"\n",
    "        path = urllib.parse.urlparse(uri).path\n",
    "        if path.count(\"/\") >= 3 and not path.endswith(\"/\"):\n",
    "            splits = path.split(\"/\", 3)\n",
    "            model_name_and_version = splits[:3]\n",
    "            artifact_path = splits[-1]\n",
    "            return \"models:\" + \"/\".join(model_name_and_version), artifact_path\n",
    "        return uri, \"\""
   ]
  },
  {
   "cell_type": "code",
   "execution_count": 8,
   "metadata": {},
   "outputs": [
    {
     "data": {
      "text/plain": [
       "('models:/Custormer-churn-models/Production', '')"
      ]
     },
     "execution_count": 8,
     "metadata": {},
     "output_type": "execute_result"
    }
   ],
   "source": [
    "split_models_uri(path)"
   ]
  },
  {
   "cell_type": "code",
   "execution_count": 9,
   "metadata": {},
   "outputs": [
    {
     "data": {
      "text/plain": [
       "'file:///home/godwin/Documents/Workflow/Churn-Prediction-in-a-Telecom-Company/web-service/mlruns'"
      ]
     },
     "execution_count": 9,
     "metadata": {},
     "output_type": "execute_result"
    }
   ],
   "source": [
    "import mlflow\n",
    "\n",
    "mlflow.get_registry_uri()\n",
    "\n",
    "sqlite:////app/mlflow.db"
   ]
  },
  {
   "cell_type": "code",
   "execution_count": 11,
   "metadata": {},
   "outputs": [
    {
     "data": {
      "text/plain": [
       "['Custormer-churn-models', 'Production']"
      ]
     },
     "execution_count": 11,
     "metadata": {},
     "output_type": "execute_result"
    }
   ],
   "source": [
    "parsed = urllib.parse.urlparse(path, allow_fragments=False)\n",
    "path = parsed.path\n",
    "parts = path.lstrip(\"/\").split(\"/\")\n",
    "parts"
   ]
  },
  {
   "cell_type": "code",
   "execution_count": 12,
   "metadata": {},
   "outputs": [
    {
     "ename": "MlflowException",
     "evalue": "Model version must be an integer, got 'Production'",
     "output_type": "error",
     "traceback": [
      "\u001b[0;31m---------------------------------------------------------------------------\u001b[0m",
      "\u001b[0;31mValueError\u001b[0m                                Traceback (most recent call last)",
      "File \u001b[0;32m~/miniconda3/lib/python3.10/site-packages/mlflow/utils/validation.py:374\u001b[0m, in \u001b[0;36m_validate_model_version\u001b[0;34m(model_version)\u001b[0m\n\u001b[1;32m    373\u001b[0m \u001b[39mtry\u001b[39;00m:\n\u001b[0;32m--> 374\u001b[0m     model_version \u001b[39m=\u001b[39m \u001b[39mint\u001b[39;49m(model_version)\n\u001b[1;32m    375\u001b[0m \u001b[39mexcept\u001b[39;00m \u001b[39mValueError\u001b[39;00m:\n",
      "\u001b[0;31mValueError\u001b[0m: invalid literal for int() with base 10: 'Production'",
      "\nDuring handling of the above exception, another exception occurred:\n",
      "\u001b[0;31mMlflowException\u001b[0m                           Traceback (most recent call last)",
      "Cell \u001b[0;32mIn[12], line 5\u001b[0m\n\u001b[1;32m      3\u001b[0m client \u001b[39m=\u001b[39m MlflowClient(registry_uri\u001b[39m=\u001b[39mmlflow\u001b[39m.\u001b[39mget_registry_uri())\n\u001b[1;32m      4\u001b[0m (name, version) \u001b[39m=\u001b[39m (model_name, model_stage)\n\u001b[0;32m----> 5\u001b[0m download_uri \u001b[39m=\u001b[39m client\u001b[39m.\u001b[39;49mget_model_version_download_uri(name, version)\n",
      "File \u001b[0;32m~/miniconda3/lib/python3.10/site-packages/mlflow/tracking/client.py:3006\u001b[0m, in \u001b[0;36mMlflowClient.get_model_version_download_uri\u001b[0;34m(self, name, version)\u001b[0m\n\u001b[1;32m   2962\u001b[0m \u001b[39mdef\u001b[39;00m \u001b[39mget_model_version_download_uri\u001b[39m(\u001b[39mself\u001b[39m, name: \u001b[39mstr\u001b[39m, version: \u001b[39mstr\u001b[39m) \u001b[39m-\u001b[39m\u001b[39m>\u001b[39m \u001b[39mstr\u001b[39m:\n\u001b[1;32m   2963\u001b[0m \u001b[39m    \u001b[39m\u001b[39m\"\"\"\u001b[39;00m\n\u001b[1;32m   2964\u001b[0m \u001b[39m    Get the download location in Model Registry for this model version.\u001b[39;00m\n\u001b[1;32m   2965\u001b[0m \n\u001b[0;32m   (...)\u001b[0m\n\u001b[1;32m   3004\u001b[0m \u001b[39m        Download URI: runs:/027d7bbe81924c5a82b3e4ce979fcab7/sklearn-model\u001b[39;00m\n\u001b[1;32m   3005\u001b[0m \u001b[39m    \"\"\"\u001b[39;00m\n\u001b[0;32m-> 3006\u001b[0m     \u001b[39mreturn\u001b[39;00m \u001b[39mself\u001b[39;49m\u001b[39m.\u001b[39;49m_get_registry_client()\u001b[39m.\u001b[39;49mget_model_version_download_uri(name, version)\n",
      "File \u001b[0;32m~/miniconda3/lib/python3.10/site-packages/mlflow/tracking/_model_registry/client.py:290\u001b[0m, in \u001b[0;36mModelRegistryClient.get_model_version_download_uri\u001b[0;34m(self, name, version)\u001b[0m\n\u001b[1;32m    282\u001b[0m \u001b[39mdef\u001b[39;00m \u001b[39mget_model_version_download_uri\u001b[39m(\u001b[39mself\u001b[39m, name, version):\n\u001b[1;32m    283\u001b[0m \u001b[39m    \u001b[39m\u001b[39m\"\"\"\u001b[39;00m\n\u001b[1;32m    284\u001b[0m \u001b[39m    Get the download location in Model Registry for this model version.\u001b[39;00m\n\u001b[1;32m    285\u001b[0m \n\u001b[0;32m   (...)\u001b[0m\n\u001b[1;32m    288\u001b[0m \u001b[39m    :return: A single URI location that allows reads for downloading.\u001b[39;00m\n\u001b[1;32m    289\u001b[0m \u001b[39m    \"\"\"\u001b[39;00m\n\u001b[0;32m--> 290\u001b[0m     \u001b[39mreturn\u001b[39;00m \u001b[39mself\u001b[39;49m\u001b[39m.\u001b[39;49mstore\u001b[39m.\u001b[39;49mget_model_version_download_uri(name, version)\n",
      "File \u001b[0;32m~/miniconda3/lib/python3.10/site-packages/mlflow/store/model_registry/file_store.py:715\u001b[0m, in \u001b[0;36mFileStore.get_model_version_download_uri\u001b[0;34m(self, name, version)\u001b[0m\n\u001b[1;32m    705\u001b[0m \u001b[39mdef\u001b[39;00m \u001b[39mget_model_version_download_uri\u001b[39m(\u001b[39mself\u001b[39m, name, version):\n\u001b[1;32m    706\u001b[0m \u001b[39m    \u001b[39m\u001b[39m\"\"\"\u001b[39;00m\n\u001b[1;32m    707\u001b[0m \u001b[39m    Get the download location in Model Registry for this model version.\u001b[39;00m\n\u001b[1;32m    708\u001b[0m \u001b[39m    NOTE: For first version of Model Registry, since the models are not copied over to another\u001b[39;00m\n\u001b[0;32m   (...)\u001b[0m\n\u001b[1;32m    713\u001b[0m \u001b[39m    :return: A single URI location that allows reads for downloading.\u001b[39;00m\n\u001b[1;32m    714\u001b[0m \u001b[39m    \"\"\"\u001b[39;00m\n\u001b[0;32m--> 715\u001b[0m     model_version \u001b[39m=\u001b[39m \u001b[39mself\u001b[39;49m\u001b[39m.\u001b[39;49mget_model_version(name, version)\n\u001b[1;32m    716\u001b[0m     \u001b[39mreturn\u001b[39;00m model_version\u001b[39m.\u001b[39msource\n",
      "File \u001b[0;32m~/miniconda3/lib/python3.10/site-packages/mlflow/store/model_registry/file_store.py:702\u001b[0m, in \u001b[0;36mFileStore.get_model_version\u001b[0;34m(self, name, version)\u001b[0m\n\u001b[1;32m    694\u001b[0m \u001b[39m\u001b[39m\u001b[39m\"\"\"\u001b[39;00m\n\u001b[1;32m    695\u001b[0m \u001b[39mGet the model version instance by name and version.\u001b[39;00m\n\u001b[1;32m    696\u001b[0m \n\u001b[0;32m   (...)\u001b[0m\n\u001b[1;32m    699\u001b[0m \u001b[39m:return: A single :py:class:`mlflow.entities.model_registry.ModelVersion` object.\u001b[39;00m\n\u001b[1;32m    700\u001b[0m \u001b[39m\"\"\"\u001b[39;00m\n\u001b[1;32m    701\u001b[0m _validate_model_name(name)\n\u001b[0;32m--> 702\u001b[0m _validate_model_version(version)\n\u001b[1;32m    703\u001b[0m \u001b[39mreturn\u001b[39;00m \u001b[39mself\u001b[39m\u001b[39m.\u001b[39m_fetch_model_version_if_exists(name, version)\n",
      "File \u001b[0;32m~/miniconda3/lib/python3.10/site-packages/mlflow/utils/validation.py:376\u001b[0m, in \u001b[0;36m_validate_model_version\u001b[0;34m(model_version)\u001b[0m\n\u001b[1;32m    374\u001b[0m     model_version \u001b[39m=\u001b[39m \u001b[39mint\u001b[39m(model_version)\n\u001b[1;32m    375\u001b[0m \u001b[39mexcept\u001b[39;00m \u001b[39mValueError\u001b[39;00m:\n\u001b[0;32m--> 376\u001b[0m     \u001b[39mraise\u001b[39;00m MlflowException(\n\u001b[1;32m    377\u001b[0m         \u001b[39mf\u001b[39m\u001b[39m\"\u001b[39m\u001b[39mModel version must be an integer, got \u001b[39m\u001b[39m'\u001b[39m\u001b[39m{\u001b[39;00mmodel_version\u001b[39m}\u001b[39;00m\u001b[39m'\u001b[39m\u001b[39m\"\u001b[39m,\n\u001b[1;32m    378\u001b[0m         error_code\u001b[39m=\u001b[39mINVALID_PARAMETER_VALUE,\n\u001b[1;32m    379\u001b[0m     )\n",
      "\u001b[0;31mMlflowException\u001b[0m: Model version must be an integer, got 'Production'"
     ]
    }
   ],
   "source": [
    "from mlflow import MlflowClient\n",
    "\n",
    "client = MlflowClient(registry_uri=mlflow.get_registry_uri())\n",
    "(name, version) = (model_name, model_stage)\n",
    "download_uri = client.get_model_version_download_uri(name, version)"
   ]
  },
  {
   "cell_type": "code",
   "execution_count": 13,
   "metadata": {},
   "outputs": [],
   "source": [
    "client = pymongo.MongoClient(\"mongodb://127.0.0.1:27018\")\n",
    "db = client.get_database('prediction_service')\n",
    "collection = db.get_collection(\"data\")"
   ]
  },
  {
   "cell_type": "code",
   "execution_count": null,
   "metadata": {},
   "outputs": [],
   "source": []
  },
  {
   "cell_type": "code",
   "execution_count": 3,
   "metadata": {},
   "outputs": [],
   "source": [
    "import time\n",
    "import pandas as pd\n",
    "from pymongo import MongoClient\n",
    "\n",
    "# # Connect to MongoDB\n",
    "# client = MongoClient('localhost', 27017)\n",
    "# dbname = 'CustomerAnalytics'\n",
    "# dbcollection = 'CustomerProfiles'\n",
    "\n",
    "# def load_data_todb(path, dbname, dbcollection):\n",
    "\n",
    "    \n",
    "#     db = client[dbname]\n",
    "#     collection = db[dbcollection]\n",
    "\n",
    "#     # Load CSV file into DataFrame\n",
    "#     df = pd.read_csv(path)\n",
    "#     df['log_time'] = time.time()\n",
    "\n",
    "#     # Convert DataFrame to dictionary\n",
    "#     data = df.to_dict(orient='records')\n",
    "\n",
    "#     # Insert data into MongoDB collection\n",
    "#     collection.insert_many(data)\n",
    "\n",
    "#     print(\"Data imported successfully!\")\n",
    "    \n"
   ]
  },
  {
   "cell_type": "code",
   "execution_count": 4,
   "metadata": {},
   "outputs": [],
   "source": [
    "data_path = '../../data/churn-data/data/raw_data/Telco-Customer-Churn.csv'\n",
    "# load_data_todb(data_path, dbname, dbcollection)"
   ]
  },
  {
   "cell_type": "code",
   "execution_count": 8,
   "metadata": {},
   "outputs": [],
   "source": [
    "client = MongoClient('localhost', 27017)\n",
    "dbname = client['CustomerAnalytics']\n",
    "dbcollection = dbname['CustomerProfiles']\n",
    "\n",
    "data = [p for p in dbcollection.find()]"
   ]
  },
  {
   "cell_type": "code",
   "execution_count": 25,
   "metadata": {},
   "outputs": [],
   "source": [
    "import time\n",
    "import sqlite3\n",
    "\n",
    "conn = sqlite3.connect(\"CustomerAnalytics.db\")\n",
    "cursor = conn.cursor()\n",
    "\n",
    "\n",
    "tablename = \"CustomerProfile\"\n",
    "def create_df_table(dbname, tablename, dfpath):\n",
    "\n",
    "    conn = sqlite3.connect(dbname)\n",
    "\n",
    "    df = pd.read_csv(dfpath)\n",
    "    df['log_time'] = time.time()\n",
    "    \n",
    "    df.to_sql(tablename, conn, if_exists='fail', index=False)\n",
    "    conn.close()\n",
    "\n",
    "def insert_df(dbname, dfpath, tablename):\n",
    "\n",
    "    conn = sqlite3.connect(dbname)\n",
    "    df = pd.read_csv(dfpath)\n",
    "    df['log_time'] = time.time()\n",
    "\n",
    "    df.to_sql(tablename, conn, if_exists='append', index=False)\n",
    "    conn.close()\n",
    "\n",
    "def insert_record(dbname, tablename, record: tuple):\n",
    "\n",
    "    conn = sqlite3.connect(dbname)\n",
    "    cursor = conn.cursor()\n",
    "    cursor.execute(f\"INSERT INTO {tablename} {(record)}\")\n",
    "\n",
    "    conn.commit()\n",
    "    conn.close()\n",
    "\n",
    "def load_data(dbname, tablename, filter_str = None):\n",
    "\n",
    "    conn = sqlite3.connect(dbname)\n",
    "    query = f\"SELECT * FROM {tablename}\"\n",
    "\n",
    "    # Load data into a DataFrame\n",
    "    df = pd.read_sql(query, conn)\n",
    "\n",
    "    return df\n"
   ]
  },
  {
   "cell_type": "code",
   "execution_count": 27,
   "metadata": {},
   "outputs": [],
   "source": [
    "create_df_table(\"CustomerAnalytics.db\", tablename, data_path)"
   ]
  },
  {
   "cell_type": "code",
   "execution_count": null,
   "metadata": {},
   "outputs": [],
   "source": []
  },
  {
   "cell_type": "code",
   "execution_count": 31,
   "metadata": {},
   "outputs": [],
   "source": []
  },
  {
   "cell_type": "code",
   "execution_count": 32,
   "metadata": {},
   "outputs": [
    {
     "data": {
      "text/html": [
       "<div>\n",
       "<style scoped>\n",
       "    .dataframe tbody tr th:only-of-type {\n",
       "        vertical-align: middle;\n",
       "    }\n",
       "\n",
       "    .dataframe tbody tr th {\n",
       "        vertical-align: top;\n",
       "    }\n",
       "\n",
       "    .dataframe thead th {\n",
       "        text-align: right;\n",
       "    }\n",
       "</style>\n",
       "<table border=\"1\" class=\"dataframe\">\n",
       "  <thead>\n",
       "    <tr style=\"text-align: right;\">\n",
       "      <th></th>\n",
       "      <th>customerID</th>\n",
       "      <th>gender</th>\n",
       "      <th>SeniorCitizen</th>\n",
       "      <th>Partner</th>\n",
       "      <th>Dependents</th>\n",
       "      <th>tenure</th>\n",
       "      <th>PhoneService</th>\n",
       "      <th>MultipleLines</th>\n",
       "      <th>InternetService</th>\n",
       "      <th>OnlineSecurity</th>\n",
       "      <th>...</th>\n",
       "      <th>TechSupport</th>\n",
       "      <th>StreamingTV</th>\n",
       "      <th>StreamingMovies</th>\n",
       "      <th>Contract</th>\n",
       "      <th>PaperlessBilling</th>\n",
       "      <th>PaymentMethod</th>\n",
       "      <th>MonthlyCharges</th>\n",
       "      <th>TotalCharges</th>\n",
       "      <th>Churn</th>\n",
       "      <th>log_time</th>\n",
       "    </tr>\n",
       "  </thead>\n",
       "  <tbody>\n",
       "    <tr>\n",
       "      <th>0</th>\n",
       "      <td>7590-VHVEG</td>\n",
       "      <td>Female</td>\n",
       "      <td>0</td>\n",
       "      <td>Yes</td>\n",
       "      <td>No</td>\n",
       "      <td>1</td>\n",
       "      <td>No</td>\n",
       "      <td>No phone service</td>\n",
       "      <td>DSL</td>\n",
       "      <td>No</td>\n",
       "      <td>...</td>\n",
       "      <td>No</td>\n",
       "      <td>No</td>\n",
       "      <td>No</td>\n",
       "      <td>Month-to-month</td>\n",
       "      <td>Yes</td>\n",
       "      <td>Electronic check</td>\n",
       "      <td>29.85</td>\n",
       "      <td>29.85</td>\n",
       "      <td>No</td>\n",
       "      <td>1.719531e+09</td>\n",
       "    </tr>\n",
       "    <tr>\n",
       "      <th>1</th>\n",
       "      <td>5575-GNVDE</td>\n",
       "      <td>Male</td>\n",
       "      <td>0</td>\n",
       "      <td>No</td>\n",
       "      <td>No</td>\n",
       "      <td>34</td>\n",
       "      <td>Yes</td>\n",
       "      <td>No</td>\n",
       "      <td>DSL</td>\n",
       "      <td>Yes</td>\n",
       "      <td>...</td>\n",
       "      <td>No</td>\n",
       "      <td>No</td>\n",
       "      <td>No</td>\n",
       "      <td>One year</td>\n",
       "      <td>No</td>\n",
       "      <td>Mailed check</td>\n",
       "      <td>56.95</td>\n",
       "      <td>1889.5</td>\n",
       "      <td>No</td>\n",
       "      <td>1.719531e+09</td>\n",
       "    </tr>\n",
       "    <tr>\n",
       "      <th>2</th>\n",
       "      <td>3668-QPYBK</td>\n",
       "      <td>Male</td>\n",
       "      <td>0</td>\n",
       "      <td>No</td>\n",
       "      <td>No</td>\n",
       "      <td>2</td>\n",
       "      <td>Yes</td>\n",
       "      <td>No</td>\n",
       "      <td>DSL</td>\n",
       "      <td>Yes</td>\n",
       "      <td>...</td>\n",
       "      <td>No</td>\n",
       "      <td>No</td>\n",
       "      <td>No</td>\n",
       "      <td>Month-to-month</td>\n",
       "      <td>Yes</td>\n",
       "      <td>Mailed check</td>\n",
       "      <td>53.85</td>\n",
       "      <td>108.15</td>\n",
       "      <td>Yes</td>\n",
       "      <td>1.719531e+09</td>\n",
       "    </tr>\n",
       "    <tr>\n",
       "      <th>3</th>\n",
       "      <td>7795-CFOCW</td>\n",
       "      <td>Male</td>\n",
       "      <td>0</td>\n",
       "      <td>No</td>\n",
       "      <td>No</td>\n",
       "      <td>45</td>\n",
       "      <td>No</td>\n",
       "      <td>No phone service</td>\n",
       "      <td>DSL</td>\n",
       "      <td>Yes</td>\n",
       "      <td>...</td>\n",
       "      <td>Yes</td>\n",
       "      <td>No</td>\n",
       "      <td>No</td>\n",
       "      <td>One year</td>\n",
       "      <td>No</td>\n",
       "      <td>Bank transfer (automatic)</td>\n",
       "      <td>42.30</td>\n",
       "      <td>1840.75</td>\n",
       "      <td>No</td>\n",
       "      <td>1.719531e+09</td>\n",
       "    </tr>\n",
       "    <tr>\n",
       "      <th>4</th>\n",
       "      <td>9237-HQITU</td>\n",
       "      <td>Female</td>\n",
       "      <td>0</td>\n",
       "      <td>No</td>\n",
       "      <td>No</td>\n",
       "      <td>2</td>\n",
       "      <td>Yes</td>\n",
       "      <td>No</td>\n",
       "      <td>Fiber optic</td>\n",
       "      <td>No</td>\n",
       "      <td>...</td>\n",
       "      <td>No</td>\n",
       "      <td>No</td>\n",
       "      <td>No</td>\n",
       "      <td>Month-to-month</td>\n",
       "      <td>Yes</td>\n",
       "      <td>Electronic check</td>\n",
       "      <td>70.70</td>\n",
       "      <td>151.65</td>\n",
       "      <td>Yes</td>\n",
       "      <td>1.719531e+09</td>\n",
       "    </tr>\n",
       "  </tbody>\n",
       "</table>\n",
       "<p>5 rows × 22 columns</p>\n",
       "</div>"
      ],
      "text/plain": [
       "   customerID  gender  SeniorCitizen Partner Dependents  tenure PhoneService  \\\n",
       "0  7590-VHVEG  Female              0     Yes         No       1           No   \n",
       "1  5575-GNVDE    Male              0      No         No      34          Yes   \n",
       "2  3668-QPYBK    Male              0      No         No       2          Yes   \n",
       "3  7795-CFOCW    Male              0      No         No      45           No   \n",
       "4  9237-HQITU  Female              0      No         No       2          Yes   \n",
       "\n",
       "      MultipleLines InternetService OnlineSecurity  ... TechSupport  \\\n",
       "0  No phone service             DSL             No  ...          No   \n",
       "1                No             DSL            Yes  ...          No   \n",
       "2                No             DSL            Yes  ...          No   \n",
       "3  No phone service             DSL            Yes  ...         Yes   \n",
       "4                No     Fiber optic             No  ...          No   \n",
       "\n",
       "  StreamingTV StreamingMovies        Contract PaperlessBilling  \\\n",
       "0          No              No  Month-to-month              Yes   \n",
       "1          No              No        One year               No   \n",
       "2          No              No  Month-to-month              Yes   \n",
       "3          No              No        One year               No   \n",
       "4          No              No  Month-to-month              Yes   \n",
       "\n",
       "               PaymentMethod MonthlyCharges TotalCharges  Churn      log_time  \n",
       "0           Electronic check          29.85        29.85     No  1.719531e+09  \n",
       "1               Mailed check          56.95       1889.5     No  1.719531e+09  \n",
       "2               Mailed check          53.85       108.15    Yes  1.719531e+09  \n",
       "3  Bank transfer (automatic)          42.30      1840.75     No  1.719531e+09  \n",
       "4           Electronic check          70.70       151.65    Yes  1.719531e+09  \n",
       "\n",
       "[5 rows x 22 columns]"
      ]
     },
     "execution_count": 32,
     "metadata": {},
     "output_type": "execute_result"
    }
   ],
   "source": [
    "df.head()"
   ]
  },
  {
   "cell_type": "code",
   "execution_count": null,
   "metadata": {},
   "outputs": [],
   "source": []
  },
  {
   "cell_type": "code",
   "execution_count": null,
   "metadata": {},
   "outputs": [],
   "source": []
  },
  {
   "cell_type": "code",
   "execution_count": 18,
   "metadata": {},
   "outputs": [],
   "source": [
    "def create_database_table(datapath, dbname, tablename):\n",
    "\n",
    "    conn = sqlite3.connect(dbname)\n",
    "    cursor = conn.cursor()\n",
    "\n",
    "    df = pd.read_csv(datapath)\n",
    "    df['log_time'] = time.time()\n",
    "\n",
    "\n",
    "    column_dict = {}\n",
    "\n",
    "    categorical_col = df.dtypes[df.dtypes == \"object\"].index.tolist()\n",
    "    categorical_col = {col:\"text\"  for col in categorical_col}\n",
    "    column_dict.update(categorical_col)\n",
    "\n",
    "    int_col = df.dtypes[df.dtypes == \"int64\"].index.tolist()\n",
    "    int_col = {col: \"int\" for col in int_col}\n",
    "    column_dict.update(int_col)\n",
    "\n",
    "    float_col = df.dtypes[df.dtypes == \"float64\"].index.tolist()\n",
    "    float_col = {col: \"real\" for col in float_col}\n",
    "    column_dict.update(float_col)\n",
    "\n",
    "    columns_str = \", \".join([f\"{col_name} {data_type}\" for col_name, data_type in column_dict.items()])\n",
    "\n",
    "    cursor.execute(f\"CREATE TABLE {tablename} ({columns_str})\")\n",
    "\n",
    "    conn.commit()\n",
    "    conn.close()\n",
    "\n",
    "\n",
    "def update_data(tablename, df):\n",
    "\n",
    "    conn = sqlite3.connect(dbname)\n",
    "    cursor = conn.cursor()\n",
    "\n",
    "    data = df.to_dict(orient='records')\n",
    "    cursor.execute()\n",
    "\n"
   ]
  },
  {
   "cell_type": "code",
   "execution_count": null,
   "metadata": {},
   "outputs": [],
   "source": []
  },
  {
   "cell_type": "markdown",
   "metadata": {},
   "source": [
    "## MLFLOW"
   ]
  },
  {
   "cell_type": "code",
   "execution_count": null,
   "metadata": {},
   "outputs": [],
   "source": [
    "import pandas as pd\n",
    "from prefect import task, flow\n",
    "from sklearn.model_selection import train_test_split\n",
    "from model import train_LR, train_DT, train_RF, train_XGB\n",
    "from utils import PROCESSED_DATASET\n",
    "\n",
    "\n",
    "# Load Data\n",
    "@task\n",
    "def load_data(path):\n",
    "\n",
    "    data = pd.read_csv(path)\n",
    "    y = data[\"churn\"]\n",
    "    X = data.drop([\"churn\"], axis=1)\n",
    "    return (X, y)\n",
    "\n",
    "\n",
    "@task\n",
    "def split_data(data):\n",
    "\n",
    "    X, y = data\n",
    "    X = X.to_dict(orient=\"record\")\n",
    "    (train_x, test_x, train_y, test_y) = train_test_split(\n",
    "        X, y, test_size=0.3, random_state=1993\n",
    "    )\n",
    "    return (train_x, test_x, train_y, test_y)\n",
    "\n",
    "\n",
    "@flow(name=\"Training and Model Evaluation\")\n",
    "def main():\n",
    "    # Load the processed dataset and split into train and test sets\n",
    "    data = load_data(PROCESSED_DATASET)\n",
    "    data = split_data(data)\n",
    "\n",
    "    # Train the model and get the evaluation results on the training set\n",
    "    print(\"Training Linear Regression..\")\n",
    "    lr_best_params = train_LR(data)\n",
    "    print(\"Successfully Trained Linear Regression\")\n",
    "    print()\n",
    "\n",
    "    print(\"Training Decision Tree..\")\n",
    "    dt_best_params = train_DT(data)\n",
    "    print(\"Successfully Trained Decision Tree\")\n",
    "    print()\n",
    "\n",
    "    print(\"Training Random Forest..\")\n",
    "    rf_best_params = train_RF(data)\n",
    "    print(\"Successfully Trained Random Forest\")\n",
    "    print()\n",
    "\n",
    "    print(\"Training Xgboost..\")\n",
    "    xgb_best_params = train_XGB(data)\n",
    "    print(\"Successfully Trained Xgboost\")\n",
    "    print()\n",
    "\n",
    "    print(\"Best Linear Regression Parameters\")\n",
    "    print(lr_best_params)\n",
    "    print()\n",
    "    print(\"=========================================================================\")\n",
    "\n",
    "    print(\"Best Decision Tree Parameters\")\n",
    "    print(dt_best_params)\n",
    "    print()\n",
    "    print(\"=========================================================================\")\n",
    "\n",
    "    print(\"Best Random Forest Parameters\")\n",
    "    print(rf_best_params)\n",
    "    print()\n",
    "    print(\"=========================================================================\")\n",
    "\n",
    "    print(\"Best Xgboost Parameters\")\n",
    "    print(xgb_best_params)\n",
    "    print()\n",
    "    print(\"=========================================================================\")\n",
    "\n",
    "\n",
    "if __name__ == \"__main__\":\n",
    "    main()\n"
   ]
  },
  {
   "cell_type": "code",
   "execution_count": null,
   "metadata": {},
   "outputs": [],
   "source": [
    "import os\n",
    "import requests\n",
    "\n",
    "PARENT_DIR = os.path.dirname(os.getcwd())\n",
    "EVIDENTLY_SERVICE_ADDRESS = os.getenv(\"EVIDENTLY_SERVICE\", \"http://127.0.0.1:5000\")\n",
    "MONGODB_ADDRESS = os.getenv(\"MONGODB_ADDRESS\", \"mongodb://127.0.0.1:27017\")\n",
    "\n",
    "PROCESSED_DATASET = \"../../data/processed_data/churn.csv\"\n",
    "\n",
    "\n",
    "MLFLOW_TRACKING_URI = f\"sqlite:///{PARENT_DIR}/notebooks/mlflow.db\"\n",
    "\n",
    "# MLFLOW_TRACKING_URI = f\"sqlite:///{parent_directory}/model/mlflow.db\"\n",
    "\n",
    "\n",
    "# def save_to_db(record, prediction, collection):\n",
    "#     rec = record.copy()\n",
    "#     rec[\"prediction\"] = prediction\n",
    "#     collection.insert_one(rec)\n",
    "\n",
    "\n",
    "# def send_to_evidently_service(record, prediction):\n",
    "#     rec = record.copy()\n",
    "#     rec[\"prediction\"] = prediction\n",
    "#     requests.post(f\"{EVIDENTLY_SERVICE_ADDRESS}/iterate/churn\", json=[rec])\n"
   ]
  },
  {
   "cell_type": "code",
   "execution_count": 1,
   "metadata": {},
   "outputs": [
    {
     "data": {
      "text/plain": [
       "'/home/databases/CustomerProflie.db'"
      ]
     },
     "execution_count": 1,
     "metadata": {},
     "output_type": "execute_result"
    }
   ],
   "source": [
    "import os\n",
    "\n",
    "os.path.join(\"/home/databases/\", \"CustomerProflie.db\")"
   ]
  },
  {
   "cell_type": "code",
   "execution_count": null,
   "metadata": {},
   "outputs": [],
   "source": []
  }
 ],
 "metadata": {
  "kernelspec": {
   "display_name": "base",
   "language": "python",
   "name": "python3"
  },
  "language_info": {
   "codemirror_mode": {
    "name": "ipython",
    "version": 3
   },
   "file_extension": ".py",
   "mimetype": "text/x-python",
   "name": "python",
   "nbconvert_exporter": "python",
   "pygments_lexer": "ipython3",
   "version": "3.11.4"
  },
  "orig_nbformat": 4
 },
 "nbformat": 4,
 "nbformat_minor": 2
}
