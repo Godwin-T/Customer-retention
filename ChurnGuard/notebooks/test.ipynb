{
 "cells": [
  {
   "cell_type": "code",
   "execution_count": 2,
   "metadata": {},
   "outputs": [],
   "source": [
    "import pandas as pd"
   ]
  },
  {
   "cell_type": "code",
   "execution_count": null,
   "metadata": {},
   "outputs": [],
   "source": [
    "data_path = '/home/godwin/Documents/Workflow/Churn-Prediction-in-a-Telecom-Company/data/Telco-Customer-Churn.csv'\n",
    "data = pd.read_csv(data_path)"
   ]
  },
  {
   "cell_type": "code",
   "execution_count": 2,
   "metadata": {},
   "outputs": [
    {
     "name": "stdout",
     "output_type": "stream",
     "text": [
      "True\n"
     ]
    }
   ],
   "source": [
    "import os\n",
    "path = '/home/godwin/Documents/Workflow/Churn-Prediction-in-a-Telecom-Company/mlruns/1/62d11921be9a43ca8fe1fdae4478eb24/artifacts/model/.'\n",
    "\n",
    "if os.path.exists(path):\n",
    "    print(True)"
   ]
  },
  {
   "cell_type": "code",
   "execution_count": 7,
   "metadata": {},
   "outputs": [],
   "source": [
    "import urllib\n",
    "\n",
    "model_name = \"Custormer-churn-models\"\n",
    "model_stage=\"Production\"\n",
    "# loaded_model = mlflow.pyfunc.load_model(f\"models:/{model_name}/{model_stage}\")\n",
    "path = f\"models:/{model_name}/{model_stage}\"\n",
    "\n",
    "def split_models_uri(uri):\n",
    "        \"\"\"\n",
    "        Split 'models:/<name>/<version>/path/to/model' into\n",
    "        ('models:/<name>/<version>', 'path/to/model').\n",
    "        \"\"\"\n",
    "        path = urllib.parse.urlparse(uri).path\n",
    "        if path.count(\"/\") >= 3 and not path.endswith(\"/\"):\n",
    "            splits = path.split(\"/\", 3)\n",
    "            model_name_and_version = splits[:3]\n",
    "            artifact_path = splits[-1]\n",
    "            return \"models:\" + \"/\".join(model_name_and_version), artifact_path\n",
    "        return uri, \"\""
   ]
  },
  {
   "cell_type": "code",
   "execution_count": 8,
   "metadata": {},
   "outputs": [
    {
     "data": {
      "text/plain": [
       "('models:/Custormer-churn-models/Production', '')"
      ]
     },
     "execution_count": 8,
     "metadata": {},
     "output_type": "execute_result"
    }
   ],
   "source": [
    "split_models_uri(path)"
   ]
  },
  {
   "cell_type": "code",
   "execution_count": 9,
   "metadata": {},
   "outputs": [
    {
     "data": {
      "text/plain": [
       "'file:///home/godwin/Documents/Workflow/Churn-Prediction-in-a-Telecom-Company/web-service/mlruns'"
      ]
     },
     "execution_count": 9,
     "metadata": {},
     "output_type": "execute_result"
    }
   ],
   "source": [
    "import mlflow\n",
    "\n",
    "mlflow.get_registry_uri()\n",
    "\n",
    "sqlite:////app/mlflow.db"
   ]
  },
  {
   "cell_type": "code",
   "execution_count": 11,
   "metadata": {},
   "outputs": [
    {
     "data": {
      "text/plain": [
       "['Custormer-churn-models', 'Production']"
      ]
     },
     "execution_count": 11,
     "metadata": {},
     "output_type": "execute_result"
    }
   ],
   "source": [
    "parsed = urllib.parse.urlparse(path, allow_fragments=False)\n",
    "path = parsed.path\n",
    "parts = path.lstrip(\"/\").split(\"/\")\n",
    "parts"
   ]
  },
  {
   "cell_type": "code",
   "execution_count": 12,
   "metadata": {},
   "outputs": [
    {
     "ename": "MlflowException",
     "evalue": "Model version must be an integer, got 'Production'",
     "output_type": "error",
     "traceback": [
      "\u001b[0;31m---------------------------------------------------------------------------\u001b[0m",
      "\u001b[0;31mValueError\u001b[0m                                Traceback (most recent call last)",
      "File \u001b[0;32m~/miniconda3/lib/python3.10/site-packages/mlflow/utils/validation.py:374\u001b[0m, in \u001b[0;36m_validate_model_version\u001b[0;34m(model_version)\u001b[0m\n\u001b[1;32m    373\u001b[0m \u001b[39mtry\u001b[39;00m:\n\u001b[0;32m--> 374\u001b[0m     model_version \u001b[39m=\u001b[39m \u001b[39mint\u001b[39;49m(model_version)\n\u001b[1;32m    375\u001b[0m \u001b[39mexcept\u001b[39;00m \u001b[39mValueError\u001b[39;00m:\n",
      "\u001b[0;31mValueError\u001b[0m: invalid literal for int() with base 10: 'Production'",
      "\nDuring handling of the above exception, another exception occurred:\n",
      "\u001b[0;31mMlflowException\u001b[0m                           Traceback (most recent call last)",
      "Cell \u001b[0;32mIn[12], line 5\u001b[0m\n\u001b[1;32m      3\u001b[0m client \u001b[39m=\u001b[39m MlflowClient(registry_uri\u001b[39m=\u001b[39mmlflow\u001b[39m.\u001b[39mget_registry_uri())\n\u001b[1;32m      4\u001b[0m (name, version) \u001b[39m=\u001b[39m (model_name, model_stage)\n\u001b[0;32m----> 5\u001b[0m download_uri \u001b[39m=\u001b[39m client\u001b[39m.\u001b[39;49mget_model_version_download_uri(name, version)\n",
      "File \u001b[0;32m~/miniconda3/lib/python3.10/site-packages/mlflow/tracking/client.py:3006\u001b[0m, in \u001b[0;36mMlflowClient.get_model_version_download_uri\u001b[0;34m(self, name, version)\u001b[0m\n\u001b[1;32m   2962\u001b[0m \u001b[39mdef\u001b[39;00m \u001b[39mget_model_version_download_uri\u001b[39m(\u001b[39mself\u001b[39m, name: \u001b[39mstr\u001b[39m, version: \u001b[39mstr\u001b[39m) \u001b[39m-\u001b[39m\u001b[39m>\u001b[39m \u001b[39mstr\u001b[39m:\n\u001b[1;32m   2963\u001b[0m \u001b[39m    \u001b[39m\u001b[39m\"\"\"\u001b[39;00m\n\u001b[1;32m   2964\u001b[0m \u001b[39m    Get the download location in Model Registry for this model version.\u001b[39;00m\n\u001b[1;32m   2965\u001b[0m \n\u001b[0;32m   (...)\u001b[0m\n\u001b[1;32m   3004\u001b[0m \u001b[39m        Download URI: runs:/027d7bbe81924c5a82b3e4ce979fcab7/sklearn-model\u001b[39;00m\n\u001b[1;32m   3005\u001b[0m \u001b[39m    \"\"\"\u001b[39;00m\n\u001b[0;32m-> 3006\u001b[0m     \u001b[39mreturn\u001b[39;00m \u001b[39mself\u001b[39;49m\u001b[39m.\u001b[39;49m_get_registry_client()\u001b[39m.\u001b[39;49mget_model_version_download_uri(name, version)\n",
      "File \u001b[0;32m~/miniconda3/lib/python3.10/site-packages/mlflow/tracking/_model_registry/client.py:290\u001b[0m, in \u001b[0;36mModelRegistryClient.get_model_version_download_uri\u001b[0;34m(self, name, version)\u001b[0m\n\u001b[1;32m    282\u001b[0m \u001b[39mdef\u001b[39;00m \u001b[39mget_model_version_download_uri\u001b[39m(\u001b[39mself\u001b[39m, name, version):\n\u001b[1;32m    283\u001b[0m \u001b[39m    \u001b[39m\u001b[39m\"\"\"\u001b[39;00m\n\u001b[1;32m    284\u001b[0m \u001b[39m    Get the download location in Model Registry for this model version.\u001b[39;00m\n\u001b[1;32m    285\u001b[0m \n\u001b[0;32m   (...)\u001b[0m\n\u001b[1;32m    288\u001b[0m \u001b[39m    :return: A single URI location that allows reads for downloading.\u001b[39;00m\n\u001b[1;32m    289\u001b[0m \u001b[39m    \"\"\"\u001b[39;00m\n\u001b[0;32m--> 290\u001b[0m     \u001b[39mreturn\u001b[39;00m \u001b[39mself\u001b[39;49m\u001b[39m.\u001b[39;49mstore\u001b[39m.\u001b[39;49mget_model_version_download_uri(name, version)\n",
      "File \u001b[0;32m~/miniconda3/lib/python3.10/site-packages/mlflow/store/model_registry/file_store.py:715\u001b[0m, in \u001b[0;36mFileStore.get_model_version_download_uri\u001b[0;34m(self, name, version)\u001b[0m\n\u001b[1;32m    705\u001b[0m \u001b[39mdef\u001b[39;00m \u001b[39mget_model_version_download_uri\u001b[39m(\u001b[39mself\u001b[39m, name, version):\n\u001b[1;32m    706\u001b[0m \u001b[39m    \u001b[39m\u001b[39m\"\"\"\u001b[39;00m\n\u001b[1;32m    707\u001b[0m \u001b[39m    Get the download location in Model Registry for this model version.\u001b[39;00m\n\u001b[1;32m    708\u001b[0m \u001b[39m    NOTE: For first version of Model Registry, since the models are not copied over to another\u001b[39;00m\n\u001b[0;32m   (...)\u001b[0m\n\u001b[1;32m    713\u001b[0m \u001b[39m    :return: A single URI location that allows reads for downloading.\u001b[39;00m\n\u001b[1;32m    714\u001b[0m \u001b[39m    \"\"\"\u001b[39;00m\n\u001b[0;32m--> 715\u001b[0m     model_version \u001b[39m=\u001b[39m \u001b[39mself\u001b[39;49m\u001b[39m.\u001b[39;49mget_model_version(name, version)\n\u001b[1;32m    716\u001b[0m     \u001b[39mreturn\u001b[39;00m model_version\u001b[39m.\u001b[39msource\n",
      "File \u001b[0;32m~/miniconda3/lib/python3.10/site-packages/mlflow/store/model_registry/file_store.py:702\u001b[0m, in \u001b[0;36mFileStore.get_model_version\u001b[0;34m(self, name, version)\u001b[0m\n\u001b[1;32m    694\u001b[0m \u001b[39m\u001b[39m\u001b[39m\"\"\"\u001b[39;00m\n\u001b[1;32m    695\u001b[0m \u001b[39mGet the model version instance by name and version.\u001b[39;00m\n\u001b[1;32m    696\u001b[0m \n\u001b[0;32m   (...)\u001b[0m\n\u001b[1;32m    699\u001b[0m \u001b[39m:return: A single :py:class:`mlflow.entities.model_registry.ModelVersion` object.\u001b[39;00m\n\u001b[1;32m    700\u001b[0m \u001b[39m\"\"\"\u001b[39;00m\n\u001b[1;32m    701\u001b[0m _validate_model_name(name)\n\u001b[0;32m--> 702\u001b[0m _validate_model_version(version)\n\u001b[1;32m    703\u001b[0m \u001b[39mreturn\u001b[39;00m \u001b[39mself\u001b[39m\u001b[39m.\u001b[39m_fetch_model_version_if_exists(name, version)\n",
      "File \u001b[0;32m~/miniconda3/lib/python3.10/site-packages/mlflow/utils/validation.py:376\u001b[0m, in \u001b[0;36m_validate_model_version\u001b[0;34m(model_version)\u001b[0m\n\u001b[1;32m    374\u001b[0m     model_version \u001b[39m=\u001b[39m \u001b[39mint\u001b[39m(model_version)\n\u001b[1;32m    375\u001b[0m \u001b[39mexcept\u001b[39;00m \u001b[39mValueError\u001b[39;00m:\n\u001b[0;32m--> 376\u001b[0m     \u001b[39mraise\u001b[39;00m MlflowException(\n\u001b[1;32m    377\u001b[0m         \u001b[39mf\u001b[39m\u001b[39m\"\u001b[39m\u001b[39mModel version must be an integer, got \u001b[39m\u001b[39m'\u001b[39m\u001b[39m{\u001b[39;00mmodel_version\u001b[39m}\u001b[39;00m\u001b[39m'\u001b[39m\u001b[39m\"\u001b[39m,\n\u001b[1;32m    378\u001b[0m         error_code\u001b[39m=\u001b[39mINVALID_PARAMETER_VALUE,\n\u001b[1;32m    379\u001b[0m     )\n",
      "\u001b[0;31mMlflowException\u001b[0m: Model version must be an integer, got 'Production'"
     ]
    }
   ],
   "source": [
    "from mlflow import MlflowClient\n",
    "\n",
    "client = MlflowClient(registry_uri=mlflow.get_registry_uri())\n",
    "(name, version) = (model_name, model_stage)\n",
    "download_uri = client.get_model_version_download_uri(name, version)"
   ]
  },
  {
   "cell_type": "code",
   "execution_count": null,
   "metadata": {},
   "outputs": [],
   "source": []
  }
 ],
 "metadata": {
  "kernelspec": {
   "display_name": "base",
   "language": "python",
   "name": "python3"
  },
  "language_info": {
   "codemirror_mode": {
    "name": "ipython",
    "version": 3
   },
   "file_extension": ".py",
   "mimetype": "text/x-python",
   "name": "python",
   "nbconvert_exporter": "python",
   "pygments_lexer": "ipython3",
   "version": "3.10.10"
  },
  "orig_nbformat": 4
 },
 "nbformat": 4,
 "nbformat_minor": 2
}
