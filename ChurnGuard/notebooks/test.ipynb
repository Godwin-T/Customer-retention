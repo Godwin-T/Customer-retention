{
 "cells": [
  {
   "cell_type": "code",
   "execution_count": null,
   "metadata": {},
   "outputs": [],
   "source": [
    "import pandas as pd"
   ]
  },
  {
   "cell_type": "code",
   "execution_count": null,
   "metadata": {},
   "outputs": [],
   "source": [
    "data_path = '/home/godwin/Documents/Workflow/Churn-Prediction-in-a-Telecom-Company/data/Telco-Customer-Churn.csv'\n",
    "data = pd.read_csv(data_path)"
   ]
  },
  {
   "cell_type": "code",
   "execution_count": null,
   "metadata": {},
   "outputs": [],
   "source": [
    "import os\n",
    "path = '/home/godwin/Documents/Workflow/Churn-Prediction-in-a-Telecom-Company/mlruns/1/62d11921be9a43ca8fe1fdae4478eb24/artifacts/model/.'\n",
    "\n",
    "if os.path.exists(path):\n",
    "    print(True)"
   ]
  },
  {
   "cell_type": "code",
   "execution_count": null,
   "metadata": {},
   "outputs": [],
   "source": [
    "import urllib\n",
    "\n",
    "model_name = \"Custormer-churn-models\"\n",
    "model_stage=\"Production\"\n",
    "# loaded_model = mlflow.pyfunc.load_model(f\"models:/{model_name}/{model_stage}\")\n",
    "path = f\"models:/{model_name}/{model_stage}\"\n",
    "\n",
    "def split_models_uri(uri):\n",
    "        \"\"\"\n",
    "        Split 'models:/<name>/<version>/path/to/model' into\n",
    "        ('models:/<name>/<version>', 'path/to/model').\n",
    "        \"\"\"\n",
    "        path = urllib.parse.urlparse(uri).path\n",
    "        if path.count(\"/\") >= 3 and not path.endswith(\"/\"):\n",
    "            splits = path.split(\"/\", 3)\n",
    "            model_name_and_version = splits[:3]\n",
    "            artifact_path = splits[-1]\n",
    "            return \"models:\" + \"/\".join(model_name_and_version), artifact_path\n",
    "        return uri, \"\""
   ]
  },
  {
   "cell_type": "code",
   "execution_count": null,
   "metadata": {},
   "outputs": [],
   "source": [
    "split_models_uri(path)"
   ]
  },
  {
   "cell_type": "code",
   "execution_count": null,
   "metadata": {},
   "outputs": [],
   "source": [
    "import mlflow\n",
    "\n",
    "mlflow.get_registry_uri()\n",
    "\n",
    "sqlite:////app/mlflow.db"
   ]
  },
  {
   "cell_type": "code",
   "execution_count": null,
   "metadata": {},
   "outputs": [],
   "source": [
    "parsed = urllib.parse.urlparse(path, allow_fragments=False)\n",
    "path = parsed.path\n",
    "parts = path.lstrip(\"/\").split(\"/\")\n",
    "parts"
   ]
  },
  {
   "cell_type": "code",
   "execution_count": null,
   "metadata": {},
   "outputs": [],
   "source": [
    "from mlflow import MlflowClient\n",
    "\n",
    "client = MlflowClient(registry_uri=mlflow.get_registry_uri())\n",
    "(name, version) = (model_name, model_stage)\n",
    "download_uri = client.get_model_version_download_uri(name, version)"
   ]
  },
  {
   "cell_type": "code",
   "execution_count": null,
   "metadata": {},
   "outputs": [],
   "source": []
  }
 ],
 "metadata": {
  "kernelspec": {
   "display_name": "base",
   "language": "python",
   "name": "python3"
  },
  "language_info": {
   "codemirror_mode": {
    "name": "ipython",
    "version": 3
   },
   "file_extension": ".py",
   "mimetype": "text/x-python",
   "name": "python",
   "nbconvert_exporter": "python",
   "pygments_lexer": "ipython3",
   "version": "3.10.10"
  }
 },
 "nbformat": 4,
 "nbformat_minor": 2
}
